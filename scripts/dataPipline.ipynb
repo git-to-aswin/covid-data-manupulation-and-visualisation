{
 "cells": [
  {
   "cell_type": "markdown",
   "metadata": {},
   "source": [
    "# Bulding model for schema\n",
    "\n",
    "![database schema](../Material/ER-1.png)"
   ]
  },
  {
   "cell_type": "markdown",
   "metadata": {},
   "source": [
    "### SQL Query for creating a table"
   ]
  },
  {
   "cell_type": "markdown",
   "metadata": {
    "vscode": {
     "languageId": "sql"
    }
   },
   "source": [
    "The query for the creation of the table can be found in this \"Database.sql\"\n",
    "\n",
    "[Schema](../Database.sql)"
   ]
  },
  {
   "cell_type": "markdown",
   "metadata": {},
   "source": [
    "## Building entites data"
   ]
  },
  {
   "cell_type": "code",
   "execution_count": 1,
   "metadata": {},
   "outputs": [],
   "source": [
    "from csvRW import read_csv, create_csv, read_csv_without_header, append_row_to_csv"
   ]
  },
  {
   "cell_type": "markdown",
   "metadata": {},
   "source": [
    "#### Source Schema\n",
    "```\n",
    "Source(_source_id_, source_name, source_website)\n",
    "```"
   ]
  },
  {
   "cell_type": "code",
   "execution_count": 2,
   "metadata": {},
   "outputs": [
    {
     "name": "stdout",
     "output_type": "stream",
     "text": [
      "File is successfully read ../covid-19-data/locations.csv\n",
      "File is successfully created at ../model/Source.csv\n"
     ]
    }
   ],
   "source": [
    "raw_data = read_csv(\"../covid-19-data/locations.csv\")\n",
    "result = list(set([(data['source_name'],data['source_website']) for data in raw_data]))\n",
    "result.append(['',''])\n",
    "create_csv(\"../model/Source.csv\",result)"
   ]
  },
  {
   "cell_type": "markdown",
   "metadata": {},
   "source": [
    "#### Country Schema "
   ]
  },
  {
   "cell_type": "markdown",
   "metadata": {},
   "source": [
    "Read all country iso\n",
    "```\n",
    "Country(_iso_code_*,location, source_id*, last_observation_date)\n",
    "```"
   ]
  },
  {
   "cell_type": "code",
   "execution_count": 3,
   "metadata": {},
   "outputs": [
    {
     "name": "stdout",
     "output_type": "stream",
     "text": [
      "File is successfully read ../covid-19-data/iso.csv\n",
      "File is successfully read ../covid-19-data/locations.csv\n",
      "File is successfully created at ../model/Country.csv\n"
     ]
    }
   ],
   "source": [
    "raw_data = read_csv(\"../covid-19-data/iso.csv\")\n",
    "resultLocation ={}\n",
    "for data in raw_data:\n",
    "    resultLocation[data['iso_code']] = data[\"location\"]\n",
    "raw_data = read_csv(\"../covid-19-data/locations.csv\")\n",
    "source = read_csv_without_header(\"../model/Source.csv\")\n",
    "\n",
    "result = []\n",
    "for data in raw_data:\n",
    "    if [data['source_name'],data['source_website']] in source:\n",
    "        result.append([data['iso_code'],data['location'],source.index([data['source_name'],data['source_website']])+1, data['last_observation_date']])\n",
    "        del resultLocation[data['iso_code']]\n",
    "    else:\n",
    "        print(\"Missed country\",data['iso_code'])\n",
    "\n",
    "for iso_code, location in resultLocation.items():\n",
    "    result.append([iso_code,location,108,''])\n",
    "\n",
    "create_csv(\"../model/Country.csv\",result)"
   ]
  },
  {
   "cell_type": "markdown",
   "metadata": {},
   "source": [
    "#### Age_Group Schema\n",
    "```\n",
    "Age_group(_age_group_)\n",
    "```"
   ]
  },
  {
   "cell_type": "code",
   "execution_count": 4,
   "metadata": {},
   "outputs": [
    {
     "name": "stdout",
     "output_type": "stream",
     "text": [
      "File is successfully read ../covid-19-data/vaccinations-by-age-group.csv\n",
      "File is successfully created at ../model/Age_group.csv\n"
     ]
    }
   ],
   "source": [
    "raw_data = read_csv(\"../covid-19-data/vaccinations-by-age-group.csv\")\n",
    "\n",
    "result = set([data['age_group']for data in raw_data])\n",
    "result = [[data]for data in result]\n",
    "create_csv(\"../model/Age_group.csv\",result)"
   ]
  },
  {
   "cell_type": "markdown",
   "metadata": {},
   "source": [
    "#### Vaccine Schema\n",
    "```\n",
    "Vaccine(_vaccine_)\n",
    "```"
   ]
  },
  {
   "cell_type": "code",
   "execution_count": 5,
   "metadata": {},
   "outputs": [
    {
     "name": "stdout",
     "output_type": "stream",
     "text": [
      "File is successfully read ../covid-19-data/locations.csv\n",
      "File is successfully read ../covid-19-data/vaccinations-by-manufacturer.csv\n",
      "File is successfully created at ../model/Vaccine.csv\n"
     ]
    }
   ],
   "source": [
    "raw_data_loc = read_csv(\"../covid-19-data/locations.csv\")\n",
    "raw_data_manu = read_csv(\"../covid-19-data/vaccinations-by-manufacturer.csv\")\n",
    "\n",
    "result = []\n",
    "for data in raw_data_loc:\n",
    "    result.append(data['vaccines'].split(\",\"))\n",
    "\n",
    "result = [x.strip() for xs in result for x in xs]\n",
    "\n",
    "for data in raw_data_manu:\n",
    "    result.append(data['vaccine'].strip())\n",
    "\n",
    "result = [[val]for val in list(set(result))]\n",
    "\n",
    "create_csv(\"../model/Vaccine.csv\",result)"
   ]
  },
  {
   "cell_type": "markdown",
   "metadata": {},
   "source": [
    "#### Population_Country schema\n",
    "```\n",
    "Population_Country(_iso_code_*, year, population)\n",
    "```"
   ]
  },
  {
   "cell_type": "code",
   "execution_count": 6,
   "metadata": {},
   "outputs": [
    {
     "name": "stdout",
     "output_type": "stream",
     "text": [
      "File is successfully read ../covid-19-data/population_latest.csv\n",
      "File is successfully created at ../model/Population_Country.csv\n"
     ]
    }
   ],
   "source": [
    "raw_data_loc = read_csv_without_header(\"../model/Country.csv\")\n",
    "raw_data_loc = [data[0] for data in raw_data_loc]\n",
    "\n",
    "raw_data = read_csv(\"../covid-19-data/population_latest.csv\")\n",
    "\n",
    "result = [[data['iso_code'],data['year'],data['population']] for data in raw_data if data['iso_code'] in raw_data_loc]\n",
    "\n",
    "create_csv(\"../model/Population_Country.csv\",result)"
   ]
  },
  {
   "cell_type": "markdown",
   "metadata": {},
   "source": [
    "#### Country_Vaccine Schema\n",
    "```\n",
    "Country_Vaccine(_iso_code_*,_vaccine_*)\n",
    "```\n"
   ]
  },
  {
   "cell_type": "code",
   "execution_count": 11,
   "metadata": {},
   "outputs": [
    {
     "name": "stdout",
     "output_type": "stream",
     "text": [
      "File is successfully read ../covid-19-data/locations.csv\n",
      "File is successfully created at ../model/Country_Vaccine.csv\n"
     ]
    }
   ],
   "source": [
    "raw_data_iso = read_csv_without_header(\"../model/Country.csv\")\n",
    "raw_data_iso = [data[0] for data in raw_data_iso]\n",
    "\n",
    "raw_data_vac = read_csv_without_header(\"../model/Vaccine.csv\")\n",
    "raw_data_vac = [data[0] for data in raw_data_vac]\n",
    "\n",
    "raw_data_loc = read_csv(\"../covid-19-data/locations.csv\")\n",
    "\n",
    "result = []\n",
    "for data in raw_data_loc:\n",
    "    vaccineList = [val.strip() for val in data['vaccines'].split(\",\")]\n",
    "\n",
    "    if data['iso_code'] in raw_data_iso:\n",
    "        for vaccine in vaccineList:\n",
    "            if vaccine in raw_data_vac:\n",
    "                result.append((data['iso_code'],vaccine))\n",
    "            else:\n",
    "                print(\"No entered vaccine table \",vaccine)\n",
    "    else:\n",
    "        print(\"No entered country table \",data['iso_code'])\n",
    "\n",
    "create_csv(\"../model/Country_Vaccine.csv\",set(result))\n"
   ]
  },
  {
   "cell_type": "markdown",
   "metadata": {},
   "source": [
    "#### Manufacture_date Schema\n",
    "\n",
    "```Manufacture_date(_iso_code_*, _date_, _vaccine_*, total_vaccinations)```"
   ]
  },
  {
   "cell_type": "code",
   "execution_count": 9,
   "metadata": {},
   "outputs": [
    {
     "name": "stdout",
     "output_type": "stream",
     "text": [
      "File is successfully created at ../model/Manufacture_date.csv\n"
     ]
    }
   ],
   "source": [
    "raw_data_iso = read_csv_without_header(\"../model/Country.csv\")\n",
    "iso_map = {}\n",
    "\n",
    "for data in raw_data_iso:\n",
    "    iso_map[data[1]] = data[0]\n",
    "    \n",
    "result = []\n",
    "\n",
    "for data in raw_data_manu:\n",
    "    if data['location'] in iso_map.keys():\n",
    "        if data['vaccine'] in raw_data_vac:\n",
    "           result.append([iso_map[data['location']],data['date'],data['vaccine'], data['total_vaccinations']])\n",
    "        else:\n",
    "            print(data['vaccine'],\" is not in vaccine table\")\n",
    "            break\n",
    "    else:\n",
    "        print(data['location'],\" is not in country table\")  \n",
    "\n",
    "create_csv(\"../model/Manufacture_date.csv\",result)"
   ]
  },
  {
   "cell_type": "markdown",
   "metadata": {},
   "source": [
    "#### Vaccination Schema\n",
    "\n",
    "```Vaccination(_iso_code_*, _date_, total_vaccinations, people_vaccinated, people_fully_vaccinated, total_booster, daily_vaccination_raw, daily_vaccination, daily_people_vaccinated)```"
   ]
  },
  {
   "cell_type": "code",
   "execution_count": null,
   "metadata": {},
   "outputs": [],
   "source": [
    "iso_list = iso_map.values()\n",
    "raw_data_vac = read_csv(\"../covid-19-data/vaccinations.csv\")\n",
    "\n",
    "result = []\n",
    "for data in raw_data_vac:\n",
    "    if data['iso_code'] in iso_list:\n",
    "        pass\n",
    "    else:\n",
    "        print(\"Missing iso code in country table\",data['iso_code'])\n",
    "        append_row_to_csv(\"../model/Country.csv\",[data['iso_code'],data['location'],'',''])\n",
    "    \n",
    "    result.append([data['iso_code'],data['date'],data['total_vaccinations'],data['people_vaccinated'],data['people_fully_vaccinated'],data['total_boosters'],data['daily_vaccinations_raw'],data['daily_vaccinations'], data['daily_people_vaccinated']])\n",
    "\n",
    "# Reload the data of country table\n",
    "\n",
    "create_csv(\"../model/Vaccination.csv\",result)"
   ]
  },
  {
   "cell_type": "markdown",
   "metadata": {},
   "source": [
    "#### State_Vaccination\n",
    "\n",
    "```State_Vaccinations(_iso_code_*, _date_*, _states_, total_vaccinations, total_distributed, people_vaccinated, people_fully_vaccinated, daily_vaccination_raw, daily_vaccinations, share_doses_used, total_boosters, population)```"
   ]
  },
  {
   "cell_type": "code",
   "execution_count": null,
   "metadata": {},
   "outputs": [],
   "source": [
    "model_vac = read_csv_without_header(\"../model/Vaccination.csv\")\n",
    "\n",
    "iso_code ='USA'\n",
    "fk = [data[1] for data in model_vac if data[0] == iso_code]\n",
    "\n",
    "raw_data_states = read_csv(\"../covid-19-data/us_state_vaccinations.csv\")\n",
    "\n",
    "result = []\n",
    "for data in raw_data_states:\n",
    "    if data['date'] in fk:\n",
    "        population = 0\n",
    "        if data['total_vaccinations_per_hundred'].replace('.','',1).isdigit() and float(data['total_vaccinations_per_hundred']) != 0:\n",
    "            population = (float(data['total_vaccinations'])/float(data['total_vaccinations_per_hundred']))*100\n",
    "            \n",
    "        result.append([iso_code,data['date'],data['location'],data['total_vaccinations'],data['total_distributed'],data['people_vaccinated'],data['people_fully_vaccinated'],data['daily_vaccinations_raw'],data['daily_vaccinations'],data['share_doses_used'],data['total_boosters'],population])\n",
    "    else:\n",
    "        print(f\"{data['date']} is not in vaccination table for {iso_code}\")\n",
    "\n",
    "create_csv(\"../model/State_Vaccination.csv\",result)"
   ]
  },
  {
   "cell_type": "markdown",
   "metadata": {},
   "source": [
    "#### Vaccination_Age Schema \n",
    "```Vaccination_age(iso_code*, date*, age_group*, people_vaccinated_per_hundred, people_fully_vaccinated_per_hundred, people_with_booster_per_hundred)```"
   ]
  },
  {
   "cell_type": "code",
   "execution_count": null,
   "metadata": {},
   "outputs": [],
   "source": [
    "fk = [f\"{data[0]}{data[1]}\" for data in model_vac]\n",
    "\n",
    "raw_data_age_grp = read_csv(\"../covid-19-data/vaccinations-by-age-group.csv\")\n",
    "\n",
    "result = []\n",
    "for data in raw_data_age_grp:\n",
    "    if f\"{iso_map[data['location']]}{data['date']}\" in fk:\n",
    "        result.append([iso_map[data['location']],data['date'],data['age_group'],data['people_vaccinated_per_hundred'],data[\"people_fully_vaccinated_per_hundred\"],data[\"people_with_booster_per_hundred\"]])\n",
    "    else:\n",
    "        print(\"Not in parent vaccination table\",data['location'],data['date'])\n",
    "\n",
    "create_csv(\"../model/Vaccination_age.csv\",result)"
   ]
  },
  {
   "cell_type": "markdown",
   "metadata": {},
   "source": [
    "On the data manupulation, the csv for respective schema is build and it can be imported to it's respective table in sqllite."
   ]
  }
 ],
 "metadata": {
  "kernelspec": {
   "display_name": "Python 3",
   "language": "python",
   "name": "python3"
  },
  "language_info": {
   "codemirror_mode": {
    "name": "ipython",
    "version": 3
   },
   "file_extension": ".py",
   "mimetype": "text/x-python",
   "name": "python",
   "nbconvert_exporter": "python",
   "pygments_lexer": "ipython3",
   "version": "3.12.3"
  }
 },
 "nbformat": 4,
 "nbformat_minor": 2
}
