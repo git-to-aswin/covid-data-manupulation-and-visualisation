{
 "cells": [
  {
   "cell_type": "markdown",
   "metadata": {},
   "source": [
    "# Create database and import the data\n",
    "\n",
    "The schema created in the dataPipeline notebook is now entering the database as per the given schema.\n",
    "\n",
    "The query for the creation of the table can be found in this \"Database.sql\"\n",
    "[Schema](../Database.sql)\n"
   ]
  },
  {
   "cell_type": "markdown",
   "metadata": {},
   "source": [
    "#### SQL Query for creating a table\n",
    "\n",
    "Let's start with creating the database with the given schema"
   ]
  },
  {
   "cell_type": "code",
   "execution_count": 4,
   "metadata": {},
   "outputs": [],
   "source": [
    "import sys\n",
    "sys.path.append('..')"
   ]
  },
  {
   "cell_type": "code",
   "execution_count": 5,
   "metadata": {},
   "outputs": [
    {
     "name": "stdout",
     "output_type": "stream",
     "text": [
      "table vaccine already exists\n"
     ]
    }
   ],
   "source": [
    "from scripts.query import queryFile, queryDB\n",
    "from scripts.csvRW import read_csv_without_header\n",
    "\n",
    "queryFile(\"../Database.sql\")"
   ]
  },
  {
   "cell_type": "markdown",
   "metadata": {},
   "source": [
    "### Entries in database\n",
    "\n",
    "Follow up with the inserting of data starting from strong schema."
   ]
  },
  {
   "cell_type": "markdown",
   "metadata": {},
   "source": [
    "#### Source Table"
   ]
  },
  {
   "cell_type": "code",
   "execution_count": 6,
   "metadata": {},
   "outputs": [],
   "source": [
    "rows = read_csv_without_header(\"../model/Source.csv\")\n",
    "\n",
    "for data in rows:\n",
    "    queryDB(\"INSERT INTO source ( source_name, source_website ) VALUES ( ?, ? );\",data)"
   ]
  },
  {
   "cell_type": "markdown",
   "metadata": {},
   "source": [
    "#### Country Table "
   ]
  },
  {
   "cell_type": "code",
   "execution_count": 7,
   "metadata": {},
   "outputs": [],
   "source": [
    "rows = read_csv_without_header(\"../model/Country.csv\")\n",
    "\n",
    "for data in rows:\n",
    "    queryDB(\"INSERT INTO country ( iso_code, location, source_id, last_observation_date ) VALUES ( ?, ?, ?, ?);\",data)"
   ]
  },
  {
   "cell_type": "markdown",
   "metadata": {},
   "source": [
    "#### Age_Group Table"
   ]
  },
  {
   "cell_type": "code",
   "execution_count": 8,
   "metadata": {},
   "outputs": [],
   "source": [
    "rows = read_csv_without_header(\"../model/Age_group.csv\")\n",
    "\n",
    "for data in rows:\n",
    "    queryDB(\"INSERT INTO age_group ( age_group ) VALUES ( ? );\",data)"
   ]
  },
  {
   "cell_type": "markdown",
   "metadata": {},
   "source": [
    "#### Vaccine Table"
   ]
  },
  {
   "cell_type": "code",
   "execution_count": 9,
   "metadata": {},
   "outputs": [],
   "source": [
    "rows = read_csv_without_header(\"../model/Vaccine.csv\")\n",
    "\n",
    "for data in rows:\n",
    "    queryDB(\"INSERT INTO vaccine ( vaccine ) VALUES ( ? );\",data)"
   ]
  },
  {
   "cell_type": "markdown",
   "metadata": {},
   "source": [
    "#### Population_Country Table"
   ]
  },
  {
   "cell_type": "code",
   "execution_count": 10,
   "metadata": {},
   "outputs": [],
   "source": [
    "rows = read_csv_without_header(\"../model/Population_Country.csv\")\n",
    "\n",
    "for data in rows:\n",
    "    queryDB(\"INSERT INTO country_population ( iso_code, year, population ) VALUES ( ?, ?, ? );\",data)"
   ]
  },
  {
   "cell_type": "markdown",
   "metadata": {},
   "source": [
    "#### Country_Vaccine Table"
   ]
  },
  {
   "cell_type": "code",
   "execution_count": 11,
   "metadata": {},
   "outputs": [],
   "source": [
    "rows = read_csv_without_header(\"../model/Country_Vaccine.csv\")\n",
    "\n",
    "for data in rows:\n",
    "    queryDB(\"INSERT INTO country_vaccine ( iso_code, vaccine ) VALUES ( ?,?);\",data)"
   ]
  },
  {
   "cell_type": "markdown",
   "metadata": {},
   "source": [
    "#### Manufacture_date Table"
   ]
  },
  {
   "cell_type": "code",
   "execution_count": 12,
   "metadata": {},
   "outputs": [],
   "source": [
    "rows = read_csv_without_header(\"../model/Manufacture_date.csv\")\n",
    "\n",
    "for data in rows:\n",
    "    queryDB(\"INSERT INTO manufacture_date ( iso_code, date, vaccine, total_vaccination ) VALUES ( ?, ?, ?, ? );\",data)"
   ]
  },
  {
   "cell_type": "markdown",
   "metadata": {},
   "source": [
    "#### Vaccination Table"
   ]
  },
  {
   "cell_type": "code",
   "execution_count": 13,
   "metadata": {},
   "outputs": [],
   "source": [
    "rows = read_csv_without_header(\"../model/Vaccination.csv\")\n",
    "\n",
    "for data in rows:\n",
    "    queryDB(\"INSERT INTO vaccination ( iso_code, date, total_vaccinations, people_vaccinated, people_fully_vaccinated, total_booster, daily_vaccination_raw, daily_vaccination, daily_people_vaccinated ) VALUES ( ?, ?, ?, ?, ?, ?, ?, ?, ? );\",data)"
   ]
  },
  {
   "cell_type": "markdown",
   "metadata": {},
   "source": [
    "#### State_Vaccination Table"
   ]
  },
  {
   "cell_type": "code",
   "execution_count": 14,
   "metadata": {},
   "outputs": [],
   "source": [
    "rows = read_csv_without_header(\"../model/State_Vaccination.csv\")\n",
    "\n",
    "for data in rows:\n",
    "    queryDB(\"INSERT INTO state_vaccinations ( iso_code, date, states, total_vaccinations, total_distributed, people_vaccinated, people_fully_vaccinated, daily_vaccination_raw, daily_vaccinations, share_doses_used, total_boosters, population ) VALUES ( ?, ?, ?, ?, ?, ?, ?, ?, ?, ?, ?, ?);\",data)"
   ]
  },
  {
   "cell_type": "markdown",
   "metadata": {},
   "source": [
    "#### Vaccination_Age Table"
   ]
  },
  {
   "cell_type": "code",
   "execution_count": 15,
   "metadata": {},
   "outputs": [],
   "source": [
    "rows = read_csv_without_header(\"../model/Vaccination_age.csv\")\n",
    "\n",
    "for data in rows:\n",
    "    queryDB(\"INSERT INTO vaccination_age ( iso_code, date, age_group, people_vaccinated_per_hundred, people_fully_vaccinated_per_hundred, people_with_booster_per_hundred ) VALUES ( ?,?,?,?,?,? );\",data)"
   ]
  },
  {
   "cell_type": "markdown",
   "metadata": {},
   "source": [
    "The analysis of data and output graphs can be found in the [analysis](./analysis.ipynb) notebook"
   ]
  }
 ],
 "metadata": {
  "kernelspec": {
   "display_name": "env",
   "language": "python",
   "name": "python3"
  },
  "language_info": {
   "codemirror_mode": {
    "name": "ipython",
    "version": 3
   },
   "file_extension": ".py",
   "mimetype": "text/x-python",
   "name": "python",
   "nbconvert_exporter": "python",
   "pygments_lexer": "ipython3",
   "version": "3.11.7"
  }
 },
 "nbformat": 4,
 "nbformat_minor": 2
}
