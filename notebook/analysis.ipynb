{
 "cells": [
  {
   "cell_type": "markdown",
   "metadata": {},
   "source": [
    "# Analysis\n",
    "\n",
    "Query the database based on vaccination provided and analysis with graph"
   ]
  },
  {
   "cell_type": "code",
   "execution_count": 1,
   "metadata": {},
   "outputs": [],
   "source": [
    "import sys\n",
    "sys.path.append('..')"
   ]
  },
  {
   "cell_type": "code",
   "execution_count": 1,
   "metadata": {},
   "outputs": [
    {
     "data": {
      "image/png": "[encoded data removed]",
      "text/plain": [
       "<Figure size 1000x500 with 1 Axes>"
      ]
     },
     "metadata": {},
     "output_type": "display_data"
    }
   ],
   "source": [
    "import numpy as np\n",
    "import matplotlib.pyplot as plt \n",
    "\n",
    "\n",
    "# creating the dataset\n",
    "data = {'C':20, 'C++':15, 'Java':30, \n",
    "\t\t'Python':35}\n",
    "courses = list(data.keys())\n",
    "values = list(data.values())\n",
    "\n",
    "fig = plt.figure(figsize = (10, 5))\n",
    "\n",
    "# creating the bar plot\n",
    "plt.bar(courses, values, color ='maroon', \n",
    "\t\twidth = 0.4)\n",
    "\n",
    "plt.xlabel(\"Courses offered\")\n",
    "plt.ylabel(\"No. of students enrolled\")\n",
    "plt.title(\"Students enrolled in different courses\")\n",
    "plt.show()\n"
   ]
  },
  {
   "cell_type": "markdown",
   "metadata": {},
   "source": [
    "Read all the query in Queries.sql file"
   ]
  },
  {
   "cell_type": "code",
   "execution_count": 2,
   "metadata": {},
   "outputs": [],
   "source": [
    "from scripts.csvRW import read_sql\n",
    "from scripts.query import queryDB\n",
    "\n",
    "import pandas as pd\n",
    "import plotly.express as px\n",
    "\n",
    "queries = read_sql('../Queries.sql')"
   ]
  },
  {
   "cell_type": "markdown",
   "metadata": {},
   "source": [
    "Fetch all country ISO code for later reference"
   ]
  },
  {
   "cell_type": "code",
   "execution_count": 3,
   "metadata": {},
   "outputs": [],
   "source": [
    "countryIso  = queryDB(\"SELECT iso_code, location FROM country;\")\n",
    "countryIso = dict(map(reversed, countryIso))"
   ]
  },
  {
   "cell_type": "markdown",
   "metadata": {},
   "source": [
    "#### Graphical understanding of observation for vaccination administered in between two month.\n",
    "\n",
    "List the months, the total number of vaccines administered in each observation months in each of all countries."
   ]
  },
  {
   "cell_type": "code",
   "execution_count": 4,
   "metadata": {},
   "outputs": [
    {
     "data": {
      "application/vnd.plotly.v1+json": {
       "config": {
        "plotlyServerURL": "https://plot.ly"
       },
       "data": [
        {
         "coloraxis": "coloraxis",
         "geo": "geo",
         "hovertemplate": "<b>%{hovertext}</b><br><br>Country=%{location}<br>Change=%{z}<extra></extra>",
         "hovertext": [
          "ABW",
          "AFG",
          "AGO",
          "AIA",
          "ALB",
          "AND",
          "ARE",
          "ARG",
          "ARM",
          "ATG",
          "AUS",
          "AUT",
          "AZE",
          "BDI",
          "BEL",
          "BEN",
          "BFA",
          "BGD",
          "BGR",
          "BHR",
          "BHS",
          "BLR",
          "BLZ",
          "BMU",
          "BOL",
          "BRA",
          "BRB",
          "BRN",
          "BTN",
          "BWA",
          "CAF",
          "CAN",
          "CHE",
          "CHL",
          "CHN",
          "CIV",
          "CMR",
          "COD",
          "COG",
          "COK",
          "COL",
          "COM",
          "CPV",
          "CRI",
          "CUB",
          "CUW",
          "CYM",
          "CYP",
          "CZE",
          "DEU",
          "DJI",
          "DMA",
          "DNK",
          "DOM",
          "DZA",
          "ECU",
          "EGY",
          "ESP",
          "EST",
          "ETH",
          "FIN",
          "FJI",
          "FRA",
          "GAB",
          "GBR",
          "GEO",
          "GGY",
          "GHA",
          "GIB",
          "GIN",
          "GMB",
          "GNB",
          "GNQ",
          "GRC",
          "GRD",
          "GTM",
          "GUY",
          "HKG",
          "HND",
          "HRV",
          "HTI",
          "HUN",
          "IDN",
          "IMN",
          "IND",
          "IRL",
          "IRN",
          "IRQ",
          "ISR",
          "ITA",
          "JAM",
          "JEY",
          "JOR",
          "JPN",
          "KAZ",
          "KEN",
          "KGZ",
          "KHM",
          "KIR",
          "KNA",
          "KOR",
          "KWT",
          "LAO",
          "LBN",
          "LBR",
          "LBY",
          "LCA",
          "LIE",
          "LKA",
          "LSO",
          "LTU",
          "LUX",
          "LVA",
          "MAC",
          "MAR",
          "MDA",
          "MDG",
          "MDV",
          "MEX",
          "MKD",
          "MLI",
          "MLT",
          "MMR",
          "MNE",
          "MNG",
          "MOZ",
          "MRT",
          "MSR",
          "MUS",
          "MWI",
          "MYS",
          "NAM",
          "NCL",
          "NER",
          "NGA",
          "NIC",
          "NIU",
          "NLD",
          "NOR",
          "NPL",
          "NRU",
          "NZL",
          "OMN",
          "OWID_AFR",
          "OWID_ASI",
          "OWID_CYN",
          "OWID_ENG",
          "OWID_EUN",
          "OWID_EUR",
          "OWID_HIC",
          "OWID_KOS",
          "OWID_LIC",
          "OWID_LMC",
          "OWID_NAM",
          "OWID_NIR",
          "OWID_OCE",
          "OWID_SAM",
          "OWID_SCT",
          "OWID_UMC",
          "OWID_WLS",
          "OWID_WRL",
          "PAK",
          "PAN",
          "PCN",
          "PER",
          "PHL",
          "PNG",
          "POL",
          "PRT",
          "PRY",
          "PSE",
          "PYF",
          "QAT",
          "ROU",
          "RUS",
          "RWA",
          "SAU",
          "SDN",
          "SEN",
          "SGP",
          "SLB",
          "SLE",
          "SLV",
          "SMR",
          "SOM",
          "SRB",
          "SSD",
          "STP",
          "SUR",
          "SVK",
          "SVN",
          "SWE",
          "SWZ",
          "SXM",
          "SYC",
          "SYR",
          "TCA",
          "TCD",
          "TGO",
          "THA",
          "TJK",
          "TKL",
          "TKM",
          "TLS",
          "TON",
          "TTO",
          "TUN",
          "TUR",
          "TUV",
          "TWN",
          "TZA",
          "UGA",
          "UKR",
          "URY",
          "USA",
          "UZB",
          "VCT",
          "VEN",
          "VGB",
          "VNM",
          "VUT",
          "WLF",
          "WSM",
          "YEM",
          "ZAF",
          "ZMB",
          "ZWE"
         ],
         "locations": [
          "ABW",
          "AFG",
          "AGO",
          "AIA",
          "ALB",
          "AND",
          "ARE",
          "ARG",
          "ARM",
          "ATG",
          "AUS",
          "AUT",
          "AZE",
          "BDI",
          "BEL",
          "BEN",
          "BFA",
          "BGD",
          "BGR",
          "BHR",
          "BHS",
          "BLR",
          "BLZ",
          "BMU",
          "BOL",
          "BRA",
          "BRB",
          "BRN",
          "BTN",
          "BWA",
          "CAF",
          "CAN",
          "CHE",
          "CHL",
          "CHN",
          "CIV",
          "CMR",
          "COD",
          "COG",
          "COK",
          "COL",
          "COM",
          "CPV",
          "CRI",
          "CUB",
          "CUW",
          "CYM",
          "CYP",
          "CZE",
          "DEU",
          "DJI",
          "DMA",
          "DNK",
          "DOM",
          "DZA",
          "ECU",
          "EGY",
          "ESP",
          "EST",
          "ETH",
          "FIN",
          "FJI",
          "FRA",
          "GAB",
          "GBR",
          "GEO",
          "GGY",
          "GHA",
          "GIB",
          "GIN",
          "GMB",
          "GNB",
          "GNQ",
          "GRC",
          "GRD",
          "GTM",
          "GUY",
          "HKG",
          "HND",
          "HRV",
          "HTI",
          "HUN",
          "IDN",
          "IMN",
          "IND",
          "IRL",
          "IRN",
          "IRQ",
          "ISR",
          "ITA",
          "JAM",
          "JEY",
          "JOR",
          "JPN",
          "KAZ",
          "KEN",
          "KGZ",
          "KHM",
          "KIR",
          "KNA",
          "KOR",
          "KWT",
          "LAO",
          "LBN",
          "LBR",
          "LBY",
          "LCA",
          "LIE",
          "LKA",
          "LSO",
          "LTU",
          "LUX",
          "LVA",
          "MAC",
          "MAR",
          "MDA",
          "MDG",
          "MDV",
          "MEX",
          "MKD",
          "MLI",
          "MLT",
          "MMR",
          "MNE",
          "MNG",
          "MOZ",
          "MRT",
          "MSR",
          "MUS",
          "MWI",
          "MYS",
          "NAM",
          "NCL",
          "NER",
          "NGA",
          "NIC",
          "NIU",
          "NLD",
          "NOR",
          "NPL",
          "NRU",
          "NZL",
          "OMN",
          "OWID_AFR",
          "OWID_ASI",
          "OWID_CYN",
          "OWID_ENG",
          "OWID_EUN",
          "OWID_EUR",
          "OWID_HIC",
          "OWID_KOS",
          "OWID_LIC",
          "OWID_LMC",
          "OWID_NAM",
          "OWID_NIR",
          "OWID_OCE",
          "OWID_SAM",
          "OWID_SCT",
          "OWID_UMC",
          "OWID_WLS",
          "OWID_WRL",
          "PAK",
          "PAN",
          "PCN",
          "PER",
          "PHL",
          "PNG",
          "POL",
          "PRT",
          "PRY",
          "PSE",
          "PYF",
          "QAT",
          "ROU",
          "RUS",
          "RWA",
          "SAU",
          "SDN",
          "SEN",
          "SGP",
          "SLB",
          "SLE",
          "SLV",
          "SMR",
          "SOM",
          "SRB",
          "SSD",
          "STP",
          "SUR",
          "SVK",
          "SVN",
          "SWE",
          "SWZ",
          "SXM",
          "SYC",
          "SYR",
          "TCA",
          "TCD",
          "TGO",
          "THA",
          "TJK",
          "TKL",
          "TKM",
          "TLS",
          "TON",
          "TTO",
          "TUN",
          "TUR",
          "TUV",
          "TWN",
          "TZA",
          "UGA",
          "UKR",
          "URY",
          "USA",
          "UZB",
          "VCT",
          "VEN",
          "VGB",
          "VNM",
          "VUT",
          "WLF",
          "WSM",
          "YEM",
          "ZAF",
          "ZMB",
          "ZWE"
         ],
         "name": "",
         "type": "choropleth",
         "z": [
          16444,
          525898,
          19491514,
          47335,
          -2529540,
          153993,
          124492968,
          195678853,
          8193,
          125877,
          98724690,
          -17910341,
          -52399075,
          29343,
          1441359,
          3840121,
          6355716,
          -979817428,
          22425715,
          17260600,
          -680412,
          2090236,
          -461335,
          -127683,
          22613636,
          1149810771,
          663825,
          2446487,
          -1777019,
          8501143,
          1185512,
          139922786,
          1087065,
          142708323,
          4943001000,
          1287050,
          -1812505,
          1550120,
          1660758,
          -39596,
          -894961176,
          -642320,
          2282714,
          1535129,
          166282069,
          1079633,
          3924,
          -5329935,
          19594212,
          238609498,
          43576,
          -65158,
          -12876067,
          142063421,
          16639664,
          161483698,
          171986186,
          1385124,
          2246580,
          2040712,
          691208,
          1556474,
          178575772,
          1116912,
          246229457,
          -31438013,
          156840,
          60246492,
          -713905,
          12255398,
          720000,
          -562620,
          483230,
          28475943,
          -84589,
          -14166079,
          -1770077,
          42970206,
          -7438810,
          21302652,
          -482418,
          -32920824,
          1814032585,
          -568879,
          12672552170,
          13152311,
          176036840,
          1352937,
          18980431,
          167768264,
          -1013541,
          246682,
          19942851,
          604490358,
          0,
          54788374,
          14469176,
          -816368112,
          154955,
          0,
          216354602,
          302936,
          -6759258,
          -94704931,
          159407,
          20438,
          -113700,
          -211047,
          39963476,
          -933825,
          4747720,
          1514027,
          3110478,
          12642691,
          55057799,
          -25639054,
          0,
          -1874371,
          -556491274,
          -1841819,
          6428557,
          1988887,
          -191812289,
          4096925,
          -54806786,
          0,
          3370718,
          -12667,
          2548623,
          2278219,
          103911133,
          0,
          466248,
          4423,
          93109518,
          21521537,
          0,
          -31854423,
          12277123,
          79479118,
          -22976,
          12795155,
          -21093552,
          1368857788,
          13200155258,
          0,
          203302217,
          1091436874,
          1669095336,
          3903243012,
          11049713,
          403650899,
          7510276845,
          1828455320,
          -1106372,
          122902082,
          1592103800,
          21842618,
          7964288636,
          14246809,
          19781569584,
          1296680026,
          -7382177,
          0,
          178698907,
          -414703318,
          1340,
          495455656,
          -23227294,
          348809,
          -3690686,
          3217,
          63710841,
          17901398,
          -807204417,
          84414872,
          0,
          8370007,
          2469499,
          19909510,
          -671595,
          2930408,
          -9934295,
          -68825,
          429395,
          51164932,
          1542623,
          417314,
          -504395,
          5774584,
          -8768441,
          25523396,
          0,
          0,
          202392,
          -6725944,
          665,
          -2285399,
          0,
          248642871,
          -9833828,
          0,
          0,
          1884078,
          -157869,
          174627,
          -39180224,
          745910340,
          -12528,
          327321118,
          8548385,
          44023693,
          0,
          12975648,
          944431090,
          -33858557,
          -418032,
          0,
          419,
          377115320,
          96204,
          -32337,
          -693869,
          867341,
          241534901,
          -1369752,
          43043351
         ]
        }
       ],
       "layout": {
        "coloraxis": {
         "colorbar": {
          "title": {
           "text": "Change"
          }
         },
         "colorscale": [
          [
           0,
           "#0d0887"
          ],
          [
           0.1111111111111111,
           "#46039f"
          ],
          [
           0.2222222222222222,
           "#7201a8"
          ],
          [
           0.3333333333333333,
           "#9c179e"
          ],
          [
           0.4444444444444444,
           "#bd3786"
          ],
          [
           0.5555555555555556,
           "#d8576b"
          ],
          [
           0.6666666666666666,
           "#ed7953"
          ],
          [
           0.7777777777777778,
           "#fb9f3a"
          ],
          [
           0.8888888888888888,
           "#fdca26"
          ],
          [
           1,
           "#f0f921"
          ]
         ]
        },
        "geo": {
         "center": {},
         "domain": {
          "x": [
           0,
           1
          ],
          "y": [
           0,
           1
          ]
         }
        },
        "legend": {
         "tracegroupgap": 0
        },
        "template": {
         "data": {
          "bar": [
           {
            "error_x": {
             "color": "#2a3f5f"
            },
            "error_y": {
             "color": "#2a3f5f"
            },
            "marker": {
             "line": {
              "color": "#E5ECF6",
              "width": 0.5
             },
             "pattern": {
              "fillmode": "overlay",
              "size": 10,
              "solidity": 0.2
             }
            },
            "type": "bar"
           }
          ],
          "barpolar": [
           {
            "marker": {
             "line": {
              "color": "#E5ECF6",
              "width": 0.5
             },
             "pattern": {
              "fillmode": "overlay",
              "size": 10,
              "solidity": 0.2
             }
            },
            "type": "barpolar"
           }
          ],
          "carpet": [
           {
            "aaxis": {
             "endlinecolor": "#2a3f5f",
             "gridcolor": "white",
             "linecolor": "white",
             "minorgridcolor": "white",
             "startlinecolor": "#2a3f5f"
            },
            "baxis": {
             "endlinecolor": "#2a3f5f",
             "gridcolor": "white",
             "linecolor": "white",
             "minorgridcolor": "white",
             "startlinecolor": "#2a3f5f"
            },
            "type": "carpet"
           }
          ],
          "choropleth": [
           {
            "colorbar": {
             "outlinewidth": 0,
             "ticks": ""
            },
            "type": "choropleth"
           }
          ],
          "contour": [
           {
            "colorbar": {
             "outlinewidth": 0,
             "ticks": ""
            },
            "colorscale": [
             [
              0,
              "#0d0887"
             ],
             [
              0.1111111111111111,
              "#46039f"
             ],
             [
              0.2222222222222222,
              "#7201a8"
             ],
             [
              0.3333333333333333,
              "#9c179e"
             ],
             [
              0.4444444444444444,
              "#bd3786"
             ],
             [
              0.5555555555555556,
              "#d8576b"
             ],
             [
              0.6666666666666666,
              "#ed7953"
             ],
             [
              0.7777777777777778,
              "#fb9f3a"
             ],
             [
              0.8888888888888888,
              "#fdca26"
             ],
             [
              1,
              "#f0f921"
             ]
            ],
            "type": "contour"
           }
          ],
          "contourcarpet": [
           {
            "colorbar": {
             "outlinewidth": 0,
             "ticks": ""
            },
            "type": "contourcarpet"
           }
          ],
          "heatmap": [
           {
            "colorbar": {
             "outlinewidth": 0,
             "ticks": ""
            },
            "colorscale": [
             [
              0,
              "#0d0887"
             ],
             [
              0.1111111111111111,
              "#46039f"
             ],
             [
              0.2222222222222222,
              "#7201a8"
             ],
             [
              0.3333333333333333,
              "#9c179e"
             ],
             [
              0.4444444444444444,
              "#bd3786"
             ],
             [
              0.5555555555555556,
              "#d8576b"
             ],
             [
              0.6666666666666666,
              "#ed7953"
             ],
             [
              0.7777777777777778,
              "#fb9f3a"
             ],
             [
              0.8888888888888888,
              "#fdca26"
             ],
             [
              1,
              "#f0f921"
             ]
            ],
            "type": "heatmap"
           }
          ],
          "heatmapgl": [
           {
            "colorbar": {
             "outlinewidth": 0,
             "ticks": ""
            },
            "colorscale": [
             [
              0,
              "#0d0887"
             ],
             [
              0.1111111111111111,
              "#46039f"
             ],
             [
              0.2222222222222222,
              "#7201a8"
             ],
             [
              0.3333333333333333,
              "#9c179e"
             ],
             [
              0.4444444444444444,
              "#bd3786"
             ],
             [
              0.5555555555555556,
              "#d8576b"
             ],
             [
              0.6666666666666666,
              "#ed7953"
             ],
             [
              0.7777777777777778,
              "#fb9f3a"
             ],
             [
              0.8888888888888888,
              "#fdca26"
             ],
             [
              1,
              "#f0f921"
             ]
            ],
            "type": "heatmapgl"
           }
          ],
          "histogram": [
           {
            "marker": {
             "pattern": {
              "fillmode": "overlay",
              "size": 10,
              "solidity": 0.2
             }
            },
            "type": "histogram"
           }
          ],
          "histogram2d": [
           {
            "colorbar": {
             "outlinewidth": 0,
             "ticks": ""
            },
            "colorscale": [
             [
              0,
              "#0d0887"
             ],
             [
              0.1111111111111111,
              "#46039f"
             ],
             [
              0.2222222222222222,
              "#7201a8"
             ],
             [
              0.3333333333333333,
              "#9c179e"
             ],
             [
              0.4444444444444444,
              "#bd3786"
             ],
             [
              0.5555555555555556,
              "#d8576b"
             ],
             [
              0.6666666666666666,
              "#ed7953"
             ],
             [
              0.7777777777777778,
              "#fb9f3a"
             ],
             [
              0.8888888888888888,
              "#fdca26"
             ],
             [
              1,
              "#f0f921"
             ]
            ],
            "type": "histogram2d"
           }
          ],
          "histogram2dcontour": [
           {
            "colorbar": {
             "outlinewidth": 0,
             "ticks": ""
            },
            "colorscale": [
             [
              0,
              "#0d0887"
             ],
             [
              0.1111111111111111,
              "#46039f"
             ],
             [
              0.2222222222222222,
              "#7201a8"
             ],
             [
              0.3333333333333333,
              "#9c179e"
             ],
             [
              0.4444444444444444,
              "#bd3786"
             ],
             [
              0.5555555555555556,
              "#d8576b"
             ],
             [
              0.6666666666666666,
              "#ed7953"
             ],
             [
              0.7777777777777778,
              "#fb9f3a"
             ],
             [
              0.8888888888888888,
              "#fdca26"
             ],
             [
              1,
              "#f0f921"
             ]
            ],
            "type": "histogram2dcontour"
           }
          ],
          "mesh3d": [
           {
            "colorbar": {
             "outlinewidth": 0,
             "ticks": ""
            },
            "type": "mesh3d"
           }
          ],
          "parcoords": [
           {
            "line": {
             "colorbar": {
              "outlinewidth": 0,
              "ticks": ""
             }
            },
            "type": "parcoords"
           }
          ],
          "pie": [
           {
            "automargin": true,
            "type": "pie"
           }
          ],
          "scatter": [
           {
            "fillpattern": {
             "fillmode": "overlay",
             "size": 10,
             "solidity": 0.2
            },
            "type": "scatter"
           }
          ],
          "scatter3d": [
           {
            "line": {
             "colorbar": {
              "outlinewidth": 0,
              "ticks": ""
             }
            },
            "marker": {
             "colorbar": {
              "outlinewidth": 0,
              "ticks": ""
             }
            },
            "type": "scatter3d"
           }
          ],
          "scattercarpet": [
           {
            "marker": {
             "colorbar": {
              "outlinewidth": 0,
              "ticks": ""
             }
            },
            "type": "scattercarpet"
           }
          ],
          "scattergeo": [
           {
            "marker": {
             "colorbar": {
              "outlinewidth": 0,
              "ticks": ""
             }
            },
            "type": "scattergeo"
           }
          ],
          "scattergl": [
           {
            "marker": {
             "colorbar": {
              "outlinewidth": 0,
              "ticks": ""
             }
            },
            "type": "scattergl"
           }
          ],
          "scattermapbox": [
           {
            "marker": {
             "colorbar": {
              "outlinewidth": 0,
              "ticks": ""
             }
            },
            "type": "scattermapbox"
           }
          ],
          "scatterpolar": [
           {
            "marker": {
             "colorbar": {
              "outlinewidth": 0,
              "ticks": ""
             }
            },
            "type": "scatterpolar"
           }
          ],
          "scatterpolargl": [
           {
            "marker": {
             "colorbar": {
              "outlinewidth": 0,
              "ticks": ""
             }
            },
            "type": "scatterpolargl"
           }
          ],
          "scatterternary": [
           {
            "marker": {
             "colorbar": {
              "outlinewidth": 0,
              "ticks": ""
             }
            },
            "type": "scatterternary"
           }
          ],
          "surface": [
           {
            "colorbar": {
             "outlinewidth": 0,
             "ticks": ""
            },
            "colorscale": [
             [
              0,
              "#0d0887"
             ],
             [
              0.1111111111111111,
              "#46039f"
             ],
             [
              0.2222222222222222,
              "#7201a8"
             ],
             [
              0.3333333333333333,
              "#9c179e"
             ],
             [
              0.4444444444444444,
              "#bd3786"
             ],
             [
              0.5555555555555556,
              "#d8576b"
             ],
             [
              0.6666666666666666,
              "#ed7953"
             ],
             [
              0.7777777777777778,
              "#fb9f3a"
             ],
             [
              0.8888888888888888,
              "#fdca26"
             ],
             [
              1,
              "#f0f921"
             ]
            ],
            "type": "surface"
           }
          ],
          "table": [
           {
            "cells": {
             "fill": {
              "color": "#EBF0F8"
             },
             "line": {
              "color": "white"
             }
            },
            "header": {
             "fill": {
              "color": "#C8D4E3"
             },
             "line": {
              "color": "white"
             }
            },
            "type": "table"
           }
          ]
         },
         "layout": {
          "annotationdefaults": {
           "arrowcolor": "#2a3f5f",
           "arrowhead": 0,
           "arrowwidth": 1
          },
          "autotypenumbers": "strict",
          "coloraxis": {
           "colorbar": {
            "outlinewidth": 0,
            "ticks": ""
           }
          },
          "colorscale": {
           "diverging": [
            [
             0,
             "#8e0152"
            ],
            [
             0.1,
             "#c51b7d"
            ],
            [
             0.2,
             "#de77ae"
            ],
            [
             0.3,
             "#f1b6da"
            ],
            [
             0.4,
             "#fde0ef"
            ],
            [
             0.5,
             "#f7f7f7"
            ],
            [
             0.6,
             "#e6f5d0"
            ],
            [
             0.7,
             "#b8e186"
            ],
            [
             0.8,
             "#7fbc41"
            ],
            [
             0.9,
             "#4d9221"
            ],
            [
             1,
             "#276419"
            ]
           ],
           "sequential": [
            [
             0,
             "#0d0887"
            ],
            [
             0.1111111111111111,
             "#46039f"
            ],
            [
             0.2222222222222222,
             "#7201a8"
            ],
            [
             0.3333333333333333,
             "#9c179e"
            ],
            [
             0.4444444444444444,
             "#bd3786"
            ],
            [
             0.5555555555555556,
             "#d8576b"
            ],
            [
             0.6666666666666666,
             "#ed7953"
            ],
            [
             0.7777777777777778,
             "#fb9f3a"
            ],
            [
             0.8888888888888888,
             "#fdca26"
            ],
            [
             1,
             "#f0f921"
            ]
           ],
           "sequentialminus": [
            [
             0,
             "#0d0887"
            ],
            [
             0.1111111111111111,
             "#46039f"
            ],
            [
             0.2222222222222222,
             "#7201a8"
            ],
            [
             0.3333333333333333,
             "#9c179e"
            ],
            [
             0.4444444444444444,
             "#bd3786"
            ],
            [
             0.5555555555555556,
             "#d8576b"
            ],
            [
             0.6666666666666666,
             "#ed7953"
            ],
            [
             0.7777777777777778,
             "#fb9f3a"
            ],
            [
             0.8888888888888888,
             "#fdca26"
            ],
            [
             1,
             "#f0f921"
            ]
           ]
          },
          "colorway": [
           "#636efa",
           "#EF553B",
           "#00cc96",
           "#ab63fa",
           "#FFA15A",
           "#19d3f3",
           "#FF6692",
           "#B6E880",
           "#FF97FF",
           "#FECB52"
          ],
          "font": {
           "color": "#2a3f5f"
          },
          "geo": {
           "bgcolor": "white",
           "lakecolor": "white",
           "landcolor": "#E5ECF6",
           "showlakes": true,
           "showland": true,
           "subunitcolor": "white"
          },
          "hoverlabel": {
           "align": "left"
          },
          "hovermode": "closest",
          "mapbox": {
           "style": "light"
          },
          "paper_bgcolor": "white",
          "plot_bgcolor": "#E5ECF6",
          "polar": {
           "angularaxis": {
            "gridcolor": "white",
            "linecolor": "white",
            "ticks": ""
           },
           "bgcolor": "#E5ECF6",
           "radialaxis": {
            "gridcolor": "white",
            "linecolor": "white",
            "ticks": ""
           }
          },
          "scene": {
           "xaxis": {
            "backgroundcolor": "#E5ECF6",
            "gridcolor": "white",
            "gridwidth": 2,
            "linecolor": "white",
            "showbackground": true,
            "ticks": "",
            "zerolinecolor": "white"
           },
           "yaxis": {
            "backgroundcolor": "#E5ECF6",
            "gridcolor": "white",
            "gridwidth": 2,
            "linecolor": "white",
            "showbackground": true,
            "ticks": "",
            "zerolinecolor": "white"
           },
           "zaxis": {
            "backgroundcolor": "#E5ECF6",
            "gridcolor": "white",
            "gridwidth": 2,
            "linecolor": "white",
            "showbackground": true,
            "ticks": "",
            "zerolinecolor": "white"
           }
          },
          "shapedefaults": {
           "line": {
            "color": "#2a3f5f"
           }
          },
          "ternary": {
           "aaxis": {
            "gridcolor": "white",
            "linecolor": "white",
            "ticks": ""
           },
           "baxis": {
            "gridcolor": "white",
            "linecolor": "white",
            "ticks": ""
           },
           "bgcolor": "#E5ECF6",
           "caxis": {
            "gridcolor": "white",
            "linecolor": "white",
            "ticks": ""
           }
          },
          "title": {
           "x": 0.05
          },
          "xaxis": {
           "automargin": true,
           "gridcolor": "white",
           "linecolor": "white",
           "ticks": "",
           "title": {
            "standoff": 15
           },
           "zerolinecolor": "white",
           "zerolinewidth": 2
          },
          "yaxis": {
           "automargin": true,
           "gridcolor": "white",
           "linecolor": "white",
           "ticks": "",
           "title": {
            "standoff": 15
           },
           "zerolinecolor": "white",
           "zerolinewidth": 2
          }
         }
        },
        "title": {
         "text": "Administered vaccine between 2022-04 and 2022-05"
        }
       }
      }
     },
     "metadata": {},
     "output_type": "display_data"
    }
   ],
   "source": [
    "row  = queryDB(queries[0])\n",
    "\n",
    "increasedVaccineCount = []\n",
    "for data in row:\n",
    "    increasedVaccineCount.append((countryIso[data[1]], float(data[5]) * -1))\n",
    "\n",
    "# Create a dataFrame\n",
    "df = pd.DataFrame(increasedVaccineCount, columns=['Country', 'Change'])\n",
    "\n",
    "fig = px.choropleth(\n",
    "    df,\n",
    "    locations='Country',        # Column with country codes\n",
    "    color='Change',             # Column with data to color the map\n",
    "    hover_name='Country',       # Column to display on hover\n",
    "    color_continuous_scale=px.colors.sequential.Plasma,\n",
    "    title=f'Administered vaccine between {row[0][0]} and {row[0][3]}'\n",
    ")\n",
    "\n",
    "fig.show()"
   ]
  },
  {
   "cell_type": "code",
   "execution_count": 5,
   "metadata": {},
   "outputs": [
    {
     "data": {
      "application/vnd.plotly.v1+json": {
       "config": {
        "plotlyServerURL": "https://plot.ly"
       },
       "data": [
        {
         "hovertemplate": "<b>%{hovertext}</b><br><br>Country=Brazil<br>Month=%{x}<br>Cummulative=%{y}<extra></extra>",
         "hovertext": [
          "Brazil",
          "Brazil",
          "Brazil",
          "Brazil",
          "Brazil",
          "Brazil",
          "Brazil",
          "Brazil",
          "Brazil",
          "Brazil",
          "Brazil",
          "Brazil",
          "Brazil",
          "Brazil",
          "Brazil",
          "Brazil",
          "Brazil",
          "Brazil",
          "Brazil",
          "Brazil",
          "Brazil",
          "Brazil",
          "Brazil",
          "Brazil"
         ],
         "legendgroup": "Brazil",
         "marker": {
          "color": "#636efa",
          "symbol": "circle"
         },
         "mode": "markers",
         "name": "Brazil",
         "orientation": "v",
         "showlegend": true,
         "type": "scatter",
         "x": [
          "2021-02",
          "2021-03",
          "2021-04",
          "2021-05",
          "2021-06",
          "2021-07",
          "2021-08",
          "2021-09",
          "2021-10",
          "2021-11",
          "2021-12",
          "2022-01",
          "2022-02",
          "2022-03",
          "2022-04",
          "2022-05",
          "2022-06",
          "2022-08",
          "2022-09",
          "2022-10",
          "2022-11",
          "2022-12",
          "2023-01",
          "2023-02"
         ],
         "xaxis": "x",
         "y": [
          154949710,
          458978854,
          1036427212,
          1809455475,
          2519262459,
          3771651857,
          5209158760,
          6526674237,
          8062144169,
          8863093084,
          9017052218,
          9697787420,
          10620283407,
          12137456212,
          10163158489,
          11312969260,
          12106296152,
          9829423276,
          12732200885,
          10407944120,
          8997622564,
          11480121300,
          12543680423,
          8719060576
         ],
         "yaxis": "y"
        },
        {
         "hovertemplate": "<b>%{hovertext}</b><br><br>Country=China<br>Month=%{x}<br>Cummulative=%{y}<extra></extra>",
         "hovertext": [
          "China",
          "China",
          "China",
          "China",
          "China",
          "China",
          "China",
          "China",
          "China",
          "China",
          "China",
          "China",
          "China",
          "China",
          "China",
          "China",
          "China",
          "China",
          "China",
          "China",
          "China",
          "China",
          "China",
          "China"
         ],
         "legendgroup": "China",
         "marker": {
          "color": "#EF553B",
          "symbol": "circle"
         },
         "mode": "markers",
         "name": "China",
         "orientation": "v",
         "showlegend": true,
         "type": "scatter",
         "x": [
          "2021-01",
          "2021-03",
          "2021-04",
          "2021-05",
          "2021-06",
          "2021-07",
          "2021-08",
          "2021-09",
          "2021-10",
          "2021-11",
          "2021-12",
          "2022-01",
          "2022-02",
          "2022-03",
          "2022-04",
          "2022-05",
          "2022-06",
          "2022-07",
          "2022-08",
          "2022-09",
          "2022-10",
          "2022-11",
          "2022-12",
          "2023-01"
         ],
         "xaxis": "x",
         "y": [
          80767000,
          1132423700,
          5600613000,
          13240142000,
          28583536000,
          44812470000,
          58195232000,
          64694745000,
          69254128000,
          71860163000,
          82497983000,
          90910224000,
          85590447000,
          99407062000,
          99325614000,
          104268615000,
          101769556000,
          105793374000,
          106286841000,
          103049882000,
          106587278000,
          103251731000,
          107201165000,
          52258294000
         ],
         "yaxis": "y"
        },
        {
         "hovertemplate": "<b>%{hovertext}</b><br><br>Country=Germany<br>Month=%{x}<br>Cummulative=%{y}<extra></extra>",
         "hovertext": [
          "Germany",
          "Germany",
          "Germany",
          "Germany",
          "Germany",
          "Germany",
          "Germany"
         ],
         "legendgroup": "Germany",
         "marker": {
          "color": "#00cc96",
          "symbol": "circle"
         },
         "mode": "markers",
         "name": "Germany",
         "orientation": "v",
         "showlegend": true,
         "type": "scatter",
         "x": [
          "2021-03",
          "2021-04",
          "2021-05",
          "2021-06",
          "2021-07",
          "2021-08",
          "2021-09"
         ],
         "xaxis": "x",
         "y": [
          315690210,
          637395144,
          1272677255,
          1939117812,
          2685777993,
          3091677518,
          3209733364
         ],
         "yaxis": "y"
        },
        {
         "hovertemplate": "<b>%{hovertext}</b><br><br>Country=France<br>Month=%{x}<br>Cummulative=%{y}<extra></extra>",
         "hovertext": [
          "France",
          "France",
          "France"
         ],
         "legendgroup": "France",
         "marker": {
          "color": "#ab63fa",
          "symbol": "circle"
         },
         "mode": "markers",
         "name": "France",
         "orientation": "v",
         "showlegend": true,
         "type": "scatter",
         "x": [
          "2021-05",
          "2021-06",
          "2021-07"
         ],
         "xaxis": "x",
         "y": [
          932283072,
          1404273563,
          2016322686
         ],
         "yaxis": "y"
        },
        {
         "hovertemplate": "<b>%{hovertext}</b><br><br>Country=United Kingdom<br>Month=%{x}<br>Cummulative=%{y}<extra></extra>",
         "hovertext": [
          "United Kingdom",
          "United Kingdom",
          "United Kingdom",
          "United Kingdom",
          "United Kingdom",
          "United Kingdom",
          "United Kingdom",
          "United Kingdom"
         ],
         "legendgroup": "United Kingdom",
         "marker": {
          "color": "#FFA15A",
          "symbol": "circle"
         },
         "mode": "markers",
         "name": "United Kingdom",
         "orientation": "v",
         "showlegend": true,
         "type": "scatter",
         "x": [
          "2021-01",
          "2021-02",
          "2021-03",
          "2021-04",
          "2021-05",
          "2021-06",
          "2021-07",
          "2021-08"
         ],
         "xaxis": "x",
         "y": [
          129168021,
          442976417,
          861674147,
          1263408923,
          1772963593,
          2171856024,
          2537463864,
          2734963822
         ],
         "yaxis": "y"
        },
        {
         "hovertemplate": "<b>%{hovertext}</b><br><br>Country=Indonesia<br>Month=%{x}<br>Cummulative=%{y}<extra></extra>",
         "hovertext": [
          "Indonesia",
          "Indonesia",
          "Indonesia",
          "Indonesia",
          "Indonesia",
          "Indonesia",
          "Indonesia",
          "Indonesia"
         ],
         "legendgroup": "Indonesia",
         "marker": {
          "color": "#19d3f3",
          "symbol": "circle"
         },
         "mode": "markers",
         "name": "Indonesia",
         "orientation": "v",
         "showlegend": true,
         "type": "scatter",
         "x": [
          "2021-09",
          "2021-10",
          "2021-11",
          "2021-12",
          "2022-02",
          "2022-03",
          "2022-04",
          "2022-05"
         ],
         "xaxis": "x",
         "y": [
          3594847508,
          5198155307,
          6469882493,
          7897576050,
          7390536550,
          8686763250,
          9021283847,
          10835316432
         ],
         "yaxis": "y"
        },
        {
         "hovertemplate": "<b>%{hovertext}</b><br><br>Country=India<br>Month=%{x}<br>Cummulative=%{y}<extra></extra>",
         "hovertext": [
          "India",
          "India",
          "India",
          "India",
          "India",
          "India",
          "India",
          "India",
          "India",
          "India",
          "India",
          "India",
          "India",
          "India",
          "India",
          "India",
          "India",
          "India",
          "India",
          "India",
          "India",
          "India",
          "India",
          "India",
          "India",
          "India",
          "India",
          "India",
          "India",
          "India",
          "India",
          "India",
          "India",
          "India",
          "India",
          "India",
          "India",
          "India",
          "India"
         ],
         "legendgroup": "India",
         "marker": {
          "color": "#FF6692",
          "symbol": "circle"
         },
         "mode": "markers",
         "name": "India",
         "orientation": "v",
         "showlegend": true,
         "type": "scatter",
         "x": [
          "2021-02",
          "2021-03",
          "2021-04",
          "2021-05",
          "2021-06",
          "2021-07",
          "2021-08",
          "2021-09",
          "2021-10",
          "2021-11",
          "2021-12",
          "2022-01",
          "2022-02",
          "2022-03",
          "2022-04",
          "2022-05",
          "2022-06",
          "2022-07",
          "2022-08",
          "2022-09",
          "2022-10",
          "2022-11",
          "2022-12",
          "2023-01",
          "2023-02",
          "2023-03",
          "2023-04",
          "2023-05",
          "2023-06",
          "2023-07",
          "2023-08",
          "2023-09",
          "2023-10",
          "2023-11",
          "2023-12",
          "2024-01",
          "2024-02",
          "2024-03",
          "2024-04"
         ],
         "xaxis": "x",
         "y": [
          237762147,
          1166006861,
          3038130111,
          5432545301,
          7930055407,
          11129697938,
          15593466811,
          23162890858,
          30299754484,
          34164994865,
          41934918790,
          48546606038,
          48429416877,
          56026202971,
          46626474812,
          59299026982,
          58646776414,
          56089174961,
          62590461179,
          64737530536,
          63578802424,
          65942478722,
          68199379399,
          68268723452,
          61770937964,
          66193767275,
          63991509323,
          68406582592,
          63994375992,
          68408302682,
          66201981260,
          66202268778,
          66202381104,
          66202467948,
          41928268293,
          55168906870,
          59582685060,
          68411119833,
          66205985516
         ],
         "yaxis": "y"
        },
        {
         "hovertemplate": "<b>%{hovertext}</b><br><br>Country=Israel<br>Month=%{x}<br>Cummulative=%{y}<extra></extra>",
         "hovertext": [
          "Israel",
          "Israel",
          "Israel"
         ],
         "legendgroup": "Israel",
         "marker": {
          "color": "#B6E880",
          "symbol": "circle"
         },
         "mode": "markers",
         "name": "Israel",
         "orientation": "v",
         "showlegend": true,
         "type": "scatter",
         "x": [
          "2021-01",
          "2021-02",
          "2021-03"
         ],
         "xaxis": "x",
         "y": [
          86438726,
          185275017,
          290707655
         ],
         "yaxis": "y"
        },
        {
         "hovertemplate": "<b>%{hovertext}</b><br><br>Country=Japan<br>Month=%{x}<br>Cummulative=%{y}<extra></extra>",
         "hovertext": [
          "Japan",
          "Japan",
          "Japan",
          "Japan",
          "Japan",
          "Japan",
          "Japan",
          "Japan",
          "Japan",
          "Japan",
          "Japan",
          "Japan",
          "Japan",
          "Japan",
          "Japan",
          "Japan",
          "Japan",
          "Japan",
          "Japan",
          "Japan",
          "Japan",
          "Japan"
         ],
         "legendgroup": "Japan",
         "marker": {
          "color": "#FF97FF",
          "symbol": "circle"
         },
         "mode": "markers",
         "name": "Japan",
         "orientation": "v",
         "showlegend": true,
         "type": "scatter",
         "x": [
          "2021-07",
          "2021-08",
          "2021-09",
          "2021-10",
          "2021-11",
          "2021-12",
          "2022-01",
          "2022-02",
          "2022-03",
          "2022-04",
          "2022-05",
          "2022-06",
          "2022-07",
          "2022-08",
          "2022-09",
          "2022-10",
          "2022-11",
          "2022-12",
          "2023-01",
          "2023-02",
          "2023-03",
          "2023-04"
         ],
         "xaxis": "x",
         "y": [
          2409245838,
          3690822426,
          4627713920,
          5692754438,
          5920822299,
          6225814643,
          6325516284,
          6148963311,
          7651934757,
          8004966754,
          8609457112,
          8501010474,
          9039938176,
          9596381174,
          9671665392,
          10188901835,
          10255211401,
          11301152009,
          11673511363,
          10682408624,
          11872219880,
          11507372720
         ],
         "yaxis": "y"
        },
        {
         "hovertemplate": "<b>%{hovertext}</b><br><br>Country=Africa<br>Month=%{x}<br>Cummulative=%{y}<extra></extra>",
         "hovertext": [
          "Africa",
          "Africa",
          "Africa",
          "Africa",
          "Africa",
          "Africa",
          "Africa",
          "Africa",
          "Africa",
          "Africa",
          "Africa",
          "Africa",
          "Africa",
          "Africa",
          "Africa",
          "Africa",
          "Africa",
          "Africa",
          "Africa",
          "Africa",
          "Africa",
          "Africa",
          "Africa",
          "Africa",
          "Africa",
          "Africa",
          "Africa",
          "Africa"
         ],
         "legendgroup": "Africa",
         "marker": {
          "color": "#FECB52",
          "symbol": "circle"
         },
         "mode": "markers",
         "name": "Africa",
         "orientation": "v",
         "showlegend": true,
         "type": "scatter",
         "x": [
          "2021-09",
          "2021-10",
          "2021-11",
          "2021-12",
          "2022-01",
          "2022-02",
          "2022-03",
          "2022-04",
          "2022-05",
          "2022-06",
          "2022-07",
          "2022-08",
          "2022-09",
          "2022-10",
          "2022-11",
          "2022-12",
          "2023-01",
          "2023-02",
          "2023-03",
          "2023-04",
          "2023-05",
          "2023-06",
          "2023-07",
          "2023-08",
          "2023-09",
          "2023-10",
          "2023-11",
          "2023-12"
         ],
         "xaxis": "x",
         "y": [
          3847922637,
          5298523096,
          6551441171,
          8417822121,
          10264392996,
          10592351974,
          13239525244,
          13613469631,
          14982327419,
          15476827498,
          17597789512,
          18617669480,
          18853044238,
          20348784308,
          20619716904,
          22356392331,
          23053873714,
          21350154748,
          24213627438,
          24034846881,
          25043992739,
          24864028415,
          26059210806,
          26403410645,
          25650042146,
          26713514586,
          25885864585,
          26757380780
         ],
         "yaxis": "y"
        },
        {
         "hovertemplate": "<b>%{hovertext}</b><br><br>Country=Asia<br>Month=%{x}<br>Cummulative=%{y}<extra></extra>",
         "hovertext": [
          "Asia",
          "Asia",
          "Asia",
          "Asia",
          "Asia",
          "Asia",
          "Asia",
          "Asia",
          "Asia",
          "Asia",
          "Asia",
          "Asia",
          "Asia",
          "Asia",
          "Asia",
          "Asia",
          "Asia",
          "Asia",
          "Asia",
          "Asia",
          "Asia",
          "Asia",
          "Asia",
          "Asia",
          "Asia",
          "Asia",
          "Asia",
          "Asia",
          "Asia",
          "Asia",
          "Asia",
          "Asia",
          "Asia",
          "Asia",
          "Asia",
          "Asia",
          "Asia",
          "Asia",
          "Asia",
          "Asia",
          "Asia",
          "Asia"
         ],
         "legendgroup": "Asia",
         "marker": {
          "color": "#636efa",
          "symbol": "circle"
         },
         "mode": "markers",
         "name": "Asia",
         "orientation": "v",
         "showlegend": true,
         "type": "scatter",
         "x": [
          "2020-12",
          "2021-01",
          "2021-02",
          "2021-03",
          "2021-04",
          "2021-05",
          "2021-06",
          "2021-07",
          "2021-08",
          "2021-09",
          "2021-10",
          "2021-11",
          "2021-12",
          "2022-01",
          "2022-02",
          "2022-03",
          "2022-04",
          "2022-05",
          "2022-06",
          "2022-07",
          "2022-08",
          "2022-09",
          "2022-10",
          "2022-11",
          "2022-12",
          "2023-01",
          "2023-02",
          "2023-03",
          "2023-04",
          "2023-05",
          "2023-06",
          "2023-07",
          "2023-08",
          "2023-09",
          "2023-10",
          "2023-11",
          "2023-12",
          "2024-01",
          "2024-02",
          "2024-03",
          "2024-04",
          "2024-05"
         ],
         "xaxis": "x",
         "y": [
          33426341,
          574808407,
          1901009299,
          4943598962,
          11886069577,
          23704042893,
          44405069594,
          70718951231,
          96867817739,
          117542643515,
          139711513536,
          153429092846,
          180934986801,
          203415168656,
          198721239966,
          233924737833,
          235784142882,
          248984298140,
          245426008122,
          258371121131,
          264028036206,
          259641670087,
          270816841775,
          263658056624,
          274827295509,
          276917060137,
          251342877648,
          278841996550,
          270472946019,
          281091012247,
          272397147707,
          281641480251,
          281852653915,
          272909049515,
          282086664414,
          273042734216,
          282172796221,
          282225589504,
          264018635705,
          282228847550,
          273127668825,
          254919963732
         ],
         "yaxis": "y"
        },
        {
         "hovertemplate": "<b>%{hovertext}</b><br><br>Country=England<br>Month=%{x}<br>Cummulative=%{y}<extra></extra>",
         "hovertext": [
          "England",
          "England",
          "England",
          "England",
          "England",
          "England",
          "England"
         ],
         "legendgroup": "England",
         "marker": {
          "color": "#EF553B",
          "symbol": "circle"
         },
         "mode": "markers",
         "name": "England",
         "orientation": "v",
         "showlegend": true,
         "type": "scatter",
         "x": [
          "2021-01",
          "2021-02",
          "2021-03",
          "2021-04",
          "2021-05",
          "2021-06",
          "2021-07"
         ],
         "xaxis": "x",
         "y": [
          112616859,
          375434674,
          724777756,
          1059266135,
          1487836074,
          1761960359,
          2127015210
         ],
         "yaxis": "y"
        },
        {
         "hovertemplate": "<b>%{hovertext}</b><br><br>Country=European Union<br>Month=%{x}<br>Cummulative=%{y}<extra></extra>",
         "hovertext": [
          "European Union",
          "European Union",
          "European Union",
          "European Union",
          "European Union",
          "European Union",
          "European Union",
          "European Union",
          "European Union",
          "European Union",
          "European Union",
          "European Union",
          "European Union",
          "European Union",
          "European Union",
          "European Union",
          "European Union",
          "European Union",
          "European Union",
          "European Union",
          "European Union",
          "European Union",
          "European Union",
          "European Union",
          "European Union",
          "European Union",
          "European Union",
          "European Union",
          "European Union",
          "European Union",
          "European Union",
          "European Union",
          "European Union",
          "European Union",
          "European Union",
          "European Union"
         ],
         "legendgroup": "European Union",
         "marker": {
          "color": "#00cc96",
          "symbol": "circle"
         },
         "mode": "markers",
         "name": "European Union",
         "orientation": "v",
         "showlegend": true,
         "type": "scatter",
         "x": [
          "2021-01",
          "2021-02",
          "2021-03",
          "2021-04",
          "2021-05",
          "2021-06",
          "2021-07",
          "2021-08",
          "2021-09",
          "2021-10",
          "2021-11",
          "2021-12",
          "2022-01",
          "2022-02",
          "2022-03",
          "2022-04",
          "2022-05",
          "2022-06",
          "2022-07",
          "2022-08",
          "2022-09",
          "2022-10",
          "2022-11",
          "2022-12",
          "2023-01",
          "2023-02",
          "2023-03",
          "2023-04",
          "2023-05",
          "2023-06",
          "2023-07",
          "2023-08",
          "2023-09",
          "2023-10",
          "2023-11",
          "2023-12"
         ],
         "xaxis": "x",
         "y": [
          181584310,
          649341923,
          1666581641,
          3257498462,
          6199085888,
          9400548741,
          13192362784,
          15705912857,
          16585863857,
          18089906604,
          18575971498,
          21801529788,
          24521229136,
          23595397021,
          26636557381,
          26084229499,
          27175666373,
          26459546451,
          27532834083,
          27731848133,
          26996489299,
          28303299183,
          27858216610,
          29067413162,
          29198012851,
          26431744503,
          29286006344,
          28360727739,
          29315344772,
          28374148511,
          29321369413,
          29322012001,
          28379458528,
          29368620976,
          28479861002,
          29469624607
         ],
         "yaxis": "y"
        },
        {
         "hovertemplate": "<b>%{hovertext}</b><br><br>Country=Europe<br>Month=%{x}<br>Cummulative=%{y}<extra></extra>",
         "hovertext": [
          "Europe",
          "Europe",
          "Europe",
          "Europe",
          "Europe",
          "Europe",
          "Europe",
          "Europe",
          "Europe",
          "Europe",
          "Europe",
          "Europe",
          "Europe",
          "Europe",
          "Europe",
          "Europe",
          "Europe",
          "Europe",
          "Europe",
          "Europe",
          "Europe",
          "Europe",
          "Europe",
          "Europe",
          "Europe",
          "Europe",
          "Europe",
          "Europe",
          "Europe",
          "Europe",
          "Europe",
          "Europe",
          "Europe",
          "Europe",
          "Europe",
          "Europe"
         ],
         "legendgroup": "Europe",
         "marker": {
          "color": "#ab63fa",
          "symbol": "circle"
         },
         "mode": "markers",
         "name": "Europe",
         "orientation": "v",
         "showlegend": true,
         "type": "scatter",
         "x": [
          "2021-01",
          "2021-02",
          "2021-03",
          "2021-04",
          "2021-05",
          "2021-06",
          "2021-07",
          "2021-08",
          "2021-09",
          "2021-10",
          "2021-11",
          "2021-12",
          "2022-01",
          "2022-02",
          "2022-03",
          "2022-04",
          "2022-05",
          "2022-06",
          "2022-07",
          "2022-08",
          "2022-09",
          "2022-10",
          "2022-11",
          "2022-12",
          "2023-01",
          "2023-02",
          "2023-03",
          "2023-04",
          "2023-05",
          "2023-06",
          "2023-07",
          "2023-08",
          "2023-09",
          "2023-10",
          "2023-11",
          "2023-12"
         ],
         "xaxis": "x",
         "y": [
          348196034,
          1173461802,
          2897474501,
          5222738166,
          9143437030,
          13227907852,
          18225188799,
          21851948226,
          23343635011,
          25833963511,
          27284369229,
          32292023215,
          35995283055,
          34431590655,
          38853616582,
          38132779365,
          39801874701,
          38779852731,
          40364145143,
          40712525533,
          39725143141,
          41586540015,
          40799426313,
          42536687411,
          42738003251,
          38717008795,
          42915106903,
          41594419376,
          43035711451,
          41662514521,
          43053038904,
          43062915312,
          41687079844,
          43137344043,
          41804431712,
          43274964723
         ],
         "yaxis": "y"
        },
        {
         "hovertemplate": "<b>%{hovertext}</b><br><br>Country=High income<br>Month=%{x}<br>Cummulative=%{y}<extra></extra>",
         "hovertext": [
          "High income",
          "High income",
          "High income",
          "High income",
          "High income",
          "High income",
          "High income",
          "High income",
          "High income",
          "High income",
          "High income",
          "High income",
          "High income",
          "High income",
          "High income",
          "High income",
          "High income",
          "High income",
          "High income",
          "High income",
          "High income",
          "High income",
          "High income",
          "High income",
          "High income",
          "High income",
          "High income",
          "High income",
          "High income",
          "High income",
          "High income",
          "High income",
          "High income",
          "High income",
          "High income",
          "High income",
          "High income",
          "High income",
          "High income",
          "High income",
          "High income",
          "High income"
         ],
         "legendgroup": "High income",
         "marker": {
          "color": "#FFA15A",
          "symbol": "circle"
         },
         "mode": "markers",
         "name": "High income",
         "orientation": "v",
         "showlegend": true,
         "type": "scatter",
         "x": [
          "2020-12",
          "2021-01",
          "2021-02",
          "2021-03",
          "2021-04",
          "2021-05",
          "2021-06",
          "2021-07",
          "2021-08",
          "2021-09",
          "2021-10",
          "2021-11",
          "2021-12",
          "2022-01",
          "2022-02",
          "2022-03",
          "2022-04",
          "2022-05",
          "2022-06",
          "2022-07",
          "2022-08",
          "2022-09",
          "2022-10",
          "2022-11",
          "2022-12",
          "2023-01",
          "2023-02",
          "2023-03",
          "2023-04",
          "2023-05",
          "2023-06",
          "2023-07",
          "2023-08",
          "2023-09",
          "2023-10",
          "2023-11",
          "2023-12",
          "2024-01",
          "2024-02",
          "2024-03",
          "2024-04",
          "2024-05"
         ],
         "xaxis": "x",
         "y": [
          48278222,
          1099557465,
          3351729509,
          7679277969,
          13165467596,
          20394756433,
          26869043150,
          35080073899,
          41493191220,
          45306251543,
          51329711684,
          53813341028,
          61490658722,
          67413799688,
          64591949365,
          73844454499,
          73150129941,
          77053372953,
          75593734812,
          79093559116,
          80361297876,
          78714109185,
          82662932639,
          81525788727,
          85655206542,
          86406959704,
          78400695063,
          86966138467,
          84353183033,
          87432529891,
          84627994536,
          87529464259,
          87554779953,
          84741483345,
          87627445026,
          84974574171,
          87969377955,
          88011857337,
          82356370126,
          88039613038,
          85203851901,
          79529551213
         ],
         "yaxis": "y"
        },
        {
         "hovertemplate": "<b>%{hovertext}</b><br><br>Country=Lower middle income<br>Month=%{x}<br>Cummulative=%{y}<extra></extra>",
         "hovertext": [
          "Lower middle income",
          "Lower middle income",
          "Lower middle income",
          "Lower middle income",
          "Lower middle income",
          "Lower middle income",
          "Lower middle income",
          "Lower middle income",
          "Lower middle income",
          "Lower middle income",
          "Lower middle income",
          "Lower middle income",
          "Lower middle income",
          "Lower middle income",
          "Lower middle income",
          "Lower middle income",
          "Lower middle income",
          "Lower middle income",
          "Lower middle income",
          "Lower middle income",
          "Lower middle income",
          "Lower middle income",
          "Lower middle income",
          "Lower middle income",
          "Lower middle income",
          "Lower middle income",
          "Lower middle income",
          "Lower middle income",
          "Lower middle income",
          "Lower middle income",
          "Lower middle income",
          "Lower middle income",
          "Lower middle income",
          "Lower middle income",
          "Lower middle income",
          "Lower middle income",
          "Lower middle income",
          "Lower middle income",
          "Lower middle income",
          "Lower middle income"
         ],
         "legendgroup": "Lower middle income",
         "marker": {
          "color": "#19d3f3",
          "symbol": "circle"
         },
         "mode": "markers",
         "name": "Lower middle income",
         "orientation": "v",
         "showlegend": true,
         "type": "scatter",
         "x": [
          "2021-02",
          "2021-03",
          "2021-04",
          "2021-05",
          "2021-06",
          "2021-07",
          "2021-08",
          "2021-09",
          "2021-10",
          "2021-11",
          "2021-12",
          "2022-01",
          "2022-02",
          "2022-03",
          "2022-04",
          "2022-05",
          "2022-06",
          "2022-07",
          "2022-08",
          "2022-09",
          "2022-10",
          "2022-11",
          "2022-12",
          "2023-01",
          "2023-02",
          "2023-03",
          "2023-04",
          "2023-05",
          "2023-06",
          "2023-07",
          "2023-08",
          "2023-09",
          "2023-10",
          "2023-11",
          "2023-12",
          "2024-01",
          "2024-02",
          "2024-03",
          "2024-04",
          "2024-05"
         ],
         "xaxis": "x",
         "y": [
          395139955,
          1831919032,
          4868932155,
          8175027915,
          11888382298,
          18734527556,
          28169470421,
          39876525172,
          54746542119,
          65346861927,
          81157629873,
          94357521593,
          95789858934,
          114225925908,
          116284715702,
          123794992547,
          123535228369,
          131986830494,
          136926701339,
          136503796258,
          143773293171,
          140766316094,
          147083304171,
          148269887382,
          134955036912,
          150199475416,
          146132457218,
          151908618131,
          147327159042,
          152587550072,
          152978504076,
          148212685564,
          153312463526,
          148437383950,
          153446880351,
          153580107703,
          143672025889,
          153582050233,
          148630412861,
          138722402838
         ],
         "yaxis": "y"
        },
        {
         "hovertemplate": "<b>%{hovertext}</b><br><br>Country=North America<br>Month=%{x}<br>Cummulative=%{y}<extra></extra>",
         "hovertext": [
          "North America",
          "North America",
          "North America",
          "North America",
          "North America",
          "North America",
          "North America",
          "North America",
          "North America",
          "North America",
          "North America",
          "North America",
          "North America",
          "North America",
          "North America",
          "North America",
          "North America",
          "North America",
          "North America",
          "North America",
          "North America",
          "North America",
          "North America",
          "North America",
          "North America",
          "North America",
          "North America",
          "North America",
          "North America",
          "North America",
          "North America",
          "North America",
          "North America",
          "North America",
          "North America",
          "North America",
          "North America"
         ],
         "legendgroup": "North America",
         "marker": {
          "color": "#FF6692",
          "symbol": "circle"
         },
         "mode": "markers",
         "name": "North America",
         "orientation": "v",
         "showlegend": true,
         "type": "scatter",
         "x": [
          "2020-12",
          "2021-01",
          "2021-02",
          "2021-03",
          "2021-04",
          "2021-05",
          "2021-06",
          "2021-07",
          "2021-08",
          "2021-09",
          "2021-10",
          "2021-11",
          "2021-12",
          "2022-01",
          "2022-02",
          "2022-03",
          "2022-04",
          "2022-05",
          "2022-06",
          "2022-07",
          "2022-08",
          "2022-09",
          "2022-10",
          "2022-11",
          "2022-12",
          "2023-01",
          "2023-02",
          "2023-03",
          "2023-04",
          "2023-05",
          "2023-06",
          "2023-07",
          "2023-08",
          "2023-09",
          "2023-10",
          "2023-11",
          "2023-12"
         ],
         "xaxis": "x",
         "y": [
          42460693,
          642061625,
          1856071533,
          4325759069,
          7437833041,
          10640365909,
          12527000797,
          14776247809,
          16751355674,
          18017565676,
          20500947815,
          21967127531,
          24974267664,
          27134905808,
          25933905120,
          29591708350,
          29346978248,
          31175433568,
          30731376968,
          32126988909,
          32496021507,
          31798231987,
          33877883112,
          33494970685,
          35000250418,
          35233218166,
          31942351044,
          35526322722,
          34457832332,
          35677175815,
          34572407211,
          35737901838,
          35750218068,
          34602378018,
          35772034954,
          34675138621,
          35870530745
         ],
         "yaxis": "y"
        },
        {
         "hovertemplate": "<b>%{hovertext}</b><br><br>Country=South America<br>Month=%{x}<br>Cummulative=%{y}<extra></extra>",
         "hovertext": [
          "South America",
          "South America",
          "South America",
          "South America",
          "South America",
          "South America",
          "South America",
          "South America",
          "South America",
          "South America",
          "South America",
          "South America",
          "South America",
          "South America",
          "South America",
          "South America",
          "South America",
          "South America",
          "South America",
          "South America",
          "South America",
          "South America",
          "South America",
          "South America",
          "South America",
          "South America",
          "South America",
          "South America",
          "South America",
          "South America",
          "South America",
          "South America",
          "South America",
          "South America",
          "South America"
         ],
         "legendgroup": "South America",
         "marker": {
          "color": "#B6E880",
          "symbol": "circle"
         },
         "mode": "markers",
         "name": "South America",
         "orientation": "v",
         "showlegend": true,
         "type": "scatter",
         "x": [
          "2021-02",
          "2021-03",
          "2021-04",
          "2021-05",
          "2021-06",
          "2021-07",
          "2021-08",
          "2021-09",
          "2021-10",
          "2021-11",
          "2021-12",
          "2022-01",
          "2022-02",
          "2022-03",
          "2022-04",
          "2022-05",
          "2022-06",
          "2022-07",
          "2022-08",
          "2022-09",
          "2022-10",
          "2022-11",
          "2022-12",
          "2023-01",
          "2023-02",
          "2023-03",
          "2023-04",
          "2023-05",
          "2023-06",
          "2023-07",
          "2023-08",
          "2023-09",
          "2023-10",
          "2023-11",
          "2023-12"
         ],
         "xaxis": "x",
         "y": [
          235838142,
          843866122,
          1853798506,
          3179895019,
          4625886848,
          7121547871,
          9875211757,
          12262142288,
          15059206027,
          16807825316,
          19443227689,
          21210821052,
          21066917901,
          24683413291,
          24869169532,
          26461273332,
          26399606266,
          27969806501,
          28400874684,
          27730060069,
          28785461691,
          27947706351,
          29154823271,
          29378837596,
          26647293008,
          29588452943,
          28680592446,
          29665489031,
          28723777666,
          29691167545,
          29700950228,
          28760268233,
          29740643577,
          28853044139,
          29893742114
         ],
         "yaxis": "y"
        },
        {
         "hovertemplate": "<b>%{hovertext}</b><br><br>Country=Upper middle income<br>Month=%{x}<br>Cummulative=%{y}<extra></extra>",
         "hovertext": [
          "Upper middle income",
          "Upper middle income",
          "Upper middle income",
          "Upper middle income",
          "Upper middle income",
          "Upper middle income",
          "Upper middle income",
          "Upper middle income",
          "Upper middle income",
          "Upper middle income",
          "Upper middle income",
          "Upper middle income",
          "Upper middle income",
          "Upper middle income",
          "Upper middle income",
          "Upper middle income",
          "Upper middle income",
          "Upper middle income",
          "Upper middle income",
          "Upper middle income",
          "Upper middle income",
          "Upper middle income",
          "Upper middle income",
          "Upper middle income",
          "Upper middle income",
          "Upper middle income",
          "Upper middle income",
          "Upper middle income",
          "Upper middle income",
          "Upper middle income",
          "Upper middle income",
          "Upper middle income",
          "Upper middle income",
          "Upper middle income",
          "Upper middle income",
          "Upper middle income",
          "Upper middle income",
          "Upper middle income",
          "Upper middle income",
          "Upper middle income",
          "Upper middle income",
          "Upper middle income"
         ],
         "legendgroup": "Upper middle income",
         "marker": {
          "color": "#FF97FF",
          "symbol": "circle"
         },
         "mode": "markers",
         "name": "Upper middle income",
         "orientation": "v",
         "showlegend": true,
         "type": "scatter",
         "x": [
          "2020-12",
          "2021-01",
          "2021-02",
          "2021-03",
          "2021-04",
          "2021-05",
          "2021-06",
          "2021-07",
          "2021-08",
          "2021-09",
          "2021-10",
          "2021-11",
          "2021-12",
          "2022-01",
          "2022-02",
          "2022-03",
          "2022-04",
          "2022-05",
          "2022-06",
          "2022-07",
          "2022-08",
          "2022-09",
          "2022-10",
          "2022-11",
          "2022-12",
          "2023-01",
          "2023-02",
          "2023-03",
          "2023-04",
          "2023-05",
          "2023-06",
          "2023-07",
          "2023-08",
          "2023-09",
          "2023-10",
          "2023-11",
          "2023-12",
          "2024-01",
          "2024-02",
          "2024-03",
          "2024-04",
          "2024-05"
         ],
         "xaxis": "x",
         "y": [
          29429070,
          455080837,
          1469155899,
          3727413579,
          8814823163,
          18846817513,
          37269309764,
          58861082027,
          78454541779,
          90099542413,
          100662892799,
          106993673428,
          123065621020,
          135354581454,
          129260453494,
          150395969712,
          150354601940,
          158318890576,
          155170942666,
          161870696779,
          163128560682,
          158555583121,
          164583331882,
          159649592656,
          165907431447,
          167110379620,
          151366793532,
          167755306397,
          162472516268,
          168504451253,
          163125962563,
          168583811749,
          168705498532,
          163331060693,
          168889923537,
          163456646792,
          168916285007,
          168934555056,
          158046352572,
          168947583365,
          163499077422,
          152599412314
         ],
         "yaxis": "y"
        },
        {
         "hovertemplate": "<b>%{hovertext}</b><br><br>Country=World<br>Month=%{x}<br>Cummulative=%{y}<extra></extra>",
         "hovertext": [
          "World",
          "World",
          "World",
          "World",
          "World",
          "World",
          "World",
          "World",
          "World",
          "World",
          "World",
          "World",
          "World",
          "World",
          "World",
          "World",
          "World",
          "World",
          "World",
          "World",
          "World",
          "World",
          "World",
          "World",
          "World",
          "World",
          "World",
          "World",
          "World",
          "World",
          "World",
          "World",
          "World",
          "World",
          "World",
          "World",
          "World",
          "World",
          "World",
          "World",
          "World",
          "World"
         ],
         "legendgroup": "World",
         "marker": {
          "color": "#FECB52",
          "symbol": "circle"
         },
         "mode": "markers",
         "name": "World",
         "orientation": "v",
         "showlegend": true,
         "type": "scatter",
         "x": [
          "2020-12",
          "2021-01",
          "2021-02",
          "2021-03",
          "2021-04",
          "2021-05",
          "2021-06",
          "2021-07",
          "2021-08",
          "2021-09",
          "2021-10",
          "2021-11",
          "2021-12",
          "2022-01",
          "2022-02",
          "2022-03",
          "2022-04",
          "2022-05",
          "2022-06",
          "2022-07",
          "2022-08",
          "2022-09",
          "2022-10",
          "2022-11",
          "2022-12",
          "2023-01",
          "2023-02",
          "2023-03",
          "2023-04",
          "2023-05",
          "2023-06",
          "2023-07",
          "2023-08",
          "2023-09",
          "2023-10",
          "2023-11",
          "2023-12",
          "2024-01",
          "2024-02",
          "2024-03",
          "2024-04",
          "2024-05"
         ],
         "xaxis": "x",
         "y": [
          77707292,
          1586241367,
          5216033563,
          13250551302,
          26904571640,
          47555720146,
          76252195042,
          112981809697,
          148537405408,
          175924365463,
          207671534971,
          227479259504,
          267680618856,
          299830797131,
          292598514910,
          342459417424,
          343917023442,
          363698593026,
          359078076633,
          378821362743,
          386708960721,
          380136608779,
          397887649854,
          388926367481,
          406373051496,
          409823472941,
          372263528227,
          413608915044,
          401728698558,
          417089870141,
          404713263120,
          418830929422,
          419438816773,
          406195995910,
          420127862685,
          406852953143,
          420661315589,
          420866136685,
          393747293138,
          420908863225,
          407339422754,
          380190374897
         ],
         "yaxis": "y"
        },
        {
         "hovertemplate": "<b>%{hovertext}</b><br><br>Country=Pakistan<br>Month=%{x}<br>Cummulative=%{y}<extra></extra>",
         "hovertext": [
          "Pakistan",
          "Pakistan"
         ],
         "legendgroup": "Pakistan",
         "marker": {
          "color": "#636efa",
          "symbol": "circle"
         },
         "mode": "markers",
         "name": "Pakistan",
         "orientation": "v",
         "showlegend": true,
         "type": "scatter",
         "x": [
          "2022-06",
          "2022-07"
         ],
         "xaxis": "x",
         "y": [
          7477910930,
          6700326362
         ],
         "yaxis": "y"
        },
        {
         "hovertemplate": "<b>%{hovertext}</b><br><br>Country=Turkey<br>Month=%{x}<br>Cummulative=%{y}<extra></extra>",
         "hovertext": [
          "Turkey",
          "Turkey"
         ],
         "legendgroup": "Turkey",
         "marker": {
          "color": "#EF553B",
          "symbol": "circle"
         },
         "mode": "markers",
         "name": "Turkey",
         "orientation": "v",
         "showlegend": true,
         "type": "scatter",
         "x": [
          "2021-03",
          "2021-04"
         ],
         "xaxis": "x",
         "y": [
          356774092,
          582640817
         ],
         "yaxis": "y"
        },
        {
         "hovertemplate": "<b>%{hovertext}</b><br><br>Country=United States<br>Month=%{x}<br>Cummulative=%{y}<extra></extra>",
         "hovertext": [
          "United States",
          "United States",
          "United States",
          "United States",
          "United States",
          "United States",
          "United States",
          "United States",
          "United States",
          "United States",
          "United States",
          "United States",
          "United States",
          "United States",
          "United States",
          "United States",
          "United States",
          "United States",
          "United States",
          "United States",
          "United States",
          "United States",
          "United States",
          "United States",
          "United States",
          "United States",
          "United States",
          "United States",
          "United States"
         ],
         "legendgroup": "United States",
         "marker": {
          "color": "#00cc96",
          "symbol": "circle"
         },
         "mode": "markers",
         "name": "United States",
         "orientation": "v",
         "showlegend": true,
         "type": "scatter",
         "x": [
          "2020-12",
          "2021-01",
          "2021-02",
          "2021-03",
          "2021-04",
          "2021-05",
          "2021-06",
          "2021-07",
          "2021-08",
          "2021-09",
          "2021-10",
          "2021-11",
          "2021-12",
          "2022-01",
          "2022-02",
          "2022-03",
          "2022-04",
          "2022-05",
          "2022-06",
          "2022-07",
          "2022-08",
          "2022-09",
          "2022-10",
          "2022-11",
          "2022-12",
          "2023-01",
          "2023-02",
          "2023-03",
          "2023-04"
         ],
         "xaxis": "x",
         "y": [
          41731199,
          613285043,
          1779919933,
          4026255107,
          6644325003,
          9071220567,
          9874017255,
          10770594830,
          11406697343,
          11751534963,
          12937748477,
          13661942268,
          15551878287,
          16679497246,
          15597668794,
          17516998249,
          17270721793,
          18215152883,
          17901612043,
          18724146584,
          18942068413,
          18560528109,
          19745234262,
          19613610374,
          20571087803,
          20750481427,
          18821408050,
          20891208529,
          20259557506
         ],
         "yaxis": "y"
        }
       ],
       "layout": {
        "legend": {
         "title": {
          "text": "Country"
         },
         "tracegroupgap": 0
        },
        "template": {
         "data": {
          "bar": [
           {
            "error_x": {
             "color": "#2a3f5f"
            },
            "error_y": {
             "color": "#2a3f5f"
            },
            "marker": {
             "line": {
              "color": "#E5ECF6",
              "width": 0.5
             },
             "pattern": {
              "fillmode": "overlay",
              "size": 10,
              "solidity": 0.2
             }
            },
            "type": "bar"
           }
          ],
          "barpolar": [
           {
            "marker": {
             "line": {
              "color": "#E5ECF6",
              "width": 0.5
             },
             "pattern": {
              "fillmode": "overlay",
              "size": 10,
              "solidity": 0.2
             }
            },
            "type": "barpolar"
           }
          ],
          "carpet": [
           {
            "aaxis": {
             "endlinecolor": "#2a3f5f",
             "gridcolor": "white",
             "linecolor": "white",
             "minorgridcolor": "white",
             "startlinecolor": "#2a3f5f"
            },
            "baxis": {
             "endlinecolor": "#2a3f5f",
             "gridcolor": "white",
             "linecolor": "white",
             "minorgridcolor": "white",
             "startlinecolor": "#2a3f5f"
            },
            "type": "carpet"
           }
          ],
          "choropleth": [
           {
            "colorbar": {
             "outlinewidth": 0,
             "ticks": ""
            },
            "type": "choropleth"
           }
          ],
          "contour": [
           {
            "colorbar": {
             "outlinewidth": 0,
             "ticks": ""
            },
            "colorscale": [
             [
              0,
              "#0d0887"
             ],
             [
              0.1111111111111111,
              "#46039f"
             ],
             [
              0.2222222222222222,
              "#7201a8"
             ],
             [
              0.3333333333333333,
              "#9c179e"
             ],
             [
              0.4444444444444444,
              "#bd3786"
             ],
             [
              0.5555555555555556,
              "#d8576b"
             ],
             [
              0.6666666666666666,
              "#ed7953"
             ],
             [
              0.7777777777777778,
              "#fb9f3a"
             ],
             [
              0.8888888888888888,
              "#fdca26"
             ],
             [
              1,
              "#f0f921"
             ]
            ],
            "type": "contour"
           }
          ],
          "contourcarpet": [
           {
            "colorbar": {
             "outlinewidth": 0,
             "ticks": ""
            },
            "type": "contourcarpet"
           }
          ],
          "heatmap": [
           {
            "colorbar": {
             "outlinewidth": 0,
             "ticks": ""
            },
            "colorscale": [
             [
              0,
              "#0d0887"
             ],
             [
              0.1111111111111111,
              "#46039f"
             ],
             [
              0.2222222222222222,
              "#7201a8"
             ],
             [
              0.3333333333333333,
              "#9c179e"
             ],
             [
              0.4444444444444444,
              "#bd3786"
             ],
             [
              0.5555555555555556,
              "#d8576b"
             ],
             [
              0.6666666666666666,
              "#ed7953"
             ],
             [
              0.7777777777777778,
              "#fb9f3a"
             ],
             [
              0.8888888888888888,
              "#fdca26"
             ],
             [
              1,
              "#f0f921"
             ]
            ],
            "type": "heatmap"
           }
          ],
          "heatmapgl": [
           {
            "colorbar": {
             "outlinewidth": 0,
             "ticks": ""
            },
            "colorscale": [
             [
              0,
              "#0d0887"
             ],
             [
              0.1111111111111111,
              "#46039f"
             ],
             [
              0.2222222222222222,
              "#7201a8"
             ],
             [
              0.3333333333333333,
              "#9c179e"
             ],
             [
              0.4444444444444444,
              "#bd3786"
             ],
             [
              0.5555555555555556,
              "#d8576b"
             ],
             [
              0.6666666666666666,
              "#ed7953"
             ],
             [
              0.7777777777777778,
              "#fb9f3a"
             ],
             [
              0.8888888888888888,
              "#fdca26"
             ],
             [
              1,
              "#f0f921"
             ]
            ],
            "type": "heatmapgl"
           }
          ],
          "histogram": [
           {
            "marker": {
             "pattern": {
              "fillmode": "overlay",
              "size": 10,
              "solidity": 0.2
             }
            },
            "type": "histogram"
           }
          ],
          "histogram2d": [
           {
            "colorbar": {
             "outlinewidth": 0,
             "ticks": ""
            },
            "colorscale": [
             [
              0,
              "#0d0887"
             ],
             [
              0.1111111111111111,
              "#46039f"
             ],
             [
              0.2222222222222222,
              "#7201a8"
             ],
             [
              0.3333333333333333,
              "#9c179e"
             ],
             [
              0.4444444444444444,
              "#bd3786"
             ],
             [
              0.5555555555555556,
              "#d8576b"
             ],
             [
              0.6666666666666666,
              "#ed7953"
             ],
             [
              0.7777777777777778,
              "#fb9f3a"
             ],
             [
              0.8888888888888888,
              "#fdca26"
             ],
             [
              1,
              "#f0f921"
             ]
            ],
            "type": "histogram2d"
           }
          ],
          "histogram2dcontour": [
           {
            "colorbar": {
             "outlinewidth": 0,
             "ticks": ""
            },
            "colorscale": [
             [
              0,
              "#0d0887"
             ],
             [
              0.1111111111111111,
              "#46039f"
             ],
             [
              0.2222222222222222,
              "#7201a8"
             ],
             [
              0.3333333333333333,
              "#9c179e"
             ],
             [
              0.4444444444444444,
              "#bd3786"
             ],
             [
              0.5555555555555556,
              "#d8576b"
             ],
             [
              0.6666666666666666,
              "#ed7953"
             ],
             [
              0.7777777777777778,
              "#fb9f3a"
             ],
             [
              0.8888888888888888,
              "#fdca26"
             ],
             [
              1,
              "#f0f921"
             ]
            ],
            "type": "histogram2dcontour"
           }
          ],
          "mesh3d": [
           {
            "colorbar": {
             "outlinewidth": 0,
             "ticks": ""
            },
            "type": "mesh3d"
           }
          ],
          "parcoords": [
           {
            "line": {
             "colorbar": {
              "outlinewidth": 0,
              "ticks": ""
             }
            },
            "type": "parcoords"
           }
          ],
          "pie": [
           {
            "automargin": true,
            "type": "pie"
           }
          ],
          "scatter": [
           {
            "fillpattern": {
             "fillmode": "overlay",
             "size": 10,
             "solidity": 0.2
            },
            "type": "scatter"
           }
          ],
          "scatter3d": [
           {
            "line": {
             "colorbar": {
              "outlinewidth": 0,
              "ticks": ""
             }
            },
            "marker": {
             "colorbar": {
              "outlinewidth": 0,
              "ticks": ""
             }
            },
            "type": "scatter3d"
           }
          ],
          "scattercarpet": [
           {
            "marker": {
             "colorbar": {
              "outlinewidth": 0,
              "ticks": ""
             }
            },
            "type": "scattercarpet"
           }
          ],
          "scattergeo": [
           {
            "marker": {
             "colorbar": {
              "outlinewidth": 0,
              "ticks": ""
             }
            },
            "type": "scattergeo"
           }
          ],
          "scattergl": [
           {
            "marker": {
             "colorbar": {
              "outlinewidth": 0,
              "ticks": ""
             }
            },
            "type": "scattergl"
           }
          ],
          "scattermapbox": [
           {
            "marker": {
             "colorbar": {
              "outlinewidth": 0,
              "ticks": ""
             }
            },
            "type": "scattermapbox"
           }
          ],
          "scatterpolar": [
           {
            "marker": {
             "colorbar": {
              "outlinewidth": 0,
              "ticks": ""
             }
            },
            "type": "scatterpolar"
           }
          ],
          "scatterpolargl": [
           {
            "marker": {
             "colorbar": {
              "outlinewidth": 0,
              "ticks": ""
             }
            },
            "type": "scatterpolargl"
           }
          ],
          "scatterternary": [
           {
            "marker": {
             "colorbar": {
              "outlinewidth": 0,
              "ticks": ""
             }
            },
            "type": "scatterternary"
           }
          ],
          "surface": [
           {
            "colorbar": {
             "outlinewidth": 0,
             "ticks": ""
            },
            "colorscale": [
             [
              0,
              "#0d0887"
             ],
             [
              0.1111111111111111,
              "#46039f"
             ],
             [
              0.2222222222222222,
              "#7201a8"
             ],
             [
              0.3333333333333333,
              "#9c179e"
             ],
             [
              0.4444444444444444,
              "#bd3786"
             ],
             [
              0.5555555555555556,
              "#d8576b"
             ],
             [
              0.6666666666666666,
              "#ed7953"
             ],
             [
              0.7777777777777778,
              "#fb9f3a"
             ],
             [
              0.8888888888888888,
              "#fdca26"
             ],
             [
              1,
              "#f0f921"
             ]
            ],
            "type": "surface"
           }
          ],
          "table": [
           {
            "cells": {
             "fill": {
              "color": "#EBF0F8"
             },
             "line": {
              "color": "white"
             }
            },
            "header": {
             "fill": {
              "color": "#C8D4E3"
             },
             "line": {
              "color": "white"
             }
            },
            "type": "table"
           }
          ]
         },
         "layout": {
          "annotationdefaults": {
           "arrowcolor": "#2a3f5f",
           "arrowhead": 0,
           "arrowwidth": 1
          },
          "autotypenumbers": "strict",
          "coloraxis": {
           "colorbar": {
            "outlinewidth": 0,
            "ticks": ""
           }
          },
          "colorscale": {
           "diverging": [
            [
             0,
             "#8e0152"
            ],
            [
             0.1,
             "#c51b7d"
            ],
            [
             0.2,
             "#de77ae"
            ],
            [
             0.3,
             "#f1b6da"
            ],
            [
             0.4,
             "#fde0ef"
            ],
            [
             0.5,
             "#f7f7f7"
            ],
            [
             0.6,
             "#e6f5d0"
            ],
            [
             0.7,
             "#b8e186"
            ],
            [
             0.8,
             "#7fbc41"
            ],
            [
             0.9,
             "#4d9221"
            ],
            [
             1,
             "#276419"
            ]
           ],
           "sequential": [
            [
             0,
             "#0d0887"
            ],
            [
             0.1111111111111111,
             "#46039f"
            ],
            [
             0.2222222222222222,
             "#7201a8"
            ],
            [
             0.3333333333333333,
             "#9c179e"
            ],
            [
             0.4444444444444444,
             "#bd3786"
            ],
            [
             0.5555555555555556,
             "#d8576b"
            ],
            [
             0.6666666666666666,
             "#ed7953"
            ],
            [
             0.7777777777777778,
             "#fb9f3a"
            ],
            [
             0.8888888888888888,
             "#fdca26"
            ],
            [
             1,
             "#f0f921"
            ]
           ],
           "sequentialminus": [
            [
             0,
             "#0d0887"
            ],
            [
             0.1111111111111111,
             "#46039f"
            ],
            [
             0.2222222222222222,
             "#7201a8"
            ],
            [
             0.3333333333333333,
             "#9c179e"
            ],
            [
             0.4444444444444444,
             "#bd3786"
            ],
            [
             0.5555555555555556,
             "#d8576b"
            ],
            [
             0.6666666666666666,
             "#ed7953"
            ],
            [
             0.7777777777777778,
             "#fb9f3a"
            ],
            [
             0.8888888888888888,
             "#fdca26"
            ],
            [
             1,
             "#f0f921"
            ]
           ]
          },
          "colorway": [
           "#636efa",
           "#EF553B",
           "#00cc96",
           "#ab63fa",
           "#FFA15A",
           "#19d3f3",
           "#FF6692",
           "#B6E880",
           "#FF97FF",
           "#FECB52"
          ],
          "font": {
           "color": "#2a3f5f"
          },
          "geo": {
           "bgcolor": "white",
           "lakecolor": "white",
           "landcolor": "#E5ECF6",
           "showlakes": true,
           "showland": true,
           "subunitcolor": "white"
          },
          "hoverlabel": {
           "align": "left"
          },
          "hovermode": "closest",
          "mapbox": {
           "style": "light"
          },
          "paper_bgcolor": "white",
          "plot_bgcolor": "#E5ECF6",
          "polar": {
           "angularaxis": {
            "gridcolor": "white",
            "linecolor": "white",
            "ticks": ""
           },
           "bgcolor": "#E5ECF6",
           "radialaxis": {
            "gridcolor": "white",
            "linecolor": "white",
            "ticks": ""
           }
          },
          "scene": {
           "xaxis": {
            "backgroundcolor": "#E5ECF6",
            "gridcolor": "white",
            "gridwidth": 2,
            "linecolor": "white",
            "showbackground": true,
            "ticks": "",
            "zerolinecolor": "white"
           },
           "yaxis": {
            "backgroundcolor": "#E5ECF6",
            "gridcolor": "white",
            "gridwidth": 2,
            "linecolor": "white",
            "showbackground": true,
            "ticks": "",
            "zerolinecolor": "white"
           },
           "zaxis": {
            "backgroundcolor": "#E5ECF6",
            "gridcolor": "white",
            "gridwidth": 2,
            "linecolor": "white",
            "showbackground": true,
            "ticks": "",
            "zerolinecolor": "white"
           }
          },
          "shapedefaults": {
           "line": {
            "color": "#2a3f5f"
           }
          },
          "ternary": {
           "aaxis": {
            "gridcolor": "white",
            "linecolor": "white",
            "ticks": ""
           },
           "baxis": {
            "gridcolor": "white",
            "linecolor": "white",
            "ticks": ""
           },
           "bgcolor": "#E5ECF6",
           "caxis": {
            "gridcolor": "white",
            "linecolor": "white",
            "ticks": ""
           }
          },
          "title": {
           "x": 0.05
          },
          "xaxis": {
           "automargin": true,
           "gridcolor": "white",
           "linecolor": "white",
           "ticks": "",
           "title": {
            "standoff": 15
           },
           "zerolinecolor": "white",
           "zerolinewidth": 2
          },
          "yaxis": {
           "automargin": true,
           "gridcolor": "white",
           "linecolor": "white",
           "ticks": "",
           "title": {
            "standoff": 15
           },
           "zerolinecolor": "white",
           "zerolinewidth": 2
          }
         }
        },
        "title": {
         "text": "Cummulative vaccine of a country above the average in month"
        },
        "xaxis": {
         "anchor": "y",
         "domain": [
          0,
          1
         ],
         "title": {
          "text": "Month"
         }
        },
        "yaxis": {
         "anchor": "x",
         "domain": [
          0,
          1
         ],
         "title": {
          "text": "Cummulative"
         }
        }
       }
      }
     },
     "metadata": {},
     "output_type": "display_data"
    }
   ],
   "source": [
    "row  = queryDB(queries[1])\n",
    "\n",
    "# Create DataFrame\n",
    "df = pd.DataFrame(row,columns=['Country','Month', 'Cummulative' ])\n",
    "\n",
    "# Create scatter plot\n",
    "fig = px.scatter(\n",
    "    df,\n",
    "    x='Month',          \n",
    "    y='Cummulative',\n",
    "    color='Country',\n",
    "    hover_name='Country',\n",
    "    title='Cummulative vaccine of a country above the average in month'\n",
    ")\n",
    "\n",
    "# Show the plot\n",
    "fig.show()\n"
   ]
  },
  {
   "cell_type": "code",
   "execution_count": 6,
   "metadata": {},
   "outputs": [
    {
     "data": {
      "application/vnd.plotly.v1+json": {
       "config": {
        "plotlyServerURL": "https://plot.ly"
       },
       "data": [
        {
         "domain": {
          "x": [
           0,
           1
          ],
          "y": [
           0,
           1
          ]
         },
         "hovertemplate": "Vaccine=%{label}<br>Count=%{value}<extra></extra>",
         "labels": [
          "Moderna",
          "Sputnik V",
          "Sinopharm/Beijing",
          "CanSino",
          "Pfizer/BioNTech",
          "Novavax",
          "Oxford/AstraZeneca",
          "Sinovac",
          "Abdala",
          "Johnson&Johnson",
          "Sputnik Light",
          "Medigen",
          "Soberana Plus",
          "Covaxin",
          "ZF2001",
          "Sinopharm/Wuhan",
          "QazVac",
          "Valneva",
          "KCONVAC",
          "EpiVacCorona",
          "Medicago",
          "Turkovac",
          "COVIran Barekat",
          "Sanofi/GSK",
          "Soberana02",
          "KoviVac/Chumakov",
          "IMBCAMS",
          "Corbevax"
         ],
         "legendgroup": "",
         "name": "",
         "showlegend": true,
         "type": "pie",
         "values": [
          115,
          67,
          96,
          27,
          166,
          33,
          187,
          67,
          4,
          106,
          29,
          1,
          1,
          31,
          3,
          3,
          2,
          2,
          1,
          2,
          1,
          1,
          1,
          4,
          4,
          1,
          1,
          1
         ]
        }
       ],
       "layout": {
        "legend": {
         "tracegroupgap": 0
        },
        "template": {
         "data": {
          "bar": [
           {
            "error_x": {
             "color": "#2a3f5f"
            },
            "error_y": {
             "color": "#2a3f5f"
            },
            "marker": {
             "line": {
              "color": "#E5ECF6",
              "width": 0.5
             },
             "pattern": {
              "fillmode": "overlay",
              "size": 10,
              "solidity": 0.2
             }
            },
            "type": "bar"
           }
          ],
          "barpolar": [
           {
            "marker": {
             "line": {
              "color": "#E5ECF6",
              "width": 0.5
             },
             "pattern": {
              "fillmode": "overlay",
              "size": 10,
              "solidity": 0.2
             }
            },
            "type": "barpolar"
           }
          ],
          "carpet": [
           {
            "aaxis": {
             "endlinecolor": "#2a3f5f",
             "gridcolor": "white",
             "linecolor": "white",
             "minorgridcolor": "white",
             "startlinecolor": "#2a3f5f"
            },
            "baxis": {
             "endlinecolor": "#2a3f5f",
             "gridcolor": "white",
             "linecolor": "white",
             "minorgridcolor": "white",
             "startlinecolor": "#2a3f5f"
            },
            "type": "carpet"
           }
          ],
          "choropleth": [
           {
            "colorbar": {
             "outlinewidth": 0,
             "ticks": ""
            },
            "type": "choropleth"
           }
          ],
          "contour": [
           {
            "colorbar": {
             "outlinewidth": 0,
             "ticks": ""
            },
            "colorscale": [
             [
              0,
              "#0d0887"
             ],
             [
              0.1111111111111111,
              "#46039f"
             ],
             [
              0.2222222222222222,
              "#7201a8"
             ],
             [
              0.3333333333333333,
              "#9c179e"
             ],
             [
              0.4444444444444444,
              "#bd3786"
             ],
             [
              0.5555555555555556,
              "#d8576b"
             ],
             [
              0.6666666666666666,
              "#ed7953"
             ],
             [
              0.7777777777777778,
              "#fb9f3a"
             ],
             [
              0.8888888888888888,
              "#fdca26"
             ],
             [
              1,
              "#f0f921"
             ]
            ],
            "type": "contour"
           }
          ],
          "contourcarpet": [
           {
            "colorbar": {
             "outlinewidth": 0,
             "ticks": ""
            },
            "type": "contourcarpet"
           }
          ],
          "heatmap": [
           {
            "colorbar": {
             "outlinewidth": 0,
             "ticks": ""
            },
            "colorscale": [
             [
              0,
              "#0d0887"
             ],
             [
              0.1111111111111111,
              "#46039f"
             ],
             [
              0.2222222222222222,
              "#7201a8"
             ],
             [
              0.3333333333333333,
              "#9c179e"
             ],
             [
              0.4444444444444444,
              "#bd3786"
             ],
             [
              0.5555555555555556,
              "#d8576b"
             ],
             [
              0.6666666666666666,
              "#ed7953"
             ],
             [
              0.7777777777777778,
              "#fb9f3a"
             ],
             [
              0.8888888888888888,
              "#fdca26"
             ],
             [
              1,
              "#f0f921"
             ]
            ],
            "type": "heatmap"
           }
          ],
          "heatmapgl": [
           {
            "colorbar": {
             "outlinewidth": 0,
             "ticks": ""
            },
            "colorscale": [
             [
              0,
              "#0d0887"
             ],
             [
              0.1111111111111111,
              "#46039f"
             ],
             [
              0.2222222222222222,
              "#7201a8"
             ],
             [
              0.3333333333333333,
              "#9c179e"
             ],
             [
              0.4444444444444444,
              "#bd3786"
             ],
             [
              0.5555555555555556,
              "#d8576b"
             ],
             [
              0.6666666666666666,
              "#ed7953"
             ],
             [
              0.7777777777777778,
              "#fb9f3a"
             ],
             [
              0.8888888888888888,
              "#fdca26"
             ],
             [
              1,
              "#f0f921"
             ]
            ],
            "type": "heatmapgl"
           }
          ],
          "histogram": [
           {
            "marker": {
             "pattern": {
              "fillmode": "overlay",
              "size": 10,
              "solidity": 0.2
             }
            },
            "type": "histogram"
           }
          ],
          "histogram2d": [
           {
            "colorbar": {
             "outlinewidth": 0,
             "ticks": ""
            },
            "colorscale": [
             [
              0,
              "#0d0887"
             ],
             [
              0.1111111111111111,
              "#46039f"
             ],
             [
              0.2222222222222222,
              "#7201a8"
             ],
             [
              0.3333333333333333,
              "#9c179e"
             ],
             [
              0.4444444444444444,
              "#bd3786"
             ],
             [
              0.5555555555555556,
              "#d8576b"
             ],
             [
              0.6666666666666666,
              "#ed7953"
             ],
             [
              0.7777777777777778,
              "#fb9f3a"
             ],
             [
              0.8888888888888888,
              "#fdca26"
             ],
             [
              1,
              "#f0f921"
             ]
            ],
            "type": "histogram2d"
           }
          ],
          "histogram2dcontour": [
           {
            "colorbar": {
             "outlinewidth": 0,
             "ticks": ""
            },
            "colorscale": [
             [
              0,
              "#0d0887"
             ],
             [
              0.1111111111111111,
              "#46039f"
             ],
             [
              0.2222222222222222,
              "#7201a8"
             ],
             [
              0.3333333333333333,
              "#9c179e"
             ],
             [
              0.4444444444444444,
              "#bd3786"
             ],
             [
              0.5555555555555556,
              "#d8576b"
             ],
             [
              0.6666666666666666,
              "#ed7953"
             ],
             [
              0.7777777777777778,
              "#fb9f3a"
             ],
             [
              0.8888888888888888,
              "#fdca26"
             ],
             [
              1,
              "#f0f921"
             ]
            ],
            "type": "histogram2dcontour"
           }
          ],
          "mesh3d": [
           {
            "colorbar": {
             "outlinewidth": 0,
             "ticks": ""
            },
            "type": "mesh3d"
           }
          ],
          "parcoords": [
           {
            "line": {
             "colorbar": {
              "outlinewidth": 0,
              "ticks": ""
             }
            },
            "type": "parcoords"
           }
          ],
          "pie": [
           {
            "automargin": true,
            "type": "pie"
           }
          ],
          "scatter": [
           {
            "fillpattern": {
             "fillmode": "overlay",
             "size": 10,
             "solidity": 0.2
            },
            "type": "scatter"
           }
          ],
          "scatter3d": [
           {
            "line": {
             "colorbar": {
              "outlinewidth": 0,
              "ticks": ""
             }
            },
            "marker": {
             "colorbar": {
              "outlinewidth": 0,
              "ticks": ""
             }
            },
            "type": "scatter3d"
           }
          ],
          "scattercarpet": [
           {
            "marker": {
             "colorbar": {
              "outlinewidth": 0,
              "ticks": ""
             }
            },
            "type": "scattercarpet"
           }
          ],
          "scattergeo": [
           {
            "marker": {
             "colorbar": {
              "outlinewidth": 0,
              "ticks": ""
             }
            },
            "type": "scattergeo"
           }
          ],
          "scattergl": [
           {
            "marker": {
             "colorbar": {
              "outlinewidth": 0,
              "ticks": ""
             }
            },
            "type": "scattergl"
           }
          ],
          "scattermapbox": [
           {
            "marker": {
             "colorbar": {
              "outlinewidth": 0,
              "ticks": ""
             }
            },
            "type": "scattermapbox"
           }
          ],
          "scatterpolar": [
           {
            "marker": {
             "colorbar": {
              "outlinewidth": 0,
              "ticks": ""
             }
            },
            "type": "scatterpolar"
           }
          ],
          "scatterpolargl": [
           {
            "marker": {
             "colorbar": {
              "outlinewidth": 0,
              "ticks": ""
             }
            },
            "type": "scatterpolargl"
           }
          ],
          "scatterternary": [
           {
            "marker": {
             "colorbar": {
              "outlinewidth": 0,
              "ticks": ""
             }
            },
            "type": "scatterternary"
           }
          ],
          "surface": [
           {
            "colorbar": {
             "outlinewidth": 0,
             "ticks": ""
            },
            "colorscale": [
             [
              0,
              "#0d0887"
             ],
             [
              0.1111111111111111,
              "#46039f"
             ],
             [
              0.2222222222222222,
              "#7201a8"
             ],
             [
              0.3333333333333333,
              "#9c179e"
             ],
             [
              0.4444444444444444,
              "#bd3786"
             ],
             [
              0.5555555555555556,
              "#d8576b"
             ],
             [
              0.6666666666666666,
              "#ed7953"
             ],
             [
              0.7777777777777778,
              "#fb9f3a"
             ],
             [
              0.8888888888888888,
              "#fdca26"
             ],
             [
              1,
              "#f0f921"
             ]
            ],
            "type": "surface"
           }
          ],
          "table": [
           {
            "cells": {
             "fill": {
              "color": "#EBF0F8"
             },
             "line": {
              "color": "white"
             }
            },
            "header": {
             "fill": {
              "color": "#C8D4E3"
             },
             "line": {
              "color": "white"
             }
            },
            "type": "table"
           }
          ]
         },
         "layout": {
          "annotationdefaults": {
           "arrowcolor": "#2a3f5f",
           "arrowhead": 0,
           "arrowwidth": 1
          },
          "autotypenumbers": "strict",
          "coloraxis": {
           "colorbar": {
            "outlinewidth": 0,
            "ticks": ""
           }
          },
          "colorscale": {
           "diverging": [
            [
             0,
             "#8e0152"
            ],
            [
             0.1,
             "#c51b7d"
            ],
            [
             0.2,
             "#de77ae"
            ],
            [
             0.3,
             "#f1b6da"
            ],
            [
             0.4,
             "#fde0ef"
            ],
            [
             0.5,
             "#f7f7f7"
            ],
            [
             0.6,
             "#e6f5d0"
            ],
            [
             0.7,
             "#b8e186"
            ],
            [
             0.8,
             "#7fbc41"
            ],
            [
             0.9,
             "#4d9221"
            ],
            [
             1,
             "#276419"
            ]
           ],
           "sequential": [
            [
             0,
             "#0d0887"
            ],
            [
             0.1111111111111111,
             "#46039f"
            ],
            [
             0.2222222222222222,
             "#7201a8"
            ],
            [
             0.3333333333333333,
             "#9c179e"
            ],
            [
             0.4444444444444444,
             "#bd3786"
            ],
            [
             0.5555555555555556,
             "#d8576b"
            ],
            [
             0.6666666666666666,
             "#ed7953"
            ],
            [
             0.7777777777777778,
             "#fb9f3a"
            ],
            [
             0.8888888888888888,
             "#fdca26"
            ],
            [
             1,
             "#f0f921"
            ]
           ],
           "sequentialminus": [
            [
             0,
             "#0d0887"
            ],
            [
             0.1111111111111111,
             "#46039f"
            ],
            [
             0.2222222222222222,
             "#7201a8"
            ],
            [
             0.3333333333333333,
             "#9c179e"
            ],
            [
             0.4444444444444444,
             "#bd3786"
            ],
            [
             0.5555555555555556,
             "#d8576b"
            ],
            [
             0.6666666666666666,
             "#ed7953"
            ],
            [
             0.7777777777777778,
             "#fb9f3a"
            ],
            [
             0.8888888888888888,
             "#fdca26"
            ],
            [
             1,
             "#f0f921"
            ]
           ]
          },
          "colorway": [
           "#636efa",
           "#EF553B",
           "#00cc96",
           "#ab63fa",
           "#FFA15A",
           "#19d3f3",
           "#FF6692",
           "#B6E880",
           "#FF97FF",
           "#FECB52"
          ],
          "font": {
           "color": "#2a3f5f"
          },
          "geo": {
           "bgcolor": "white",
           "lakecolor": "white",
           "landcolor": "#E5ECF6",
           "showlakes": true,
           "showland": true,
           "subunitcolor": "white"
          },
          "hoverlabel": {
           "align": "left"
          },
          "hovermode": "closest",
          "mapbox": {
           "style": "light"
          },
          "paper_bgcolor": "white",
          "plot_bgcolor": "#E5ECF6",
          "polar": {
           "angularaxis": {
            "gridcolor": "white",
            "linecolor": "white",
            "ticks": ""
           },
           "bgcolor": "#E5ECF6",
           "radialaxis": {
            "gridcolor": "white",
            "linecolor": "white",
            "ticks": ""
           }
          },
          "scene": {
           "xaxis": {
            "backgroundcolor": "#E5ECF6",
            "gridcolor": "white",
            "gridwidth": 2,
            "linecolor": "white",
            "showbackground": true,
            "ticks": "",
            "zerolinecolor": "white"
           },
           "yaxis": {
            "backgroundcolor": "#E5ECF6",
            "gridcolor": "white",
            "gridwidth": 2,
            "linecolor": "white",
            "showbackground": true,
            "ticks": "",
            "zerolinecolor": "white"
           },
           "zaxis": {
            "backgroundcolor": "#E5ECF6",
            "gridcolor": "white",
            "gridwidth": 2,
            "linecolor": "white",
            "showbackground": true,
            "ticks": "",
            "zerolinecolor": "white"
           }
          },
          "shapedefaults": {
           "line": {
            "color": "#2a3f5f"
           }
          },
          "ternary": {
           "aaxis": {
            "gridcolor": "white",
            "linecolor": "white",
            "ticks": ""
           },
           "baxis": {
            "gridcolor": "white",
            "linecolor": "white",
            "ticks": ""
           },
           "bgcolor": "#E5ECF6",
           "caxis": {
            "gridcolor": "white",
            "linecolor": "white",
            "ticks": ""
           }
          },
          "title": {
           "x": 0.05
          },
          "xaxis": {
           "automargin": true,
           "gridcolor": "white",
           "linecolor": "white",
           "ticks": "",
           "title": {
            "standoff": 15
           },
           "zerolinecolor": "white",
           "zerolinewidth": 2
          },
          "yaxis": {
           "automargin": true,
           "gridcolor": "white",
           "linecolor": "white",
           "ticks": "",
           "title": {
            "standoff": 15
           },
           "zerolinecolor": "white",
           "zerolinewidth": 2
          }
         }
        },
        "title": {
         "text": "Vaccine Distribution"
        }
       }
      }
     },
     "metadata": {},
     "output_type": "display_data"
    }
   ],
   "source": [
    "row = queryDB(queries[2])\n",
    "\n",
    "vaccinationByCountry = {}\n",
    "for vaccine, country in row:\n",
    "    if vaccine in vaccinationByCountry:\n",
    "        vaccinationByCountry[vaccine] += 1\n",
    "    else:\n",
    "        vaccinationByCountry[vaccine] = 1\n",
    "\n",
    "# Create DataFrame\n",
    "df = pd.DataFrame(vaccinationByCountry.items(), columns=['Vaccine', 'Count'])\n",
    "\n",
    "# Create pie chart\n",
    "fig = px.pie(\n",
    "    df,\n",
    "    names='Vaccine',\n",
    "    values='Count',\n",
    "    title='Vaccine Distribution'\n",
    ")\n",
    "\n",
    "# Show the plot\n",
    "fig.show()\n"
   ]
  },
  {
   "cell_type": "code",
   "execution_count": 7,
   "metadata": {},
   "outputs": [
    {
     "data": {
      "application/vnd.plotly.v1+json": {
       "config": {
        "plotlyServerURL": "https://plot.ly"
       },
       "data": [
        {
         "hovertemplate": "<b>%{hovertext}</b><br><br>Country=Pitcairn<br>index=%{x}<br>Vaccination=%{marker.size}<extra></extra>",
         "hovertext": [
          "Pitcairn"
         ],
         "legendgroup": "Pitcairn",
         "marker": {
          "color": "#636efa",
          "size": [
           465
          ],
          "sizemode": "area",
          "sizeref": 4851822696.1875,
          "symbol": "circle"
         },
         "mode": "markers",
         "name": "Pitcairn",
         "orientation": "v",
         "showlegend": true,
         "type": "scatter",
         "x": [
          0
         ],
         "xaxis": "x",
         "y": [
          465
         ],
         "yaxis": "y"
        },
        {
         "hovertemplate": "<b>%{hovertext}</b><br><br>Country=Falkland Islands<br>index=%{x}<br>Vaccination=%{marker.size}<extra></extra>",
         "hovertext": [
          "Falkland Islands"
         ],
         "legendgroup": "Falkland Islands",
         "marker": {
          "color": "#EF553B",
          "size": [
           14163
          ],
          "sizemode": "area",
          "sizeref": 4851822696.1875,
          "symbol": "circle"
         },
         "mode": "markers",
         "name": "Falkland Islands",
         "orientation": "v",
         "showlegend": true,
         "type": "scatter",
         "x": [
          1
         ],
         "xaxis": "x",
         "y": [
          14163
         ],
         "yaxis": "y"
        },
        {
         "hovertemplate": "<b>%{hovertext}</b><br><br>Country=Tokelau<br>index=%{x}<br>Vaccination=%{marker.size}<extra></extra>",
         "hovertext": [
          "Tokelau"
         ],
         "legendgroup": "Tokelau",
         "marker": {
          "color": "#00cc96",
          "size": [
           18977
          ],
          "sizemode": "area",
          "sizeref": 4851822696.1875,
          "symbol": "circle"
         },
         "mode": "markers",
         "name": "Tokelau",
         "orientation": "v",
         "showlegend": true,
         "type": "scatter",
         "x": [
          2
         ],
         "xaxis": "x",
         "y": [
          18977
         ],
         "yaxis": "y"
        },
        {
         "hovertemplate": "<b>%{hovertext}</b><br><br>Country=Niue<br>index=%{x}<br>Vaccination=%{marker.size}<extra></extra>",
         "hovertext": [
          "Niue"
         ],
         "legendgroup": "Niue",
         "marker": {
          "color": "#ab63fa",
          "size": [
           20785
          ],
          "sizemode": "area",
          "sizeref": 4851822696.1875,
          "symbol": "circle"
         },
         "mode": "markers",
         "name": "Niue",
         "orientation": "v",
         "showlegend": true,
         "type": "scatter",
         "x": [
          3
         ],
         "xaxis": "x",
         "y": [
          20785
         ],
         "yaxis": "y"
        },
        {
         "hovertemplate": "<b>%{hovertext}</b><br><br>Country=Saint Helena<br>index=%{x}<br>Vaccination=%{marker.size}<extra></extra>",
         "hovertext": [
          "Saint Helena"
         ],
         "legendgroup": "Saint Helena",
         "marker": {
          "color": "#FFA15A",
          "size": [
           24233
          ],
          "sizemode": "area",
          "sizeref": 4851822696.1875,
          "symbol": "circle"
         },
         "mode": "markers",
         "name": "Saint Helena",
         "orientation": "v",
         "showlegend": true,
         "type": "scatter",
         "x": [
          4
         ],
         "xaxis": "x",
         "y": [
          24233
         ],
         "yaxis": "y"
        },
        {
         "hovertemplate": "<b>%{hovertext}</b><br><br>Country=Bonaire Sint Eustatius and Saba<br>index=%{x}<br>Vaccination=%{marker.size}<extra></extra>",
         "hovertext": [
          "Bonaire Sint Eustatius and Saba"
         ],
         "legendgroup": "Bonaire Sint Eustatius and Saba",
         "marker": {
          "color": "#19d3f3",
          "size": [
           43236
          ],
          "sizemode": "area",
          "sizeref": 4851822696.1875,
          "symbol": "circle"
         },
         "mode": "markers",
         "name": "Bonaire Sint Eustatius and Saba",
         "orientation": "v",
         "showlegend": true,
         "type": "scatter",
         "x": [
          5
         ],
         "xaxis": "x",
         "y": [
          43236
         ],
         "yaxis": "y"
        },
        {
         "hovertemplate": "<b>%{hovertext}</b><br><br>Country=Tuvalu<br>index=%{x}<br>Vaccination=%{marker.size}<extra></extra>",
         "hovertext": [
          "Tuvalu"
         ],
         "legendgroup": "Tuvalu",
         "marker": {
          "color": "#FF6692",
          "size": [
           156452
          ],
          "sizemode": "area",
          "sizeref": 4851822696.1875,
          "symbol": "circle"
         },
         "mode": "markers",
         "name": "Tuvalu",
         "orientation": "v",
         "showlegend": true,
         "type": "scatter",
         "x": [
          6
         ],
         "xaxis": "x",
         "y": [
          156452
         ],
         "yaxis": "y"
        },
        {
         "hovertemplate": "<b>%{hovertext}</b><br><br>Country=Montserrat<br>index=%{x}<br>Vaccination=%{marker.size}<extra></extra>",
         "hovertext": [
          "Montserrat"
         ],
         "legendgroup": "Montserrat",
         "marker": {
          "color": "#B6E880",
          "size": [
           171218
          ],
          "sizemode": "area",
          "sizeref": 4851822696.1875,
          "symbol": "circle"
         },
         "mode": "markers",
         "name": "Montserrat",
         "orientation": "v",
         "showlegend": true,
         "type": "scatter",
         "x": [
          7
         ],
         "xaxis": "x",
         "y": [
          171218
         ],
         "yaxis": "y"
        },
        {
         "hovertemplate": "<b>%{hovertext}</b><br><br>Country=Nauru<br>index=%{x}<br>Vaccination=%{marker.size}<extra></extra>",
         "hovertext": [
          "Nauru"
         ],
         "legendgroup": "Nauru",
         "marker": {
          "color": "#FF97FF",
          "size": [
           247098
          ],
          "sizemode": "area",
          "sizeref": 4851822696.1875,
          "symbol": "circle"
         },
         "mode": "markers",
         "name": "Nauru",
         "orientation": "v",
         "showlegend": true,
         "type": "scatter",
         "x": [
          8
         ],
         "xaxis": "x",
         "y": [
          247098
         ],
         "yaxis": "y"
        },
        {
         "hovertemplate": "<b>%{hovertext}</b><br><br>Country=Wallis and Futuna<br>index=%{x}<br>Vaccination=%{marker.size}<extra></extra>",
         "hovertext": [
          "Wallis and Futuna"
         ],
         "legendgroup": "Wallis and Futuna",
         "marker": {
          "color": "#FECB52",
          "size": [
           483705
          ],
          "sizemode": "area",
          "sizeref": 4851822696.1875,
          "symbol": "circle"
         },
         "mode": "markers",
         "name": "Wallis and Futuna",
         "orientation": "v",
         "showlegend": true,
         "type": "scatter",
         "x": [
          9
         ],
         "xaxis": "x",
         "y": [
          483705
         ],
         "yaxis": "y"
        },
        {
         "hovertemplate": "<b>%{hovertext}</b><br><br>Country=Cook Islands<br>index=%{x}<br>Vaccination=%{marker.size}<extra></extra>",
         "hovertext": [
          "Cook Islands"
         ],
         "legendgroup": "Cook Islands",
         "marker": {
          "color": "#636efa",
          "size": [
           698904
          ],
          "sizemode": "area",
          "sizeref": 4851822696.1875,
          "symbol": "circle"
         },
         "mode": "markers",
         "name": "Cook Islands",
         "orientation": "v",
         "showlegend": true,
         "type": "scatter",
         "x": [
          10
         ],
         "xaxis": "x",
         "y": [
          698904
         ],
         "yaxis": "y"
        },
        {
         "hovertemplate": "<b>%{hovertext}</b><br><br>Country=Monaco<br>index=%{x}<br>Vaccination=%{marker.size}<extra></extra>",
         "hovertext": [
          "Monaco"
         ],
         "legendgroup": "Monaco",
         "marker": {
          "color": "#EF553B",
          "size": [
           867304
          ],
          "sizemode": "area",
          "sizeref": 4851822696.1875,
          "symbol": "circle"
         },
         "mode": "markers",
         "name": "Monaco",
         "orientation": "v",
         "showlegend": true,
         "type": "scatter",
         "x": [
          11
         ],
         "xaxis": "x",
         "y": [
          867304
         ],
         "yaxis": "y"
        },
        {
         "hovertemplate": "<b>%{hovertext}</b><br><br>Country=Burundi<br>index=%{x}<br>Vaccination=%{marker.size}<extra></extra>",
         "hovertext": [
          "Burundi"
         ],
         "legendgroup": "Burundi",
         "marker": {
          "color": "#00cc96",
          "size": [
           1281996
          ],
          "sizemode": "area",
          "sizeref": 4851822696.1875,
          "symbol": "circle"
         },
         "mode": "markers",
         "name": "Burundi",
         "orientation": "v",
         "showlegend": true,
         "type": "scatter",
         "x": [
          12
         ],
         "xaxis": "x",
         "y": [
          1281996
         ],
         "yaxis": "y"
        },
        {
         "hovertemplate": "<b>%{hovertext}</b><br><br>Country=Anguilla<br>index=%{x}<br>Vaccination=%{marker.size}<extra></extra>",
         "hovertext": [
          "Anguilla"
         ],
         "legendgroup": "Anguilla",
         "marker": {
          "color": "#ab63fa",
          "size": [
           1290079
          ],
          "sizemode": "area",
          "sizeref": 4851822696.1875,
          "symbol": "circle"
         },
         "mode": "markers",
         "name": "Anguilla",
         "orientation": "v",
         "showlegend": true,
         "type": "scatter",
         "x": [
          13
         ],
         "xaxis": "x",
         "y": [
          1290079
         ],
         "yaxis": "y"
        },
        {
         "hovertemplate": "<b>%{hovertext}</b><br><br>Country=Turks and Caicos Islands<br>index=%{x}<br>Vaccination=%{marker.size}<extra></extra>",
         "hovertext": [
          "Turks and Caicos Islands"
         ],
         "legendgroup": "Turks and Caicos Islands",
         "marker": {
          "color": "#FFA15A",
          "size": [
           1374005
          ],
          "sizemode": "area",
          "sizeref": 4851822696.1875,
          "symbol": "circle"
         },
         "mode": "markers",
         "name": "Turks and Caicos Islands",
         "orientation": "v",
         "showlegend": true,
         "type": "scatter",
         "x": [
          14
         ],
         "xaxis": "x",
         "y": [
          1374005
         ],
         "yaxis": "y"
        },
        {
         "hovertemplate": "<b>%{hovertext}</b><br><br>Country=British Virgin Islands<br>index=%{x}<br>Vaccination=%{marker.size}<extra></extra>",
         "hovertext": [
          "British Virgin Islands"
         ],
         "legendgroup": "British Virgin Islands",
         "marker": {
          "color": "#19d3f3",
          "size": [
           1606945
          ],
          "sizemode": "area",
          "sizeref": 4851822696.1875,
          "symbol": "circle"
         },
         "mode": "markers",
         "name": "British Virgin Islands",
         "orientation": "v",
         "showlegend": true,
         "type": "scatter",
         "x": [
          15
         ],
         "xaxis": "x",
         "y": [
          1606945
         ],
         "yaxis": "y"
        },
        {
         "hovertemplate": "<b>%{hovertext}</b><br><br>Country=Sint Maarten (Dutch part)<br>index=%{x}<br>Vaccination=%{marker.size}<extra></extra>",
         "hovertext": [
          "Sint Maarten (Dutch part)"
         ],
         "legendgroup": "Sint Maarten (Dutch part)",
         "marker": {
          "color": "#FF6692",
          "size": [
           2613824
          ],
          "sizemode": "area",
          "sizeref": 4851822696.1875,
          "symbol": "circle"
         },
         "mode": "markers",
         "name": "Sint Maarten (Dutch part)",
         "orientation": "v",
         "showlegend": true,
         "type": "scatter",
         "x": [
          16
         ],
         "xaxis": "x",
         "y": [
          2613824
         ],
         "yaxis": "y"
        },
        {
         "hovertemplate": "<b>%{hovertext}</b><br><br>Country=Kiribati<br>index=%{x}<br>Vaccination=%{marker.size}<extra></extra>",
         "hovertext": [
          "Kiribati"
         ],
         "legendgroup": "Kiribati",
         "marker": {
          "color": "#B6E880",
          "size": [
           2941577
          ],
          "sizemode": "area",
          "sizeref": 4851822696.1875,
          "symbol": "circle"
         },
         "mode": "markers",
         "name": "Kiribati",
         "orientation": "v",
         "showlegend": true,
         "type": "scatter",
         "x": [
          17
         ],
         "xaxis": "x",
         "y": [
          2941577
         ],
         "yaxis": "y"
        },
        {
         "hovertemplate": "<b>%{hovertext}</b><br><br>Country=Saint Kitts and Nevis<br>index=%{x}<br>Vaccination=%{marker.size}<extra></extra>",
         "hovertext": [
          "Saint Kitts and Nevis"
         ],
         "legendgroup": "Saint Kitts and Nevis",
         "marker": {
          "color": "#FF97FF",
          "size": [
           3189974
          ],
          "sizemode": "area",
          "sizeref": 4851822696.1875,
          "symbol": "circle"
         },
         "mode": "markers",
         "name": "Saint Kitts and Nevis",
         "orientation": "v",
         "showlegend": true,
         "type": "scatter",
         "x": [
          18
         ],
         "xaxis": "x",
         "y": [
          3189974
         ],
         "yaxis": "y"
        },
        {
         "hovertemplate": "<b>%{hovertext}</b><br><br>Country=San Marino<br>index=%{x}<br>Vaccination=%{marker.size}<extra></extra>",
         "hovertext": [
          "San Marino"
         ],
         "legendgroup": "San Marino",
         "marker": {
          "color": "#FECB52",
          "size": [
           4277634
          ],
          "sizemode": "area",
          "sizeref": 4851822696.1875,
          "symbol": "circle"
         },
         "mode": "markers",
         "name": "San Marino",
         "orientation": "v",
         "showlegend": true,
         "type": "scatter",
         "x": [
          19
         ],
         "xaxis": "x",
         "y": [
          4277634
         ],
         "yaxis": "y"
        },
        {
         "hovertemplate": "<b>%{hovertext}</b><br><br>Country=Tonga<br>index=%{x}<br>Vaccination=%{marker.size}<extra></extra>",
         "hovertext": [
          "Tonga"
         ],
         "legendgroup": "Tonga",
         "marker": {
          "color": "#636efa",
          "size": [
           4640848
          ],
          "sizemode": "area",
          "sizeref": 4851822696.1875,
          "symbol": "circle"
         },
         "mode": "markers",
         "name": "Tonga",
         "orientation": "v",
         "showlegend": true,
         "type": "scatter",
         "x": [
          20
         ],
         "xaxis": "x",
         "y": [
          4640848
         ],
         "yaxis": "y"
        },
        {
         "hovertemplate": "<b>%{hovertext}</b><br><br>Country=Dominica<br>index=%{x}<br>Vaccination=%{marker.size}<extra></extra>",
         "hovertext": [
          "Dominica"
         ],
         "legendgroup": "Dominica",
         "marker": {
          "color": "#EF553B",
          "size": [
           4721992
          ],
          "sizemode": "area",
          "sizeref": 4851822696.1875,
          "symbol": "circle"
         },
         "mode": "markers",
         "name": "Dominica",
         "orientation": "v",
         "showlegend": true,
         "type": "scatter",
         "x": [
          21
         ],
         "xaxis": "x",
         "y": [
          4721992
         ],
         "yaxis": "y"
        },
        {
         "hovertemplate": "<b>%{hovertext}</b><br><br>Country=Vanuatu<br>index=%{x}<br>Vaccination=%{marker.size}<extra></extra>",
         "hovertext": [
          "Vanuatu"
         ],
         "legendgroup": "Vanuatu",
         "marker": {
          "color": "#00cc96",
          "size": [
           5057249
          ],
          "sizemode": "area",
          "sizeref": 4851822696.1875,
          "symbol": "circle"
         },
         "mode": "markers",
         "name": "Vanuatu",
         "orientation": "v",
         "showlegend": true,
         "type": "scatter",
         "x": [
          22
         ],
         "xaxis": "x",
         "y": [
          5057249
         ],
         "yaxis": "y"
        },
        {
         "hovertemplate": "<b>%{hovertext}</b><br><br>Country=Bermuda<br>index=%{x}<br>Vaccination=%{marker.size}<extra></extra>",
         "hovertext": [
          "Bermuda"
         ],
         "legendgroup": "Bermuda",
         "marker": {
          "color": "#ab63fa",
          "size": [
           5297377
          ],
          "sizemode": "area",
          "sizeref": 4851822696.1875,
          "symbol": "circle"
         },
         "mode": "markers",
         "name": "Bermuda",
         "orientation": "v",
         "showlegend": true,
         "type": "scatter",
         "x": [
          23
         ],
         "xaxis": "x",
         "y": [
          5297377
         ],
         "yaxis": "y"
        },
        {
         "hovertemplate": "<b>%{hovertext}</b><br><br>Country=Andorra<br>index=%{x}<br>Vaccination=%{marker.size}<extra></extra>",
         "hovertext": [
          "Andorra"
         ],
         "legendgroup": "Andorra",
         "marker": {
          "color": "#FFA15A",
          "size": [
           5846260
          ],
          "sizemode": "area",
          "sizeref": 4851822696.1875,
          "symbol": "circle"
         },
         "mode": "markers",
         "name": "Andorra",
         "orientation": "v",
         "showlegend": true,
         "type": "scatter",
         "x": [
          24
         ],
         "xaxis": "x",
         "y": [
          5846260
         ],
         "yaxis": "y"
        },
        {
         "hovertemplate": "<b>%{hovertext}</b><br><br>Country=Greenland<br>index=%{x}<br>Vaccination=%{marker.size}<extra></extra>",
         "hovertext": [
          "Greenland"
         ],
         "legendgroup": "Greenland",
         "marker": {
          "color": "#19d3f3",
          "size": [
           6166074
          ],
          "sizemode": "area",
          "sizeref": 4851822696.1875,
          "symbol": "circle"
         },
         "mode": "markers",
         "name": "Greenland",
         "orientation": "v",
         "showlegend": true,
         "type": "scatter",
         "x": [
          25
         ],
         "xaxis": "x",
         "y": [
          6166074
         ],
         "yaxis": "y"
        },
        {
         "hovertemplate": "<b>%{hovertext}</b><br><br>Country=Grenada<br>index=%{x}<br>Vaccination=%{marker.size}<extra></extra>",
         "hovertext": [
          "Grenada"
         ],
         "legendgroup": "Grenada",
         "marker": {
          "color": "#FF6692",
          "size": [
           6440866
          ],
          "sizemode": "area",
          "sizeref": 4851822696.1875,
          "symbol": "circle"
         },
         "mode": "markers",
         "name": "Grenada",
         "orientation": "v",
         "showlegend": true,
         "type": "scatter",
         "x": [
          26
         ],
         "xaxis": "x",
         "y": [
          6440866
         ],
         "yaxis": "y"
        },
        {
         "hovertemplate": "<b>%{hovertext}</b><br><br>Country=Sao Tome and Principe<br>index=%{x}<br>Vaccination=%{marker.size}<extra></extra>",
         "hovertext": [
          "Sao Tome and Principe"
         ],
         "legendgroup": "Sao Tome and Principe",
         "marker": {
          "color": "#B6E880",
          "size": [
           6650527
          ],
          "sizemode": "area",
          "sizeref": 4851822696.1875,
          "symbol": "circle"
         },
         "mode": "markers",
         "name": "Sao Tome and Principe",
         "orientation": "v",
         "showlegend": true,
         "type": "scatter",
         "x": [
          27
         ],
         "xaxis": "x",
         "y": [
          6650527
         ],
         "yaxis": "y"
        },
        {
         "hovertemplate": "<b>%{hovertext}</b><br><br>Country=Northern Cyprus<br>index=%{x}<br>Vaccination=%{marker.size}<extra></extra>",
         "hovertext": [
          "Northern Cyprus"
         ],
         "legendgroup": "Northern Cyprus",
         "marker": {
          "color": "#FF97FF",
          "size": [
           6950277
          ],
          "sizemode": "area",
          "sizeref": 4851822696.1875,
          "symbol": "circle"
         },
         "mode": "markers",
         "name": "Northern Cyprus",
         "orientation": "v",
         "showlegend": true,
         "type": "scatter",
         "x": [
          28
         ],
         "xaxis": "x",
         "y": [
          6950277
         ],
         "yaxis": "y"
        },
        {
         "hovertemplate": "<b>%{hovertext}</b><br><br>Country=Saint Vincent and the Grenadines<br>index=%{x}<br>Vaccination=%{marker.size}<extra></extra>",
         "hovertext": [
          "Saint Vincent and the Grenadines"
         ],
         "legendgroup": "Saint Vincent and the Grenadines",
         "marker": {
          "color": "#FECB52",
          "size": [
           7195166
          ],
          "sizemode": "area",
          "sizeref": 4851822696.1875,
          "symbol": "circle"
         },
         "mode": "markers",
         "name": "Saint Vincent and the Grenadines",
         "orientation": "v",
         "showlegend": true,
         "type": "scatter",
         "x": [
          29
         ],
         "xaxis": "x",
         "y": [
          7195166
         ],
         "yaxis": "y"
        },
        {
         "hovertemplate": "<b>%{hovertext}</b><br><br>Country=Antigua and Barbuda<br>index=%{x}<br>Vaccination=%{marker.size}<extra></extra>",
         "hovertext": [
          "Antigua and Barbuda"
         ],
         "legendgroup": "Antigua and Barbuda",
         "marker": {
          "color": "#636efa",
          "size": [
           7482788
          ],
          "sizemode": "area",
          "sizeref": 4851822696.1875,
          "symbol": "circle"
         },
         "mode": "markers",
         "name": "Antigua and Barbuda",
         "orientation": "v",
         "showlegend": true,
         "type": "scatter",
         "x": [
          30
         ],
         "xaxis": "x",
         "y": [
          7482788
         ],
         "yaxis": "y"
        },
        {
         "hovertemplate": "<b>%{hovertext}</b><br><br>Country=Faeroe Islands<br>index=%{x}<br>Vaccination=%{marker.size}<extra></extra>",
         "hovertext": [
          "Faeroe Islands"
         ],
         "legendgroup": "Faeroe Islands",
         "marker": {
          "color": "#EF553B",
          "size": [
           8612023
          ],
          "sizemode": "area",
          "sizeref": 4851822696.1875,
          "symbol": "circle"
         },
         "mode": "markers",
         "name": "Faeroe Islands",
         "orientation": "v",
         "showlegend": true,
         "type": "scatter",
         "x": [
          31
         ],
         "xaxis": "x",
         "y": [
          8612023
         ],
         "yaxis": "y"
        },
        {
         "hovertemplate": "<b>%{hovertext}</b><br><br>Country=Guernsey<br>index=%{x}<br>Vaccination=%{marker.size}<extra></extra>",
         "hovertext": [
          "Guernsey"
         ],
         "legendgroup": "Guernsey",
         "marker": {
          "color": "#00cc96",
          "size": [
           11186003
          ],
          "sizemode": "area",
          "sizeref": 4851822696.1875,
          "symbol": "circle"
         },
         "mode": "markers",
         "name": "Guernsey",
         "orientation": "v",
         "showlegend": true,
         "type": "scatter",
         "x": [
          32
         ],
         "xaxis": "x",
         "y": [
          11186003
         ],
         "yaxis": "y"
        },
        {
         "hovertemplate": "<b>%{hovertext}</b><br><br>Country=Seychelles<br>index=%{x}<br>Vaccination=%{marker.size}<extra></extra>",
         "hovertext": [
          "Seychelles"
         ],
         "legendgroup": "Seychelles",
         "marker": {
          "color": "#ab63fa",
          "size": [
           12369074
          ],
          "sizemode": "area",
          "sizeref": 4851822696.1875,
          "symbol": "circle"
         },
         "mode": "markers",
         "name": "Seychelles",
         "orientation": "v",
         "showlegend": true,
         "type": "scatter",
         "x": [
          33
         ],
         "xaxis": "x",
         "y": [
          12369074
         ],
         "yaxis": "y"
        },
        {
         "hovertemplate": "<b>%{hovertext}</b><br><br>Country=Cayman Islands<br>index=%{x}<br>Vaccination=%{marker.size}<extra></extra>",
         "hovertext": [
          "Cayman Islands"
         ],
         "legendgroup": "Cayman Islands",
         "marker": {
          "color": "#FFA15A",
          "size": [
           12479993
          ],
          "sizemode": "area",
          "sizeref": 4851822696.1875,
          "symbol": "circle"
         },
         "mode": "markers",
         "name": "Cayman Islands",
         "orientation": "v",
         "showlegend": true,
         "type": "scatter",
         "x": [
          34
         ],
         "xaxis": "x",
         "y": [
          12479993
         ],
         "yaxis": "y"
        },
        {
         "hovertemplate": "<b>%{hovertext}</b><br><br>Country=Comoros<br>index=%{x}<br>Vaccination=%{marker.size}<extra></extra>",
         "hovertext": [
          "Comoros"
         ],
         "legendgroup": "Comoros",
         "marker": {
          "color": "#19d3f3",
          "size": [
           12682906
          ],
          "sizemode": "area",
          "sizeref": 4851822696.1875,
          "symbol": "circle"
         },
         "mode": "markers",
         "name": "Comoros",
         "orientation": "v",
         "showlegend": true,
         "type": "scatter",
         "x": [
          35
         ],
         "xaxis": "x",
         "y": [
          12682906
         ],
         "yaxis": "y"
        },
        {
         "hovertemplate": "<b>%{hovertext}</b><br><br>Country=Samoa<br>index=%{x}<br>Vaccination=%{marker.size}<extra></extra>",
         "hovertext": [
          "Samoa"
         ],
         "legendgroup": "Samoa",
         "marker": {
          "color": "#FF6692",
          "size": [
           13363183
          ],
          "sizemode": "area",
          "sizeref": 4851822696.1875,
          "symbol": "circle"
         },
         "mode": "markers",
         "name": "Samoa",
         "orientation": "v",
         "showlegend": true,
         "type": "scatter",
         "x": [
          36
         ],
         "xaxis": "x",
         "y": [
          13363183
         ],
         "yaxis": "y"
        },
        {
         "hovertemplate": "<b>%{hovertext}</b><br><br>Country=Bosnia and Herzegovina<br>index=%{x}<br>Vaccination=%{marker.size}<extra></extra>",
         "hovertext": [
          "Bosnia and Herzegovina"
         ],
         "legendgroup": "Bosnia and Herzegovina",
         "marker": {
          "color": "#B6E880",
          "size": [
           13550064
          ],
          "sizemode": "area",
          "sizeref": 4851822696.1875,
          "symbol": "circle"
         },
         "mode": "markers",
         "name": "Bosnia and Herzegovina",
         "orientation": "v",
         "showlegend": true,
         "type": "scatter",
         "x": [
          37
         ],
         "xaxis": "x",
         "y": [
          13550064
         ],
         "yaxis": "y"
        },
        {
         "hovertemplate": "<b>%{hovertext}</b><br><br>Country=Djibouti<br>index=%{x}<br>Vaccination=%{marker.size}<extra></extra>",
         "hovertext": [
          "Djibouti"
         ],
         "legendgroup": "Djibouti",
         "marker": {
          "color": "#FF97FF",
          "size": [
           13783019
          ],
          "sizemode": "area",
          "sizeref": 4851822696.1875,
          "symbol": "circle"
         },
         "mode": "markers",
         "name": "Djibouti",
         "orientation": "v",
         "showlegend": true,
         "type": "scatter",
         "x": [
          38
         ],
         "xaxis": "x",
         "y": [
          13783019
         ],
         "yaxis": "y"
        },
        {
         "hovertemplate": "<b>%{hovertext}</b><br><br>Country=Solomon Islands<br>index=%{x}<br>Vaccination=%{marker.size}<extra></extra>",
         "hovertext": [
          "Solomon Islands"
         ],
         "legendgroup": "Solomon Islands",
         "marker": {
          "color": "#FECB52",
          "size": [
           14088284
          ],
          "sizemode": "area",
          "sizeref": 4851822696.1875,
          "symbol": "circle"
         },
         "mode": "markers",
         "name": "Solomon Islands",
         "orientation": "v",
         "showlegend": true,
         "type": "scatter",
         "x": [
          39
         ],
         "xaxis": "x",
         "y": [
          14088284
         ],
         "yaxis": "y"
        },
        {
         "hovertemplate": "<b>%{hovertext}</b><br><br>Country=Bahamas<br>index=%{x}<br>Vaccination=%{marker.size}<extra></extra>",
         "hovertext": [
          "Bahamas"
         ],
         "legendgroup": "Bahamas",
         "marker": {
          "color": "#636efa",
          "size": [
           14574520
          ],
          "sizemode": "area",
          "sizeref": 4851822696.1875,
          "symbol": "circle"
         },
         "mode": "markers",
         "name": "Bahamas",
         "orientation": "v",
         "showlegend": true,
         "type": "scatter",
         "x": [
          40
         ],
         "xaxis": "x",
         "y": [
          14574520
         ],
         "yaxis": "y"
        },
        {
         "hovertemplate": "<b>%{hovertext}</b><br><br>Country=Gambia<br>index=%{x}<br>Vaccination=%{marker.size}<extra></extra>",
         "hovertext": [
          "Gambia"
         ],
         "legendgroup": "Gambia",
         "marker": {
          "color": "#EF553B",
          "size": [
           14700467
          ],
          "sizemode": "area",
          "sizeref": 4851822696.1875,
          "symbol": "circle"
         },
         "mode": "markers",
         "name": "Gambia",
         "orientation": "v",
         "showlegend": true,
         "type": "scatter",
         "x": [
          41
         ],
         "xaxis": "x",
         "y": [
          14700467
         ],
         "yaxis": "y"
        },
        {
         "hovertemplate": "<b>%{hovertext}</b><br><br>Country=Gabon<br>index=%{x}<br>Vaccination=%{marker.size}<extra></extra>",
         "hovertext": [
          "Gabon"
         ],
         "legendgroup": "Gabon",
         "marker": {
          "color": "#00cc96",
          "size": [
           14821139
          ],
          "sizemode": "area",
          "sizeref": 4851822696.1875,
          "symbol": "circle"
         },
         "mode": "markers",
         "name": "Gabon",
         "orientation": "v",
         "showlegend": true,
         "type": "scatter",
         "x": [
          42
         ],
         "xaxis": "x",
         "y": [
          14821139
         ],
         "yaxis": "y"
        },
        {
         "hovertemplate": "<b>%{hovertext}</b><br><br>Country=Congo<br>index=%{x}<br>Vaccination=%{marker.size}<extra></extra>",
         "hovertext": [
          "Congo"
         ],
         "legendgroup": "Congo",
         "marker": {
          "color": "#ab63fa",
          "size": [
           16093094
          ],
          "sizemode": "area",
          "sizeref": 4851822696.1875,
          "symbol": "circle"
         },
         "mode": "markers",
         "name": "Congo",
         "orientation": "v",
         "showlegend": true,
         "type": "scatter",
         "x": [
          43
         ],
         "xaxis": "x",
         "y": [
          16093094
         ],
         "yaxis": "y"
        },
        {
         "hovertemplate": "<b>%{hovertext}</b><br><br>Country=Saint Lucia<br>index=%{x}<br>Vaccination=%{marker.size}<extra></extra>",
         "hovertext": [
          "Saint Lucia"
         ],
         "legendgroup": "Saint Lucia",
         "marker": {
          "color": "#FFA15A",
          "size": [
           16747857
          ],
          "sizemode": "area",
          "sizeref": 4851822696.1875,
          "symbol": "circle"
         },
         "mode": "markers",
         "name": "Saint Lucia",
         "orientation": "v",
         "showlegend": true,
         "type": "scatter",
         "x": [
          44
         ],
         "xaxis": "x",
         "y": [
          16747857
         ],
         "yaxis": "y"
        },
        {
         "hovertemplate": "<b>%{hovertext}</b><br><br>Country=Haiti<br>index=%{x}<br>Vaccination=%{marker.size}<extra></extra>",
         "hovertext": [
          "Haiti"
         ],
         "legendgroup": "Haiti",
         "marker": {
          "color": "#19d3f3",
          "size": [
           17099055
          ],
          "sizemode": "area",
          "sizeref": 4851822696.1875,
          "symbol": "circle"
         },
         "mode": "markers",
         "name": "Haiti",
         "orientation": "v",
         "showlegend": true,
         "type": "scatter",
         "x": [
          45
         ],
         "xaxis": "x",
         "y": [
          17099055
         ],
         "yaxis": "y"
        },
        {
         "hovertemplate": "<b>%{hovertext}</b><br><br>Country=French Polynesia<br>index=%{x}<br>Vaccination=%{marker.size}<extra></extra>",
         "hovertext": [
          "French Polynesia"
         ],
         "legendgroup": "French Polynesia",
         "marker": {
          "color": "#FF6692",
          "size": [
           17281651
          ],
          "sizemode": "area",
          "sizeref": 4851822696.1875,
          "symbol": "circle"
         },
         "mode": "markers",
         "name": "French Polynesia",
         "orientation": "v",
         "showlegend": true,
         "type": "scatter",
         "x": [
          46
         ],
         "xaxis": "x",
         "y": [
          17281651
         ],
         "yaxis": "y"
        },
        {
         "hovertemplate": "<b>%{hovertext}</b><br><br>Country=Liechtenstein<br>index=%{x}<br>Vaccination=%{marker.size}<extra></extra>",
         "hovertext": [
          "Liechtenstein"
         ],
         "legendgroup": "Liechtenstein",
         "marker": {
          "color": "#B6E880",
          "size": [
           18520110
          ],
          "sizemode": "area",
          "sizeref": 4851822696.1875,
          "symbol": "circle"
         },
         "mode": "markers",
         "name": "Liechtenstein",
         "orientation": "v",
         "showlegend": true,
         "type": "scatter",
         "x": [
          47
         ],
         "xaxis": "x",
         "y": [
          18520110
         ],
         "yaxis": "y"
        },
        {
         "hovertemplate": "<b>%{hovertext}</b><br><br>Country=Gibraltar<br>index=%{x}<br>Vaccination=%{marker.size}<extra></extra>",
         "hovertext": [
          "Gibraltar"
         ],
         "legendgroup": "Gibraltar",
         "marker": {
          "color": "#FF97FF",
          "size": [
           19047549
          ],
          "sizemode": "area",
          "sizeref": 4851822696.1875,
          "symbol": "circle"
         },
         "mode": "markers",
         "name": "Gibraltar",
         "orientation": "v",
         "showlegend": true,
         "type": "scatter",
         "x": [
          48
         ],
         "xaxis": "x",
         "y": [
          19047549
         ],
         "yaxis": "y"
        },
        {
         "hovertemplate": "<b>%{hovertext}</b><br><br>Country=Lesotho<br>index=%{x}<br>Vaccination=%{marker.size}<extra></extra>",
         "hovertext": [
          "Lesotho"
         ],
         "legendgroup": "Lesotho",
         "marker": {
          "color": "#FECB52",
          "size": [
           21060351
          ],
          "sizemode": "area",
          "sizeref": 4851822696.1875,
          "symbol": "circle"
         },
         "mode": "markers",
         "name": "Lesotho",
         "orientation": "v",
         "showlegend": true,
         "type": "scatter",
         "x": [
          49
         ],
         "xaxis": "x",
         "y": [
          21060351
         ],
         "yaxis": "y"
        },
        {
         "hovertemplate": "<b>%{hovertext}</b><br><br>Country=Guinea-Bissau<br>index=%{x}<br>Vaccination=%{marker.size}<extra></extra>",
         "hovertext": [
          "Guinea-Bissau"
         ],
         "legendgroup": "Guinea-Bissau",
         "marker": {
          "color": "#636efa",
          "size": [
           24490872
          ],
          "sizemode": "area",
          "sizeref": 4851822696.1875,
          "symbol": "circle"
         },
         "mode": "markers",
         "name": "Guinea-Bissau",
         "orientation": "v",
         "showlegend": true,
         "type": "scatter",
         "x": [
          50
         ],
         "xaxis": "x",
         "y": [
          24490872
         ],
         "yaxis": "y"
        },
        {
         "hovertemplate": "<b>%{hovertext}</b><br><br>Country=Jersey<br>index=%{x}<br>Vaccination=%{marker.size}<extra></extra>",
         "hovertext": [
          "Jersey"
         ],
         "legendgroup": "Jersey",
         "marker": {
          "color": "#EF553B",
          "size": [
           24636147
          ],
          "sizemode": "area",
          "sizeref": 4851822696.1875,
          "symbol": "circle"
         },
         "mode": "markers",
         "name": "Jersey",
         "orientation": "v",
         "showlegend": true,
         "type": "scatter",
         "x": [
          51
         ],
         "xaxis": "x",
         "y": [
          24636147
         ],
         "yaxis": "y"
        },
        {
         "hovertemplate": "<b>%{hovertext}</b><br><br>Country=Equatorial Guinea<br>index=%{x}<br>Vaccination=%{marker.size}<extra></extra>",
         "hovertext": [
          "Equatorial Guinea"
         ],
         "legendgroup": "Equatorial Guinea",
         "marker": {
          "color": "#00cc96",
          "size": [
           26882570
          ],
          "sizemode": "area",
          "sizeref": 4851822696.1875,
          "symbol": "circle"
         },
         "mode": "markers",
         "name": "Equatorial Guinea",
         "orientation": "v",
         "showlegend": true,
         "type": "scatter",
         "x": [
          52
         ],
         "xaxis": "x",
         "y": [
          26882570
         ],
         "yaxis": "y"
        },
        {
         "hovertemplate": "<b>%{hovertext}</b><br><br>Country=Cape Verde<br>index=%{x}<br>Vaccination=%{marker.size}<extra></extra>",
         "hovertext": [
          "Cape Verde"
         ],
         "legendgroup": "Cape Verde",
         "marker": {
          "color": "#ab63fa",
          "size": [
           28244587
          ],
          "sizemode": "area",
          "sizeref": 4851822696.1875,
          "symbol": "circle"
         },
         "mode": "markers",
         "name": "Cape Verde",
         "orientation": "v",
         "showlegend": true,
         "type": "scatter",
         "x": [
          53
         ],
         "xaxis": "x",
         "y": [
          28244587
         ],
         "yaxis": "y"
        },
        {
         "hovertemplate": "<b>%{hovertext}</b><br><br>Country=Isle of Man<br>index=%{x}<br>Vaccination=%{marker.size}<extra></extra>",
         "hovertext": [
          "Isle of Man"
         ],
         "legendgroup": "Isle of Man",
         "marker": {
          "color": "#FFA15A",
          "size": [
           29238064
          ],
          "sizemode": "area",
          "sizeref": 4851822696.1875,
          "symbol": "circle"
         },
         "mode": "markers",
         "name": "Isle of Man",
         "orientation": "v",
         "showlegend": true,
         "type": "scatter",
         "x": [
          54
         ],
         "xaxis": "x",
         "y": [
          29238064
         ],
         "yaxis": "y"
        },
        {
         "hovertemplate": "<b>%{hovertext}</b><br><br>Country=Papua New Guinea<br>index=%{x}<br>Vaccination=%{marker.size}<extra></extra>",
         "hovertext": [
          "Papua New Guinea"
         ],
         "legendgroup": "Papua New Guinea",
         "marker": {
          "color": "#19d3f3",
          "size": [
           32331971
          ],
          "sizemode": "area",
          "sizeref": 4851822696.1875,
          "symbol": "circle"
         },
         "mode": "markers",
         "name": "Papua New Guinea",
         "orientation": "v",
         "showlegend": true,
         "type": "scatter",
         "x": [
          55
         ],
         "xaxis": "x",
         "y": [
          32331971
         ],
         "yaxis": "y"
        },
        {
         "hovertemplate": "<b>%{hovertext}</b><br><br>Country=New Caledonia<br>index=%{x}<br>Vaccination=%{marker.size}<extra></extra>",
         "hovertext": [
          "New Caledonia"
         ],
         "legendgroup": "New Caledonia",
         "marker": {
          "color": "#FF6692",
          "size": [
           33746683
          ],
          "sizemode": "area",
          "sizeref": 4851822696.1875,
          "symbol": "circle"
         },
         "mode": "markers",
         "name": "New Caledonia",
         "orientation": "v",
         "showlegend": true,
         "type": "scatter",
         "x": [
          56
         ],
         "xaxis": "x",
         "y": [
          33746683
         ],
         "yaxis": "y"
        },
        {
         "hovertemplate": "<b>%{hovertext}</b><br><br>Country=Eswatini<br>index=%{x}<br>Vaccination=%{marker.size}<extra></extra>",
         "hovertext": [
          "Eswatini"
         ],
         "legendgroup": "Eswatini",
         "marker": {
          "color": "#B6E880",
          "size": [
           34000504
          ],
          "sizemode": "area",
          "sizeref": 4851822696.1875,
          "symbol": "circle"
         },
         "mode": "markers",
         "name": "Eswatini",
         "orientation": "v",
         "showlegend": true,
         "type": "scatter",
         "x": [
          57
         ],
         "xaxis": "x",
         "y": [
          34000504
         ],
         "yaxis": "y"
        },
        {
         "hovertemplate": "<b>%{hovertext}</b><br><br>Country=Yemen<br>index=%{x}<br>Vaccination=%{marker.size}<extra></extra>",
         "hovertext": [
          "Yemen"
         ],
         "legendgroup": "Yemen",
         "marker": {
          "color": "#FF97FF",
          "size": [
           37533887
          ],
          "sizemode": "area",
          "sizeref": 4851822696.1875,
          "symbol": "circle"
         },
         "mode": "markers",
         "name": "Yemen",
         "orientation": "v",
         "showlegend": true,
         "type": "scatter",
         "x": [
          58
         ],
         "xaxis": "x",
         "y": [
          37533887
         ],
         "yaxis": "y"
        },
        {
         "hovertemplate": "<b>%{hovertext}</b><br><br>Country=Belize<br>index=%{x}<br>Vaccination=%{marker.size}<extra></extra>",
         "hovertext": [
          "Belize"
         ],
         "legendgroup": "Belize",
         "marker": {
          "color": "#FECB52",
          "size": [
           43105462
          ],
          "sizemode": "area",
          "sizeref": 4851822696.1875,
          "symbol": "circle"
         },
         "mode": "markers",
         "name": "Belize",
         "orientation": "v",
         "showlegend": true,
         "type": "scatter",
         "x": [
          59
         ],
         "xaxis": "x",
         "y": [
          43105462
         ],
         "yaxis": "y"
        },
        {
         "hovertemplate": "<b>%{hovertext}</b><br><br>Country=Turkmenistan<br>index=%{x}<br>Vaccination=%{marker.size}<extra></extra>",
         "hovertext": [
          "Turkmenistan"
         ],
         "legendgroup": "Turkmenistan",
         "marker": {
          "color": "#636efa",
          "size": [
           45295039
          ],
          "sizemode": "area",
          "sizeref": 4851822696.1875,
          "symbol": "circle"
         },
         "mode": "markers",
         "name": "Turkmenistan",
         "orientation": "v",
         "showlegend": true,
         "type": "scatter",
         "x": [
          60
         ],
         "xaxis": "x",
         "y": [
          45295039
         ],
         "yaxis": "y"
        },
        {
         "hovertemplate": "<b>%{hovertext}</b><br><br>Country=Iceland<br>index=%{x}<br>Vaccination=%{marker.size}<extra></extra>",
         "hovertext": [
          "Iceland"
         ],
         "legendgroup": "Iceland",
         "marker": {
          "color": "#EF553B",
          "size": [
           51942584
          ],
          "sizemode": "area",
          "sizeref": 4851822696.1875,
          "symbol": "circle"
         },
         "mode": "markers",
         "name": "Iceland",
         "orientation": "v",
         "showlegend": true,
         "type": "scatter",
         "x": [
          61
         ],
         "xaxis": "x",
         "y": [
          51942584
         ],
         "yaxis": "y"
        },
        {
         "hovertemplate": "<b>%{hovertext}</b><br><br>Country=Liberia<br>index=%{x}<br>Vaccination=%{marker.size}<extra></extra>",
         "hovertext": [
          "Liberia"
         ],
         "legendgroup": "Liberia",
         "marker": {
          "color": "#00cc96",
          "size": [
           54160620
          ],
          "sizemode": "area",
          "sizeref": 4851822696.1875,
          "symbol": "circle"
         },
         "mode": "markers",
         "name": "Liberia",
         "orientation": "v",
         "showlegend": true,
         "type": "scatter",
         "x": [
          62
         ],
         "xaxis": "x",
         "y": [
          54160620
         ],
         "yaxis": "y"
        },
        {
         "hovertemplate": "<b>%{hovertext}</b><br><br>Country=Armenia<br>index=%{x}<br>Vaccination=%{marker.size}<extra></extra>",
         "hovertext": [
          "Armenia"
         ],
         "legendgroup": "Armenia",
         "marker": {
          "color": "#ab63fa",
          "size": [
           58724412
          ],
          "sizemode": "area",
          "sizeref": 4851822696.1875,
          "symbol": "circle"
         },
         "mode": "markers",
         "name": "Armenia",
         "orientation": "v",
         "showlegend": true,
         "type": "scatter",
         "x": [
          63
         ],
         "xaxis": "x",
         "y": [
          58724412
         ],
         "yaxis": "y"
        },
        {
         "hovertemplate": "<b>%{hovertext}</b><br><br>Country=Namibia<br>index=%{x}<br>Vaccination=%{marker.size}<extra></extra>",
         "hovertext": [
          "Namibia"
         ],
         "legendgroup": "Namibia",
         "marker": {
          "color": "#FFA15A",
          "size": [
           64936035
          ],
          "sizemode": "area",
          "sizeref": 4851822696.1875,
          "symbol": "circle"
         },
         "mode": "markers",
         "name": "Namibia",
         "orientation": "v",
         "showlegend": true,
         "type": "scatter",
         "x": [
          64
         ],
         "xaxis": "x",
         "y": [
          64936035
         ],
         "yaxis": "y"
        },
        {
         "hovertemplate": "<b>%{hovertext}</b><br><br>Country=Suriname<br>index=%{x}<br>Vaccination=%{marker.size}<extra></extra>",
         "hovertext": [
          "Suriname"
         ],
         "legendgroup": "Suriname",
         "marker": {
          "color": "#19d3f3",
          "size": [
           71501862
          ],
          "sizemode": "area",
          "sizeref": 4851822696.1875,
          "symbol": "circle"
         },
         "mode": "markers",
         "name": "Suriname",
         "orientation": "v",
         "showlegend": true,
         "type": "scatter",
         "x": [
          65
         ],
         "xaxis": "x",
         "y": [
          71501862
         ],
         "yaxis": "y"
        },
        {
         "hovertemplate": "<b>%{hovertext}</b><br><br>Country=Guyana<br>index=%{x}<br>Vaccination=%{marker.size}<extra></extra>",
         "hovertext": [
          "Guyana"
         ],
         "legendgroup": "Guyana",
         "marker": {
          "color": "#FF6692",
          "size": [
           72472500
          ],
          "sizemode": "area",
          "sizeref": 4851822696.1875,
          "symbol": "circle"
         },
         "mode": "markers",
         "name": "Guyana",
         "orientation": "v",
         "showlegend": true,
         "type": "scatter",
         "x": [
          66
         ],
         "xaxis": "x",
         "y": [
          72472500
         ],
         "yaxis": "y"
        },
        {
         "hovertemplate": "<b>%{hovertext}</b><br><br>Country=Central African Republic<br>index=%{x}<br>Vaccination=%{marker.size}<extra></extra>",
         "hovertext": [
          "Central African Republic"
         ],
         "legendgroup": "Central African Republic",
         "marker": {
          "color": "#B6E880",
          "size": [
           73101000
          ],
          "sizemode": "area",
          "sizeref": 4851822696.1875,
          "symbol": "circle"
         },
         "mode": "markers",
         "name": "Central African Republic",
         "orientation": "v",
         "showlegend": true,
         "type": "scatter",
         "x": [
          67
         ],
         "xaxis": "x",
         "y": [
          73101000
         ],
         "yaxis": "y"
        },
        {
         "hovertemplate": "<b>%{hovertext}</b><br><br>Country=Benin<br>index=%{x}<br>Vaccination=%{marker.size}<extra></extra>",
         "hovertext": [
          "Benin"
         ],
         "legendgroup": "Benin",
         "marker": {
          "color": "#FF97FF",
          "size": [
           75757734
          ],
          "sizemode": "area",
          "sizeref": 4851822696.1875,
          "symbol": "circle"
         },
         "mode": "markers",
         "name": "Benin",
         "orientation": "v",
         "showlegend": true,
         "type": "scatter",
         "x": [
          68
         ],
         "xaxis": "x",
         "y": [
          75757734
         ],
         "yaxis": "y"
        },
        {
         "hovertemplate": "<b>%{hovertext}</b><br><br>Country=Burkina Faso<br>index=%{x}<br>Vaccination=%{marker.size}<extra></extra>",
         "hovertext": [
          "Burkina Faso"
         ],
         "legendgroup": "Burkina Faso",
         "marker": {
          "color": "#FECB52",
          "size": [
           78794911
          ],
          "sizemode": "area",
          "sizeref": 4851822696.1875,
          "symbol": "circle"
         },
         "mode": "markers",
         "name": "Burkina Faso",
         "orientation": "v",
         "showlegend": true,
         "type": "scatter",
         "x": [
          69
         ],
         "xaxis": "x",
         "y": [
          78794911
         ],
         "yaxis": "y"
        },
        {
         "hovertemplate": "<b>%{hovertext}</b><br><br>Country=Brunei<br>index=%{x}<br>Vaccination=%{marker.size}<extra></extra>",
         "hovertext": [
          "Brunei"
         ],
         "legendgroup": "Brunei",
         "marker": {
          "color": "#636efa",
          "size": [
           91439727
          ],
          "sizemode": "area",
          "sizeref": 4851822696.1875,
          "symbol": "circle"
         },
         "mode": "markers",
         "name": "Brunei",
         "orientation": "v",
         "showlegend": true,
         "type": "scatter",
         "x": [
          70
         ],
         "xaxis": "x",
         "y": [
          91439727
         ],
         "yaxis": "y"
        },
        {
         "hovertemplate": "<b>%{hovertext}</b><br><br>Country=Curacao<br>index=%{x}<br>Vaccination=%{marker.size}<extra></extra>",
         "hovertext": [
          "Curacao"
         ],
         "legendgroup": "Curacao",
         "marker": {
          "color": "#EF553B",
          "size": [
           92495552
          ],
          "sizemode": "area",
          "sizeref": 4851822696.1875,
          "symbol": "circle"
         },
         "mode": "markers",
         "name": "Curacao",
         "orientation": "v",
         "showlegend": true,
         "type": "scatter",
         "x": [
          71
         ],
         "xaxis": "x",
         "y": [
          92495552
         ],
         "yaxis": "y"
        },
        {
         "hovertemplate": "<b>%{hovertext}</b><br><br>Country=Aruba<br>index=%{x}<br>Vaccination=%{marker.size}<extra></extra>",
         "hovertext": [
          "Aruba"
         ],
         "legendgroup": "Aruba",
         "marker": {
          "color": "#00cc96",
          "size": [
           100298978
          ],
          "sizemode": "area",
          "sizeref": 4851822696.1875,
          "symbol": "circle"
         },
         "mode": "markers",
         "name": "Aruba",
         "orientation": "v",
         "showlegend": true,
         "type": "scatter",
         "x": [
          72
         ],
         "xaxis": "x",
         "y": [
          100298978
         ],
         "yaxis": "y"
        },
        {
         "hovertemplate": "<b>%{hovertext}</b><br><br>Country=Botswana<br>index=%{x}<br>Vaccination=%{marker.size}<extra></extra>",
         "hovertext": [
          "Botswana"
         ],
         "legendgroup": "Botswana",
         "marker": {
          "color": "#ab63fa",
          "size": [
           101026778
          ],
          "sizemode": "area",
          "sizeref": 4851822696.1875,
          "symbol": "circle"
         },
         "mode": "markers",
         "name": "Botswana",
         "orientation": "v",
         "showlegend": true,
         "type": "scatter",
         "x": [
          73
         ],
         "xaxis": "x",
         "y": [
          101026778
         ],
         "yaxis": "y"
        },
        {
         "hovertemplate": "<b>%{hovertext}</b><br><br>Country=South Sudan<br>index=%{x}<br>Vaccination=%{marker.size}<extra></extra>",
         "hovertext": [
          "South Sudan"
         ],
         "legendgroup": "South Sudan",
         "marker": {
          "color": "#FFA15A",
          "size": [
           102616724
          ],
          "sizemode": "area",
          "sizeref": 4851822696.1875,
          "symbol": "circle"
         },
         "mode": "markers",
         "name": "South Sudan",
         "orientation": "v",
         "showlegend": true,
         "type": "scatter",
         "x": [
          74
         ],
         "xaxis": "x",
         "y": [
          102616724
         ],
         "yaxis": "y"
        },
        {
         "hovertemplate": "<b>%{hovertext}</b><br><br>Country=Niger<br>index=%{x}<br>Vaccination=%{marker.size}<extra></extra>",
         "hovertext": [
          "Niger"
         ],
         "legendgroup": "Niger",
         "marker": {
          "color": "#19d3f3",
          "size": [
           103078565
          ],
          "sizemode": "area",
          "sizeref": 4851822696.1875,
          "symbol": "circle"
         },
         "mode": "markers",
         "name": "Niger",
         "orientation": "v",
         "showlegend": true,
         "type": "scatter",
         "x": [
          75
         ],
         "xaxis": "x",
         "y": [
          103078565
         ],
         "yaxis": "y"
        },
        {
         "hovertemplate": "<b>%{hovertext}</b><br><br>Country=Madagascar<br>index=%{x}<br>Vaccination=%{marker.size}<extra></extra>",
         "hovertext": [
          "Madagascar"
         ],
         "legendgroup": "Madagascar",
         "marker": {
          "color": "#FF6692",
          "size": [
           104050549
          ],
          "sizemode": "area",
          "sizeref": 4851822696.1875,
          "symbol": "circle"
         },
         "mode": "markers",
         "name": "Madagascar",
         "orientation": "v",
         "showlegend": true,
         "type": "scatter",
         "x": [
          76
         ],
         "xaxis": "x",
         "y": [
          104050549
         ],
         "yaxis": "y"
        },
        {
         "hovertemplate": "<b>%{hovertext}</b><br><br>Country=Senegal<br>index=%{x}<br>Vaccination=%{marker.size}<extra></extra>",
         "hovertext": [
          "Senegal"
         ],
         "legendgroup": "Senegal",
         "marker": {
          "color": "#B6E880",
          "size": [
           113580746
          ],
          "sizemode": "area",
          "sizeref": 4851822696.1875,
          "symbol": "circle"
         },
         "mode": "markers",
         "name": "Senegal",
         "orientation": "v",
         "showlegend": true,
         "type": "scatter",
         "x": [
          77
         ],
         "xaxis": "x",
         "y": [
          113580746
         ],
         "yaxis": "y"
        },
        {
         "hovertemplate": "<b>%{hovertext}</b><br><br>Country=Togo<br>index=%{x}<br>Vaccination=%{marker.size}<extra></extra>",
         "hovertext": [
          "Togo"
         ],
         "legendgroup": "Togo",
         "marker": {
          "color": "#FF97FF",
          "size": [
           114080933
          ],
          "sizemode": "area",
          "sizeref": 4851822696.1875,
          "symbol": "circle"
         },
         "mode": "markers",
         "name": "Togo",
         "orientation": "v",
         "showlegend": true,
         "type": "scatter",
         "x": [
          78
         ],
         "xaxis": "x",
         "y": [
          114080933
         ],
         "yaxis": "y"
        },
        {
         "hovertemplate": "<b>%{hovertext}</b><br><br>Country=Timor<br>index=%{x}<br>Vaccination=%{marker.size}<extra></extra>",
         "hovertext": [
          "Timor"
         ],
         "legendgroup": "Timor",
         "marker": {
          "color": "#FECB52",
          "size": [
           122756634
          ],
          "sizemode": "area",
          "sizeref": 4851822696.1875,
          "symbol": "circle"
         },
         "mode": "markers",
         "name": "Timor",
         "orientation": "v",
         "showlegend": true,
         "type": "scatter",
         "x": [
          79
         ],
         "xaxis": "x",
         "y": [
          122756634
         ],
         "yaxis": "y"
        },
        {
         "hovertemplate": "<b>%{hovertext}</b><br><br>Country=Bhutan<br>index=%{x}<br>Vaccination=%{marker.size}<extra></extra>",
         "hovertext": [
          "Bhutan"
         ],
         "legendgroup": "Bhutan",
         "marker": {
          "color": "#636efa",
          "size": [
           123582319
          ],
          "sizemode": "area",
          "sizeref": 4851822696.1875,
          "symbol": "circle"
         },
         "mode": "markers",
         "name": "Bhutan",
         "orientation": "v",
         "showlegend": true,
         "type": "scatter",
         "x": [
          80
         ],
         "xaxis": "x",
         "y": [
          123582319
         ],
         "yaxis": "y"
        },
        {
         "hovertemplate": "<b>%{hovertext}</b><br><br>Country=Cameroon<br>index=%{x}<br>Vaccination=%{marker.size}<extra></extra>",
         "hovertext": [
          "Cameroon"
         ],
         "legendgroup": "Cameroon",
         "marker": {
          "color": "#EF553B",
          "size": [
           124168712
          ],
          "sizemode": "area",
          "sizeref": 4851822696.1875,
          "symbol": "circle"
         },
         "mode": "markers",
         "name": "Cameroon",
         "orientation": "v",
         "showlegend": true,
         "type": "scatter",
         "x": [
          81
         ],
         "xaxis": "x",
         "y": [
          124168712
         ],
         "yaxis": "y"
        },
        {
         "hovertemplate": "<b>%{hovertext}</b><br><br>Country=Fiji<br>index=%{x}<br>Vaccination=%{marker.size}<extra></extra>",
         "hovertext": [
          "Fiji"
         ],
         "legendgroup": "Fiji",
         "marker": {
          "color": "#00cc96",
          "size": [
           125446455
          ],
          "sizemode": "area",
          "sizeref": 4851822696.1875,
          "symbol": "circle"
         },
         "mode": "markers",
         "name": "Fiji",
         "orientation": "v",
         "showlegend": true,
         "type": "scatter",
         "x": [
          82
         ],
         "xaxis": "x",
         "y": [
          125446455
         ],
         "yaxis": "y"
        },
        {
         "hovertemplate": "<b>%{hovertext}</b><br><br>Country=Barbados<br>index=%{x}<br>Vaccination=%{marker.size}<extra></extra>",
         "hovertext": [
          "Barbados"
         ],
         "legendgroup": "Barbados",
         "marker": {
          "color": "#ab63fa",
          "size": [
           129373500
          ],
          "sizemode": "area",
          "sizeref": 4851822696.1875,
          "symbol": "circle"
         },
         "mode": "markers",
         "name": "Barbados",
         "orientation": "v",
         "showlegend": true,
         "type": "scatter",
         "x": [
          83
         ],
         "xaxis": "x",
         "y": [
          129373500
         ],
         "yaxis": "y"
        },
        {
         "hovertemplate": "<b>%{hovertext}</b><br><br>Country=Mauritius<br>index=%{x}<br>Vaccination=%{marker.size}<extra></extra>",
         "hovertext": [
          "Mauritius"
         ],
         "legendgroup": "Mauritius",
         "marker": {
          "color": "#FFA15A",
          "size": [
           135370418
          ],
          "sizemode": "area",
          "sizeref": 4851822696.1875,
          "symbol": "circle"
         },
         "mode": "markers",
         "name": "Mauritius",
         "orientation": "v",
         "showlegend": true,
         "type": "scatter",
         "x": [
          84
         ],
         "xaxis": "x",
         "y": [
          135370418
         ],
         "yaxis": "y"
        },
        {
         "hovertemplate": "<b>%{hovertext}</b><br><br>Country=Mauritania<br>index=%{x}<br>Vaccination=%{marker.size}<extra></extra>",
         "hovertext": [
          "Mauritania"
         ],
         "legendgroup": "Mauritania",
         "marker": {
          "color": "#19d3f3",
          "size": [
           139339674
          ],
          "sizemode": "area",
          "sizeref": 4851822696.1875,
          "symbol": "circle"
         },
         "mode": "markers",
         "name": "Mauritania",
         "orientation": "v",
         "showlegend": true,
         "type": "scatter",
         "x": [
          85
         ],
         "xaxis": "x",
         "y": [
          139339674
         ],
         "yaxis": "y"
        },
        {
         "hovertemplate": "<b>%{hovertext}</b><br><br>Country=Syria<br>index=%{x}<br>Vaccination=%{marker.size}<extra></extra>",
         "hovertext": [
          "Syria"
         ],
         "legendgroup": "Syria",
         "marker": {
          "color": "#FF6692",
          "size": [
           140039978
          ],
          "sizemode": "area",
          "sizeref": 4851822696.1875,
          "symbol": "circle"
         },
         "mode": "markers",
         "name": "Syria",
         "orientation": "v",
         "showlegend": true,
         "type": "scatter",
         "x": [
          86
         ],
         "xaxis": "x",
         "y": [
          140039978
         ],
         "yaxis": "y"
        },
        {
         "hovertemplate": "<b>%{hovertext}</b><br><br>Country=Chad<br>index=%{x}<br>Vaccination=%{marker.size}<extra></extra>",
         "hovertext": [
          "Chad"
         ],
         "legendgroup": "Chad",
         "marker": {
          "color": "#B6E880",
          "size": [
           149221681
          ],
          "sizemode": "area",
          "sizeref": 4851822696.1875,
          "symbol": "circle"
         },
         "mode": "markers",
         "name": "Chad",
         "orientation": "v",
         "showlegend": true,
         "type": "scatter",
         "x": [
          87
         ],
         "xaxis": "x",
         "y": [
          149221681
         ],
         "yaxis": "y"
        },
        {
         "hovertemplate": "<b>%{hovertext}</b><br><br>Country=Mali<br>index=%{x}<br>Vaccination=%{marker.size}<extra></extra>",
         "hovertext": [
          "Mali"
         ],
         "legendgroup": "Mali",
         "marker": {
          "color": "#FF97FF",
          "size": [
           154473262
          ],
          "sizemode": "area",
          "sizeref": 4851822696.1875,
          "symbol": "circle"
         },
         "mode": "markers",
         "name": "Mali",
         "orientation": "v",
         "showlegend": true,
         "type": "scatter",
         "x": [
          88
         ],
         "xaxis": "x",
         "y": [
          154473262
         ],
         "yaxis": "y"
        },
        {
         "hovertemplate": "<b>%{hovertext}</b><br><br>Country=North Macedonia<br>index=%{x}<br>Vaccination=%{marker.size}<extra></extra>",
         "hovertext": [
          "North Macedonia"
         ],
         "legendgroup": "North Macedonia",
         "marker": {
          "color": "#FECB52",
          "size": [
           163897657
          ],
          "sizemode": "area",
          "sizeref": 4851822696.1875,
          "symbol": "circle"
         },
         "mode": "markers",
         "name": "North Macedonia",
         "orientation": "v",
         "showlegend": true,
         "type": "scatter",
         "x": [
          89
         ],
         "xaxis": "x",
         "y": [
          163897657
         ],
         "yaxis": "y"
        },
        {
         "hovertemplate": "<b>%{hovertext}</b><br><br>Country=Somalia<br>index=%{x}<br>Vaccination=%{marker.size}<extra></extra>",
         "hovertext": [
          "Somalia"
         ],
         "legendgroup": "Somalia",
         "marker": {
          "color": "#636efa",
          "size": [
           185247910
          ],
          "sizemode": "area",
          "sizeref": 4851822696.1875,
          "symbol": "circle"
         },
         "mode": "markers",
         "name": "Somalia",
         "orientation": "v",
         "showlegend": true,
         "type": "scatter",
         "x": [
          90
         ],
         "xaxis": "x",
         "y": [
          185247910
         ],
         "yaxis": "y"
        },
        {
         "hovertemplate": "<b>%{hovertext}</b><br><br>Country=Democratic Republic of Congo<br>index=%{x}<br>Vaccination=%{marker.size}<extra></extra>",
         "hovertext": [
          "Democratic Republic of Congo"
         ],
         "legendgroup": "Democratic Republic of Congo",
         "marker": {
          "color": "#EF553B",
          "size": [
           185300704
          ],
          "sizemode": "area",
          "sizeref": 4851822696.1875,
          "symbol": "circle"
         },
         "mode": "markers",
         "name": "Democratic Republic of Congo",
         "orientation": "v",
         "showlegend": true,
         "type": "scatter",
         "x": [
          91
         ],
         "xaxis": "x",
         "y": [
          185300704
         ],
         "yaxis": "y"
        },
        {
         "hovertemplate": "<b>%{hovertext}</b><br><br>Country=Cyprus<br>index=%{x}<br>Vaccination=%{marker.size}<extra></extra>",
         "hovertext": [
          "Cyprus"
         ],
         "legendgroup": "Cyprus",
         "marker": {
          "color": "#00cc96",
          "size": [
           188496747
          ],
          "sizemode": "area",
          "sizeref": 4851822696.1875,
          "symbol": "circle"
         },
         "mode": "markers",
         "name": "Cyprus",
         "orientation": "v",
         "showlegend": true,
         "type": "scatter",
         "x": [
          92
         ],
         "xaxis": "x",
         "y": [
          188496747
         ],
         "yaxis": "y"
        },
        {
         "hovertemplate": "<b>%{hovertext}</b><br><br>Country=Sierra Leone<br>index=%{x}<br>Vaccination=%{marker.size}<extra></extra>",
         "hovertext": [
          "Sierra Leone"
         ],
         "legendgroup": "Sierra Leone",
         "marker": {
          "color": "#ab63fa",
          "size": [
           192725876
          ],
          "sizemode": "area",
          "sizeref": 4851822696.1875,
          "symbol": "circle"
         },
         "mode": "markers",
         "name": "Sierra Leone",
         "orientation": "v",
         "showlegend": true,
         "type": "scatter",
         "x": [
          93
         ],
         "xaxis": "x",
         "y": [
          192725876
         ],
         "yaxis": "y"
        },
        {
         "hovertemplate": "<b>%{hovertext}</b><br><br>Country=Oman<br>index=%{x}<br>Vaccination=%{marker.size}<extra></extra>",
         "hovertext": [
          "Oman"
         ],
         "legendgroup": "Oman",
         "marker": {
          "color": "#FFA15A",
          "size": [
           202937980
          ],
          "sizemode": "area",
          "sizeref": 4851822696.1875,
          "symbol": "circle"
         },
         "mode": "markers",
         "name": "Oman",
         "orientation": "v",
         "showlegend": true,
         "type": "scatter",
         "x": [
          94
         ],
         "xaxis": "x",
         "y": [
          202937980
         ],
         "yaxis": "y"
        },
        {
         "hovertemplate": "<b>%{hovertext}</b><br><br>Country=Sudan<br>index=%{x}<br>Vaccination=%{marker.size}<extra></extra>",
         "hovertext": [
          "Sudan"
         ],
         "legendgroup": "Sudan",
         "marker": {
          "color": "#19d3f3",
          "size": [
           204334353
          ],
          "sizemode": "area",
          "sizeref": 4851822696.1875,
          "symbol": "circle"
         },
         "mode": "markers",
         "name": "Sudan",
         "orientation": "v",
         "showlegend": true,
         "type": "scatter",
         "x": [
          95
         ],
         "xaxis": "x",
         "y": [
          204334353
         ],
         "yaxis": "y"
        },
        {
         "hovertemplate": "<b>%{hovertext}</b><br><br>Country=Maldives<br>index=%{x}<br>Vaccination=%{marker.size}<extra></extra>",
         "hovertext": [
          "Maldives"
         ],
         "legendgroup": "Maldives",
         "marker": {
          "color": "#FF6692",
          "size": [
           214353973
          ],
          "sizemode": "area",
          "sizeref": 4851822696.1875,
          "symbol": "circle"
         },
         "mode": "markers",
         "name": "Maldives",
         "orientation": "v",
         "showlegend": true,
         "type": "scatter",
         "x": [
          96
         ],
         "xaxis": "x",
         "y": [
          214353973
         ],
         "yaxis": "y"
        },
        {
         "hovertemplate": "<b>%{hovertext}</b><br><br>Country=Montenegro<br>index=%{x}<br>Vaccination=%{marker.size}<extra></extra>",
         "hovertext": [
          "Montenegro"
         ],
         "legendgroup": "Montenegro",
         "marker": {
          "color": "#B6E880",
          "size": [
           225015167
          ],
          "sizemode": "area",
          "sizeref": 4851822696.1875,
          "symbol": "circle"
         },
         "mode": "markers",
         "name": "Montenegro",
         "orientation": "v",
         "showlegend": true,
         "type": "scatter",
         "x": [
          97
         ],
         "xaxis": "x",
         "y": [
          225015167
         ],
         "yaxis": "y"
        },
        {
         "hovertemplate": "<b>%{hovertext}</b><br><br>Country=Palestine<br>index=%{x}<br>Vaccination=%{marker.size}<extra></extra>",
         "hovertext": [
          "Palestine"
         ],
         "legendgroup": "Palestine",
         "marker": {
          "color": "#FF97FF",
          "size": [
           244175218
          ],
          "sizemode": "area",
          "sizeref": 4851822696.1875,
          "symbol": "circle"
         },
         "mode": "markers",
         "name": "Palestine",
         "orientation": "v",
         "showlegend": true,
         "type": "scatter",
         "x": [
          98
         ],
         "xaxis": "x",
         "y": [
          244175218
         ],
         "yaxis": "y"
        },
        {
         "hovertemplate": "<b>%{hovertext}</b><br><br>Country=Libya<br>index=%{x}<br>Vaccination=%{marker.size}<extra></extra>",
         "hovertext": [
          "Libya"
         ],
         "legendgroup": "Libya",
         "marker": {
          "color": "#FECB52",
          "size": [
           275909321
          ],
          "sizemode": "area",
          "sizeref": 4851822696.1875,
          "symbol": "circle"
         },
         "mode": "markers",
         "name": "Libya",
         "orientation": "v",
         "showlegend": true,
         "type": "scatter",
         "x": [
          99
         ],
         "xaxis": "x",
         "y": [
          275909321
         ],
         "yaxis": "y"
        },
        {
         "hovertemplate": "<b>%{hovertext}</b><br><br>Country=Slovakia<br>index=%{x}<br>Vaccination=%{marker.size}<extra></extra>",
         "hovertext": [
          "Slovakia"
         ],
         "legendgroup": "Slovakia",
         "marker": {
          "color": "#636efa",
          "size": [
           295067101
          ],
          "sizemode": "area",
          "sizeref": 4851822696.1875,
          "symbol": "circle"
         },
         "mode": "markers",
         "name": "Slovakia",
         "orientation": "v",
         "showlegend": true,
         "type": "scatter",
         "x": [
          100
         ],
         "xaxis": "x",
         "y": [
          295067101
         ],
         "yaxis": "y"
        },
        {
         "hovertemplate": "<b>%{hovertext}</b><br><br>Country=Algeria<br>index=%{x}<br>Vaccination=%{marker.size}<extra></extra>",
         "hovertext": [
          "Algeria"
         ],
         "legendgroup": "Algeria",
         "marker": {
          "color": "#EF553B",
          "size": [
           298397256
          ],
          "sizemode": "area",
          "sizeref": 4851822696.1875,
          "symbol": "circle"
         },
         "mode": "markers",
         "name": "Algeria",
         "orientation": "v",
         "showlegend": true,
         "type": "scatter",
         "x": [
          101
         ],
         "xaxis": "x",
         "y": [
          298397256
         ],
         "yaxis": "y"
        },
        {
         "hovertemplate": "<b>%{hovertext}</b><br><br>Country=Tajikistan<br>index=%{x}<br>Vaccination=%{marker.size}<extra></extra>",
         "hovertext": [
          "Tajikistan"
         ],
         "legendgroup": "Tajikistan",
         "marker": {
          "color": "#00cc96",
          "size": [
           345008106
          ],
          "sizemode": "area",
          "sizeref": 4851822696.1875,
          "symbol": "circle"
         },
         "mode": "markers",
         "name": "Tajikistan",
         "orientation": "v",
         "showlegend": true,
         "type": "scatter",
         "x": [
          102
         ],
         "xaxis": "x",
         "y": [
          345008106
         ],
         "yaxis": "y"
        },
        {
         "hovertemplate": "<b>%{hovertext}</b><br><br>Country=Venezuela<br>index=%{x}<br>Vaccination=%{marker.size}<extra></extra>",
         "hovertext": [
          "Venezuela"
         ],
         "legendgroup": "Venezuela",
         "marker": {
          "color": "#ab63fa",
          "size": [
           347134856
          ],
          "sizemode": "area",
          "sizeref": 4851822696.1875,
          "symbol": "circle"
         },
         "mode": "markers",
         "name": "Venezuela",
         "orientation": "v",
         "showlegend": true,
         "type": "scatter",
         "x": [
          103
         ],
         "xaxis": "x",
         "y": [
          347134856
         ],
         "yaxis": "y"
        },
        {
         "hovertemplate": "<b>%{hovertext}</b><br><br>Country=Moldova<br>index=%{x}<br>Vaccination=%{marker.size}<extra></extra>",
         "hovertext": [
          "Moldova"
         ],
         "legendgroup": "Moldova",
         "marker": {
          "color": "#FFA15A",
          "size": [
           376023740
          ],
          "sizemode": "area",
          "sizeref": 4851822696.1875,
          "symbol": "circle"
         },
         "mode": "markers",
         "name": "Moldova",
         "orientation": "v",
         "showlegend": true,
         "type": "scatter",
         "x": [
          104
         ],
         "xaxis": "x",
         "y": [
          376023740
         ],
         "yaxis": "y"
        },
        {
         "hovertemplate": "<b>%{hovertext}</b><br><br>Country=Macao<br>index=%{x}<br>Vaccination=%{marker.size}<extra></extra>",
         "hovertext": [
          "Macao"
         ],
         "legendgroup": "Macao",
         "marker": {
          "color": "#19d3f3",
          "size": [
           384291451
          ],
          "sizemode": "area",
          "sizeref": 4851822696.1875,
          "symbol": "circle"
         },
         "mode": "markers",
         "name": "Macao",
         "orientation": "v",
         "showlegend": true,
         "type": "scatter",
         "x": [
          105
         ],
         "xaxis": "x",
         "y": [
          384291451
         ],
         "yaxis": "y"
        },
        {
         "hovertemplate": "<b>%{hovertext}</b><br><br>Country=Jamaica<br>index=%{x}<br>Vaccination=%{marker.size}<extra></extra>",
         "hovertext": [
          "Jamaica"
         ],
         "legendgroup": "Jamaica",
         "marker": {
          "color": "#FF6692",
          "size": [
           392377889
          ],
          "sizemode": "area",
          "sizeref": 4851822696.1875,
          "symbol": "circle"
         },
         "mode": "markers",
         "name": "Jamaica",
         "orientation": "v",
         "showlegend": true,
         "type": "scatter",
         "x": [
          106
         ],
         "xaxis": "x",
         "y": [
          392377889
         ],
         "yaxis": "y"
        },
        {
         "hovertemplate": "<b>%{hovertext}</b><br><br>Country=Albania<br>index=%{x}<br>Vaccination=%{marker.size}<extra></extra>",
         "hovertext": [
          "Albania"
         ],
         "legendgroup": "Albania",
         "marker": {
          "color": "#B6E880",
          "size": [
           395364296
          ],
          "sizemode": "area",
          "sizeref": 4851822696.1875,
          "symbol": "circle"
         },
         "mode": "markers",
         "name": "Albania",
         "orientation": "v",
         "showlegend": true,
         "type": "scatter",
         "x": [
          107
         ],
         "xaxis": "x",
         "y": [
          395364296
         ],
         "yaxis": "y"
        },
        {
         "hovertemplate": "<b>%{hovertext}</b><br><br>Country=Malawi<br>index=%{x}<br>Vaccination=%{marker.size}<extra></extra>",
         "hovertext": [
          "Malawi"
         ],
         "legendgroup": "Malawi",
         "marker": {
          "color": "#FF97FF",
          "size": [
           418372551
          ],
          "sizemode": "area",
          "sizeref": 4851822696.1875,
          "symbol": "circle"
         },
         "mode": "markers",
         "name": "Malawi",
         "orientation": "v",
         "showlegend": true,
         "type": "scatter",
         "x": [
          108
         ],
         "xaxis": "x",
         "y": [
          418372551
         ],
         "yaxis": "y"
        },
        {
         "hovertemplate": "<b>%{hovertext}</b><br><br>Country=Guinea<br>index=%{x}<br>Vaccination=%{marker.size}<extra></extra>",
         "hovertext": [
          "Guinea"
         ],
         "legendgroup": "Guinea",
         "marker": {
          "color": "#FECB52",
          "size": [
           434860738
          ],
          "sizemode": "area",
          "sizeref": 4851822696.1875,
          "symbol": "circle"
         },
         "mode": "markers",
         "name": "Guinea",
         "orientation": "v",
         "showlegend": true,
         "type": "scatter",
         "x": [
          109
         ],
         "xaxis": "x",
         "y": [
          434860738
         ],
         "yaxis": "y"
        },
        {
         "hovertemplate": "<b>%{hovertext}</b><br><br>Country=Georgia<br>index=%{x}<br>Vaccination=%{marker.size}<extra></extra>",
         "hovertext": [
          "Georgia"
         ],
         "legendgroup": "Georgia",
         "marker": {
          "color": "#636efa",
          "size": [
           478298998
          ],
          "sizemode": "area",
          "sizeref": 4851822696.1875,
          "symbol": "circle"
         },
         "mode": "markers",
         "name": "Georgia",
         "orientation": "v",
         "showlegend": true,
         "type": "scatter",
         "x": [
          110
         ],
         "xaxis": "x",
         "y": [
          478298998
         ],
         "yaxis": "y"
        },
        {
         "hovertemplate": "<b>%{hovertext}</b><br><br>Country=Trinidad and Tobago<br>index=%{x}<br>Vaccination=%{marker.size}<extra></extra>",
         "hovertext": [
          "Trinidad and Tobago"
         ],
         "legendgroup": "Trinidad and Tobago",
         "marker": {
          "color": "#EF553B",
          "size": [
           500570767
          ],
          "sizemode": "area",
          "sizeref": 4851822696.1875,
          "symbol": "circle"
         },
         "mode": "markers",
         "name": "Trinidad and Tobago",
         "orientation": "v",
         "showlegend": true,
         "type": "scatter",
         "x": [
          111
         ],
         "xaxis": "x",
         "y": [
          500570767
         ],
         "yaxis": "y"
        },
        {
         "hovertemplate": "<b>%{hovertext}</b><br><br>Country=Ghana<br>index=%{x}<br>Vaccination=%{marker.size}<extra></extra>",
         "hovertext": [
          "Ghana"
         ],
         "legendgroup": "Ghana",
         "marker": {
          "color": "#00cc96",
          "size": [
           556044211
          ],
          "sizemode": "area",
          "sizeref": 4851822696.1875,
          "symbol": "circle"
         },
         "mode": "markers",
         "name": "Ghana",
         "orientation": "v",
         "showlegend": true,
         "type": "scatter",
         "x": [
          112
         ],
         "xaxis": "x",
         "y": [
          556044211
         ],
         "yaxis": "y"
        },
        {
         "hovertemplate": "<b>%{hovertext}</b><br><br>Country=Mozambique<br>index=%{x}<br>Vaccination=%{marker.size}<extra></extra>",
         "hovertext": [
          "Mozambique"
         ],
         "legendgroup": "Mozambique",
         "marker": {
          "color": "#ab63fa",
          "size": [
           561270607
          ],
          "sizemode": "area",
          "sizeref": 4851822696.1875,
          "symbol": "circle"
         },
         "mode": "markers",
         "name": "Mozambique",
         "orientation": "v",
         "showlegend": true,
         "type": "scatter",
         "x": [
          113
         ],
         "xaxis": "x",
         "y": [
          561270607
         ],
         "yaxis": "y"
        },
        {
         "hovertemplate": "<b>%{hovertext}</b><br><br>Country=Laos<br>index=%{x}<br>Vaccination=%{marker.size}<extra></extra>",
         "hovertext": [
          "Laos"
         ],
         "legendgroup": "Laos",
         "marker": {
          "color": "#FFA15A",
          "size": [
           568620611
          ],
          "sizemode": "area",
          "sizeref": 4851822696.1875,
          "symbol": "circle"
         },
         "mode": "markers",
         "name": "Laos",
         "orientation": "v",
         "showlegend": true,
         "type": "scatter",
         "x": [
          114
         ],
         "xaxis": "x",
         "y": [
          568620611
         ],
         "yaxis": "y"
        },
        {
         "hovertemplate": "<b>%{hovertext}</b><br><br>Country=Tanzania<br>index=%{x}<br>Vaccination=%{marker.size}<extra></extra>",
         "hovertext": [
          "Tanzania"
         ],
         "legendgroup": "Tanzania",
         "marker": {
          "color": "#19d3f3",
          "size": [
           573246506
          ],
          "sizemode": "area",
          "sizeref": 4851822696.1875,
          "symbol": "circle"
         },
         "mode": "markers",
         "name": "Tanzania",
         "orientation": "v",
         "showlegend": true,
         "type": "scatter",
         "x": [
          115
         ],
         "xaxis": "x",
         "y": [
          573246506
         ],
         "yaxis": "y"
        },
        {
         "hovertemplate": "<b>%{hovertext}</b><br><br>Country=Panama<br>index=%{x}<br>Vaccination=%{marker.size}<extra></extra>",
         "hovertext": [
          "Panama"
         ],
         "legendgroup": "Panama",
         "marker": {
          "color": "#FF6692",
          "size": [
           597387626
          ],
          "sizemode": "area",
          "sizeref": 4851822696.1875,
          "symbol": "circle"
         },
         "mode": "markers",
         "name": "Panama",
         "orientation": "v",
         "showlegend": true,
         "type": "scatter",
         "x": [
          116
         ],
         "xaxis": "x",
         "y": [
          597387626
         ],
         "yaxis": "y"
        },
        {
         "hovertemplate": "<b>%{hovertext}</b><br><br>Country=Costa Rica<br>index=%{x}<br>Vaccination=%{marker.size}<extra></extra>",
         "hovertext": [
          "Costa Rica"
         ],
         "legendgroup": "Costa Rica",
         "marker": {
          "color": "#B6E880",
          "size": [
           610119336
          ],
          "sizemode": "area",
          "sizeref": 4851822696.1875,
          "symbol": "circle"
         },
         "mode": "markers",
         "name": "Costa Rica",
         "orientation": "v",
         "showlegend": true,
         "type": "scatter",
         "x": [
          117
         ],
         "xaxis": "x",
         "y": [
          610119336
         ],
         "yaxis": "y"
        },
        {
         "hovertemplate": "<b>%{hovertext}</b><br><br>Country=Cote d'Ivoire<br>index=%{x}<br>Vaccination=%{marker.size}<extra></extra>",
         "hovertext": [
          "Cote d'Ivoire"
         ],
         "legendgroup": "Cote d'Ivoire",
         "marker": {
          "color": "#FF97FF",
          "size": [
           612666548
          ],
          "sizemode": "area",
          "sizeref": 4851822696.1875,
          "symbol": "circle"
         },
         "mode": "markers",
         "name": "Cote d'Ivoire",
         "orientation": "v",
         "showlegend": true,
         "type": "scatter",
         "x": [
          118
         ],
         "xaxis": "x",
         "y": [
          612666548
         ],
         "yaxis": "y"
        },
        {
         "hovertemplate": "<b>%{hovertext}</b><br><br>Country=Belarus<br>index=%{x}<br>Vaccination=%{marker.size}<extra></extra>",
         "hovertext": [
          "Belarus"
         ],
         "legendgroup": "Belarus",
         "marker": {
          "color": "#FECB52",
          "size": [
           618646885
          ],
          "sizemode": "area",
          "sizeref": 4851822696.1875,
          "symbol": "circle"
         },
         "mode": "markers",
         "name": "Belarus",
         "orientation": "v",
         "showlegend": true,
         "type": "scatter",
         "x": [
          119
         ],
         "xaxis": "x",
         "y": [
          618646885
         ],
         "yaxis": "y"
        },
        {
         "hovertemplate": "<b>%{hovertext}</b><br><br>Country=Zambia<br>index=%{x}<br>Vaccination=%{marker.size}<extra></extra>",
         "hovertext": [
          "Zambia"
         ],
         "legendgroup": "Zambia",
         "marker": {
          "color": "#636efa",
          "size": [
           632532634
          ],
          "sizemode": "area",
          "sizeref": 4851822696.1875,
          "symbol": "circle"
         },
         "mode": "markers",
         "name": "Zambia",
         "orientation": "v",
         "showlegend": true,
         "type": "scatter",
         "x": [
          120
         ],
         "xaxis": "x",
         "y": [
          632532634
         ],
         "yaxis": "y"
        },
        {
         "hovertemplate": "<b>%{hovertext}</b><br><br>Country=Luxembourg<br>index=%{x}<br>Vaccination=%{marker.size}<extra></extra>",
         "hovertext": [
          "Luxembourg"
         ],
         "legendgroup": "Luxembourg",
         "marker": {
          "color": "#EF553B",
          "size": [
           684641413
          ],
          "sizemode": "area",
          "sizeref": 4851822696.1875,
          "symbol": "circle"
         },
         "mode": "markers",
         "name": "Luxembourg",
         "orientation": "v",
         "showlegend": true,
         "type": "scatter",
         "x": [
          121
         ],
         "xaxis": "x",
         "y": [
          684641413
         ],
         "yaxis": "y"
        },
        {
         "hovertemplate": "<b>%{hovertext}</b><br><br>Country=Honduras<br>index=%{x}<br>Vaccination=%{marker.size}<extra></extra>",
         "hovertext": [
          "Honduras"
         ],
         "legendgroup": "Honduras",
         "marker": {
          "color": "#00cc96",
          "size": [
           708069763
          ],
          "sizemode": "area",
          "sizeref": 4851822696.1875,
          "symbol": "circle"
         },
         "mode": "markers",
         "name": "Honduras",
         "orientation": "v",
         "showlegend": true,
         "type": "scatter",
         "x": [
          122
         ],
         "xaxis": "x",
         "y": [
          708069763
         ],
         "yaxis": "y"
        },
        {
         "hovertemplate": "<b>%{hovertext}</b><br><br>Country=Kosovo<br>index=%{x}<br>Vaccination=%{marker.size}<extra></extra>",
         "hovertext": [
          "Kosovo"
         ],
         "legendgroup": "Kosovo",
         "marker": {
          "color": "#ab63fa",
          "size": [
           729933970
          ],
          "sizemode": "area",
          "sizeref": 4851822696.1875,
          "symbol": "circle"
         },
         "mode": "markers",
         "name": "Kosovo",
         "orientation": "v",
         "showlegend": true,
         "type": "scatter",
         "x": [
          123
         ],
         "xaxis": "x",
         "y": [
          729933970
         ],
         "yaxis": "y"
        },
        {
         "hovertemplate": "<b>%{hovertext}</b><br><br>Country=Malta<br>index=%{x}<br>Vaccination=%{marker.size}<extra></extra>",
         "hovertext": [
          "Malta"
         ],
         "legendgroup": "Malta",
         "marker": {
          "color": "#FFA15A",
          "size": [
           757555874
          ],
          "sizemode": "area",
          "sizeref": 4851822696.1875,
          "symbol": "circle"
         },
         "mode": "markers",
         "name": "Malta",
         "orientation": "v",
         "showlegend": true,
         "type": "scatter",
         "x": [
          124
         ],
         "xaxis": "x",
         "y": [
          757555874
         ],
         "yaxis": "y"
        },
        {
         "hovertemplate": "<b>%{hovertext}</b><br><br>Country=Rwanda<br>index=%{x}<br>Vaccination=%{marker.size}<extra></extra>",
         "hovertext": [
          "Rwanda"
         ],
         "legendgroup": "Rwanda",
         "marker": {
          "color": "#19d3f3",
          "size": [
           776764090
          ],
          "sizemode": "area",
          "sizeref": 4851822696.1875,
          "symbol": "circle"
         },
         "mode": "markers",
         "name": "Rwanda",
         "orientation": "v",
         "showlegend": true,
         "type": "scatter",
         "x": [
          125
         ],
         "xaxis": "x",
         "y": [
          776764090
         ],
         "yaxis": "y"
        },
        {
         "hovertemplate": "<b>%{hovertext}</b><br><br>Country=Uganda<br>index=%{x}<br>Vaccination=%{marker.size}<extra></extra>",
         "hovertext": [
          "Uganda"
         ],
         "legendgroup": "Uganda",
         "marker": {
          "color": "#FF6692",
          "size": [
           784433287
          ],
          "sizemode": "area",
          "sizeref": 4851822696.1875,
          "symbol": "circle"
         },
         "mode": "markers",
         "name": "Uganda",
         "orientation": "v",
         "showlegend": true,
         "type": "scatter",
         "x": [
          126
         ],
         "xaxis": "x",
         "y": [
          784433287
         ],
         "yaxis": "y"
        },
        {
         "hovertemplate": "<b>%{hovertext}</b><br><br>Country=Paraguay<br>index=%{x}<br>Vaccination=%{marker.size}<extra></extra>",
         "hovertext": [
          "Paraguay"
         ],
         "legendgroup": "Paraguay",
         "marker": {
          "color": "#B6E880",
          "size": [
           785138543
          ],
          "sizemode": "area",
          "sizeref": 4851822696.1875,
          "symbol": "circle"
         },
         "mode": "markers",
         "name": "Paraguay",
         "orientation": "v",
         "showlegend": true,
         "type": "scatter",
         "x": [
          127
         ],
         "xaxis": "x",
         "y": [
          785138543
         ],
         "yaxis": "y"
        },
        {
         "hovertemplate": "<b>%{hovertext}</b><br><br>Country=Hungary<br>index=%{x}<br>Vaccination=%{marker.size}<extra></extra>",
         "hovertext": [
          "Hungary"
         ],
         "legendgroup": "Hungary",
         "marker": {
          "color": "#FF97FF",
          "size": [
           892188028
          ],
          "sizemode": "area",
          "sizeref": 4851822696.1875,
          "symbol": "circle"
         },
         "mode": "markers",
         "name": "Hungary",
         "orientation": "v",
         "showlegend": true,
         "type": "scatter",
         "x": [
          128
         ],
         "xaxis": "x",
         "y": [
          892188028
         ],
         "yaxis": "y"
        },
        {
         "hovertemplate": "<b>%{hovertext}</b><br><br>Country=Latvia<br>index=%{x}<br>Vaccination=%{marker.size}<extra></extra>",
         "hovertext": [
          "Latvia"
         ],
         "legendgroup": "Latvia",
         "marker": {
          "color": "#FECB52",
          "size": [
           923635334
          ],
          "sizemode": "area",
          "sizeref": 4851822696.1875,
          "symbol": "circle"
         },
         "mode": "markers",
         "name": "Latvia",
         "orientation": "v",
         "showlegend": true,
         "type": "scatter",
         "x": [
          129
         ],
         "xaxis": "x",
         "y": [
          923635334
         ],
         "yaxis": "y"
        },
        {
         "hovertemplate": "<b>%{hovertext}</b><br><br>Country=Nicaragua<br>index=%{x}<br>Vaccination=%{marker.size}<extra></extra>",
         "hovertext": [
          "Nicaragua"
         ],
         "legendgroup": "Nicaragua",
         "marker": {
          "color": "#636efa",
          "size": [
           937729337
          ],
          "sizemode": "area",
          "sizeref": 4851822696.1875,
          "symbol": "circle"
         },
         "mode": "markers",
         "name": "Nicaragua",
         "orientation": "v",
         "showlegend": true,
         "type": "scatter",
         "x": [
          130
         ],
         "xaxis": "x",
         "y": [
          937729337
         ],
         "yaxis": "y"
        },
        {
         "hovertemplate": "<b>%{hovertext}</b><br><br>Country=Slovenia<br>index=%{x}<br>Vaccination=%{marker.size}<extra></extra>",
         "hovertext": [
          "Slovenia"
         ],
         "legendgroup": "Slovenia",
         "marker": {
          "color": "#EF553B",
          "size": [
           986734384
          ],
          "sizemode": "area",
          "sizeref": 4851822696.1875,
          "symbol": "circle"
         },
         "mode": "markers",
         "name": "Slovenia",
         "orientation": "v",
         "showlegend": true,
         "type": "scatter",
         "x": [
          131
         ],
         "xaxis": "x",
         "y": [
          986734384
         ],
         "yaxis": "y"
        },
        {
         "hovertemplate": "<b>%{hovertext}</b><br><br>Country=El Salvador<br>index=%{x}<br>Vaccination=%{marker.size}<extra></extra>",
         "hovertext": [
          "El Salvador"
         ],
         "legendgroup": "El Salvador",
         "marker": {
          "color": "#00cc96",
          "size": [
           1025170782
          ],
          "sizemode": "area",
          "sizeref": 4851822696.1875,
          "symbol": "circle"
         },
         "mode": "markers",
         "name": "El Salvador",
         "orientation": "v",
         "showlegend": true,
         "type": "scatter",
         "x": [
          132
         ],
         "xaxis": "x",
         "y": [
          1025170782
         ],
         "yaxis": "y"
        },
        {
         "hovertemplate": "<b>%{hovertext}</b><br><br>Country=Kuwait<br>index=%{x}<br>Vaccination=%{marker.size}<extra></extra>",
         "hovertext": [
          "Kuwait"
         ],
         "legendgroup": "Kuwait",
         "marker": {
          "color": "#ab63fa",
          "size": [
           1044825806
          ],
          "sizemode": "area",
          "sizeref": 4851822696.1875,
          "symbol": "circle"
         },
         "mode": "markers",
         "name": "Kuwait",
         "orientation": "v",
         "showlegend": true,
         "type": "scatter",
         "x": [
          133
         ],
         "xaxis": "x",
         "y": [
          1044825806
         ],
         "yaxis": "y"
        },
        {
         "hovertemplate": "<b>%{hovertext}</b><br><br>Country=Iraq<br>index=%{x}<br>Vaccination=%{marker.size}<extra></extra>",
         "hovertext": [
          "Iraq"
         ],
         "legendgroup": "Iraq",
         "marker": {
          "color": "#FFA15A",
          "size": [
           1082797012
          ],
          "sizemode": "area",
          "sizeref": 4851822696.1875,
          "symbol": "circle"
         },
         "mode": "markers",
         "name": "Iraq",
         "orientation": "v",
         "showlegend": true,
         "type": "scatter",
         "x": [
          134
         ],
         "xaxis": "x",
         "y": [
          1082797012
         ],
         "yaxis": "y"
        },
        {
         "hovertemplate": "<b>%{hovertext}</b><br><br>Country=Mongolia<br>index=%{x}<br>Vaccination=%{marker.size}<extra></extra>",
         "hovertext": [
          "Mongolia"
         ],
         "legendgroup": "Mongolia",
         "marker": {
          "color": "#19d3f3",
          "size": [
           1178950405
          ],
          "sizemode": "area",
          "sizeref": 4851822696.1875,
          "symbol": "circle"
         },
         "mode": "markers",
         "name": "Mongolia",
         "orientation": "v",
         "showlegend": true,
         "type": "scatter",
         "x": [
          135
         ],
         "xaxis": "x",
         "y": [
          1178950405
         ],
         "yaxis": "y"
        },
        {
         "hovertemplate": "<b>%{hovertext}</b><br><br>Country=Serbia<br>index=%{x}<br>Vaccination=%{marker.size}<extra></extra>",
         "hovertext": [
          "Serbia"
         ],
         "legendgroup": "Serbia",
         "marker": {
          "color": "#FF6692",
          "size": [
           1195573557
          ],
          "sizemode": "area",
          "sizeref": 4851822696.1875,
          "symbol": "circle"
         },
         "mode": "markers",
         "name": "Serbia",
         "orientation": "v",
         "showlegend": true,
         "type": "scatter",
         "x": [
          136
         ],
         "xaxis": "x",
         "y": [
          1195573557
         ],
         "yaxis": "y"
        },
        {
         "hovertemplate": "<b>%{hovertext}</b><br><br>Country=Lebanon<br>index=%{x}<br>Vaccination=%{marker.size}<extra></extra>",
         "hovertext": [
          "Lebanon"
         ],
         "legendgroup": "Lebanon",
         "marker": {
          "color": "#B6E880",
          "size": [
           1239009378
          ],
          "sizemode": "area",
          "sizeref": 4851822696.1875,
          "symbol": "circle"
         },
         "mode": "markers",
         "name": "Lebanon",
         "orientation": "v",
         "showlegend": true,
         "type": "scatter",
         "x": [
          137
         ],
         "xaxis": "x",
         "y": [
          1239009378
         ],
         "yaxis": "y"
        },
        {
         "hovertemplate": "<b>%{hovertext}</b><br><br>Country=Jordan<br>index=%{x}<br>Vaccination=%{marker.size}<extra></extra>",
         "hovertext": [
          "Jordan"
         ],
         "legendgroup": "Jordan",
         "marker": {
          "color": "#FF97FF",
          "size": [
           1323570689
          ],
          "sizemode": "area",
          "sizeref": 4851822696.1875,
          "symbol": "circle"
         },
         "mode": "markers",
         "name": "Jordan",
         "orientation": "v",
         "showlegend": true,
         "type": "scatter",
         "x": [
          138
         ],
         "xaxis": "x",
         "y": [
          1323570689
         ],
         "yaxis": "y"
        },
        {
         "hovertemplate": "<b>%{hovertext}</b><br><br>Country=Bahrain<br>index=%{x}<br>Vaccination=%{marker.size}<extra></extra>",
         "hovertext": [
          "Bahrain"
         ],
         "legendgroup": "Bahrain",
         "marker": {
          "color": "#FECB52",
          "size": [
           1422980218
          ],
          "sizemode": "area",
          "sizeref": 4851822696.1875,
          "symbol": "circle"
         },
         "mode": "markers",
         "name": "Bahrain",
         "orientation": "v",
         "showlegend": true,
         "type": "scatter",
         "x": [
          139
         ],
         "xaxis": "x",
         "y": [
          1422980218
         ],
         "yaxis": "y"
        },
        {
         "hovertemplate": "<b>%{hovertext}</b><br><br>Country=Angola<br>index=%{x}<br>Vaccination=%{marker.size}<extra></extra>",
         "hovertext": [
          "Angola"
         ],
         "legendgroup": "Angola",
         "marker": {
          "color": "#636efa",
          "size": [
           1426308398
          ],
          "sizemode": "area",
          "sizeref": 4851822696.1875,
          "symbol": "circle"
         },
         "mode": "markers",
         "name": "Angola",
         "orientation": "v",
         "showlegend": true,
         "type": "scatter",
         "x": [
          140
         ],
         "xaxis": "x",
         "y": [
          1426308398
         ],
         "yaxis": "y"
        },
        {
         "hovertemplate": "<b>%{hovertext}</b><br><br>Country=Denmark<br>index=%{x}<br>Vaccination=%{marker.size}<extra></extra>",
         "hovertext": [
          "Denmark"
         ],
         "legendgroup": "Denmark",
         "marker": {
          "color": "#EF553B",
          "size": [
           1549786550
          ],
          "sizemode": "area",
          "sizeref": 4851822696.1875,
          "symbol": "circle"
         },
         "mode": "markers",
         "name": "Denmark",
         "orientation": "v",
         "showlegend": true,
         "type": "scatter",
         "x": [
          141
         ],
         "xaxis": "x",
         "y": [
          1549786550
         ],
         "yaxis": "y"
        },
        {
         "hovertemplate": "<b>%{hovertext}</b><br><br>Country=Afghanistan<br>index=%{x}<br>Vaccination=%{marker.size}<extra></extra>",
         "hovertext": [
          "Afghanistan"
         ],
         "legendgroup": "Afghanistan",
         "marker": {
          "color": "#00cc96",
          "size": [
           1682111829
          ],
          "sizemode": "area",
          "sizeref": 4851822696.1875,
          "symbol": "circle"
         },
         "mode": "markers",
         "name": "Afghanistan",
         "orientation": "v",
         "showlegend": true,
         "type": "scatter",
         "x": [
          142
         ],
         "xaxis": "x",
         "y": [
          1682111829
         ],
         "yaxis": "y"
        },
        {
         "hovertemplate": "<b>%{hovertext}</b><br><br>Country=Finland<br>index=%{x}<br>Vaccination=%{marker.size}<extra></extra>",
         "hovertext": [
          "Finland"
         ],
         "legendgroup": "Finland",
         "marker": {
          "color": "#ab63fa",
          "size": [
           1807719347
          ],
          "sizemode": "area",
          "sizeref": 4851822696.1875,
          "symbol": "circle"
         },
         "mode": "markers",
         "name": "Finland",
         "orientation": "v",
         "showlegend": true,
         "type": "scatter",
         "x": [
          143
         ],
         "xaxis": "x",
         "y": [
          1807719347
         ],
         "yaxis": "y"
        },
        {
         "hovertemplate": "<b>%{hovertext}</b><br><br>Country=Austria<br>index=%{x}<br>Vaccination=%{marker.size}<extra></extra>",
         "hovertext": [
          "Austria"
         ],
         "legendgroup": "Austria",
         "marker": {
          "color": "#FFA15A",
          "size": [
           1897828020
          ],
          "sizemode": "area",
          "sizeref": 4851822696.1875,
          "symbol": "circle"
         },
         "mode": "markers",
         "name": "Austria",
         "orientation": "v",
         "showlegend": true,
         "type": "scatter",
         "x": [
          144
         ],
         "xaxis": "x",
         "y": [
          1897828020
         ],
         "yaxis": "y"
        },
        {
         "hovertemplate": "<b>%{hovertext}</b><br><br>Country=Myanmar<br>index=%{x}<br>Vaccination=%{marker.size}<extra></extra>",
         "hovertext": [
          "Myanmar"
         ],
         "legendgroup": "Myanmar",
         "marker": {
          "color": "#19d3f3",
          "size": [
           2022577617
          ],
          "sizemode": "area",
          "sizeref": 4851822696.1875,
          "symbol": "circle"
         },
         "mode": "markers",
         "name": "Myanmar",
         "orientation": "v",
         "showlegend": true,
         "type": "scatter",
         "x": [
          145
         ],
         "xaxis": "x",
         "y": [
          2022577617
         ],
         "yaxis": "y"
        },
        {
         "hovertemplate": "<b>%{hovertext}</b><br><br>Country=Estonia<br>index=%{x}<br>Vaccination=%{marker.size}<extra></extra>",
         "hovertext": [
          "Estonia"
         ],
         "legendgroup": "Estonia",
         "marker": {
          "color": "#FF6692",
          "size": [
           2058224334
          ],
          "sizemode": "area",
          "sizeref": 4851822696.1875,
          "symbol": "circle"
         },
         "mode": "markers",
         "name": "Estonia",
         "orientation": "v",
         "showlegend": true,
         "type": "scatter",
         "x": [
          146
         ],
         "xaxis": "x",
         "y": [
          2058224334
         ],
         "yaxis": "y"
        },
        {
         "hovertemplate": "<b>%{hovertext}</b><br><br>Country=Kenya<br>index=%{x}<br>Vaccination=%{marker.size}<extra></extra>",
         "hovertext": [
          "Kenya"
         ],
         "legendgroup": "Kenya",
         "marker": {
          "color": "#B6E880",
          "size": [
           2066060051
          ],
          "sizemode": "area",
          "sizeref": 4851822696.1875,
          "symbol": "circle"
         },
         "mode": "markers",
         "name": "Kenya",
         "orientation": "v",
         "showlegend": true,
         "type": "scatter",
         "x": [
          147
         ],
         "xaxis": "x",
         "y": [
          2066060051
         ],
         "yaxis": "y"
        },
        {
         "hovertemplate": "<b>%{hovertext}</b><br><br>Country=Qatar<br>index=%{x}<br>Vaccination=%{marker.size}<extra></extra>",
         "hovertext": [
          "Qatar"
         ],
         "legendgroup": "Qatar",
         "marker": {
          "color": "#FF97FF",
          "size": [
           2074961781
          ],
          "sizemode": "area",
          "sizeref": 4851822696.1875,
          "symbol": "circle"
         },
         "mode": "markers",
         "name": "Qatar",
         "orientation": "v",
         "showlegend": true,
         "type": "scatter",
         "x": [
          148
         ],
         "xaxis": "x",
         "y": [
          2074961781
         ],
         "yaxis": "y"
        },
        {
         "hovertemplate": "<b>%{hovertext}</b><br><br>Country=Kyrgyzstan<br>index=%{x}<br>Vaccination=%{marker.size}<extra></extra>",
         "hovertext": [
          "Kyrgyzstan"
         ],
         "legendgroup": "Kyrgyzstan",
         "marker": {
          "color": "#FECB52",
          "size": [
           2093051767
          ],
          "sizemode": "area",
          "sizeref": 4851822696.1875,
          "symbol": "circle"
         },
         "mode": "markers",
         "name": "Kyrgyzstan",
         "orientation": "v",
         "showlegend": true,
         "type": "scatter",
         "x": [
          149
         ],
         "xaxis": "x",
         "y": [
          2093051767
         ],
         "yaxis": "y"
        },
        {
         "hovertemplate": "<b>%{hovertext}</b><br><br>Country=Ethiopia<br>index=%{x}<br>Vaccination=%{marker.size}<extra></extra>",
         "hovertext": [
          "Ethiopia"
         ],
         "legendgroup": "Ethiopia",
         "marker": {
          "color": "#636efa",
          "size": [
           2111954044
          ],
          "sizemode": "area",
          "sizeref": 4851822696.1875,
          "symbol": "circle"
         },
         "mode": "markers",
         "name": "Ethiopia",
         "orientation": "v",
         "showlegend": true,
         "type": "scatter",
         "x": [
          150
         ],
         "xaxis": "x",
         "y": [
          2111954044
         ],
         "yaxis": "y"
        },
        {
         "hovertemplate": "<b>%{hovertext}</b><br><br>Country=Tunisia<br>index=%{x}<br>Vaccination=%{marker.size}<extra></extra>",
         "hovertext": [
          "Tunisia"
         ],
         "legendgroup": "Tunisia",
         "marker": {
          "color": "#EF553B",
          "size": [
           2555890086
          ],
          "sizemode": "area",
          "sizeref": 4851822696.1875,
          "symbol": "circle"
         },
         "mode": "markers",
         "name": "Tunisia",
         "orientation": "v",
         "showlegend": true,
         "type": "scatter",
         "x": [
          151
         ],
         "xaxis": "x",
         "y": [
          2555890086
         ],
         "yaxis": "y"
        },
        {
         "hovertemplate": "<b>%{hovertext}</b><br><br>Country=Croatia<br>index=%{x}<br>Vaccination=%{marker.size}<extra></extra>",
         "hovertext": [
          "Croatia"
         ],
         "legendgroup": "Croatia",
         "marker": {
          "color": "#00cc96",
          "size": [
           2823937824
          ],
          "sizemode": "area",
          "sizeref": 4851822696.1875,
          "symbol": "circle"
         },
         "mode": "markers",
         "name": "Croatia",
         "orientation": "v",
         "showlegend": true,
         "type": "scatter",
         "x": [
          152
         ],
         "xaxis": "x",
         "y": [
          2823937824
         ],
         "yaxis": "y"
        },
        {
         "hovertemplate": "<b>%{hovertext}</b><br><br>Country=Northern Ireland<br>index=%{x}<br>Vaccination=%{marker.size}<extra></extra>",
         "hovertext": [
          "Northern Ireland"
         ],
         "legendgroup": "Northern Ireland",
         "marker": {
          "color": "#ab63fa",
          "size": [
           2872544200
          ],
          "sizemode": "area",
          "sizeref": 4851822696.1875,
          "symbol": "circle"
         },
         "mode": "markers",
         "name": "Northern Ireland",
         "orientation": "v",
         "showlegend": true,
         "type": "scatter",
         "x": [
          153
         ],
         "xaxis": "x",
         "y": [
          2872544200
         ],
         "yaxis": "y"
        },
        {
         "hovertemplate": "<b>%{hovertext}</b><br><br>Country=Portugal<br>index=%{x}<br>Vaccination=%{marker.size}<extra></extra>",
         "hovertext": [
          "Portugal"
         ],
         "legendgroup": "Portugal",
         "marker": {
          "color": "#FFA15A",
          "size": [
           2893603310
          ],
          "sizemode": "area",
          "sizeref": 4851822696.1875,
          "symbol": "circle"
         },
         "mode": "markers",
         "name": "Portugal",
         "orientation": "v",
         "showlegend": true,
         "type": "scatter",
         "x": [
          154
         ],
         "xaxis": "x",
         "y": [
          2893603310
         ],
         "yaxis": "y"
        },
        {
         "hovertemplate": "<b>%{hovertext}</b><br><br>Country=Nigeria<br>index=%{x}<br>Vaccination=%{marker.size}<extra></extra>",
         "hovertext": [
          "Nigeria"
         ],
         "legendgroup": "Nigeria",
         "marker": {
          "color": "#19d3f3",
          "size": [
           2949392432
          ],
          "sizemode": "area",
          "sizeref": 4851822696.1875,
          "symbol": "circle"
         },
         "mode": "markers",
         "name": "Nigeria",
         "orientation": "v",
         "showlegend": true,
         "type": "scatter",
         "x": [
          155
         ],
         "xaxis": "x",
         "y": [
          2949392432
         ],
         "yaxis": "y"
        },
        {
         "hovertemplate": "<b>%{hovertext}</b><br><br>Country=Zimbabwe<br>index=%{x}<br>Vaccination=%{marker.size}<extra></extra>",
         "hovertext": [
          "Zimbabwe"
         ],
         "legendgroup": "Zimbabwe",
         "marker": {
          "color": "#FF6692",
          "size": [
           3211422214
          ],
          "sizemode": "area",
          "sizeref": 4851822696.1875,
          "symbol": "circle"
         },
         "mode": "markers",
         "name": "Zimbabwe",
         "orientation": "v",
         "showlegend": true,
         "type": "scatter",
         "x": [
          156
         ],
         "xaxis": "x",
         "y": [
          3211422214
         ],
         "yaxis": "y"
        },
        {
         "hovertemplate": "<b>%{hovertext}</b><br><br>Country=Sweden<br>index=%{x}<br>Vaccination=%{marker.size}<extra></extra>",
         "hovertext": [
          "Sweden"
         ],
         "legendgroup": "Sweden",
         "marker": {
          "color": "#B6E880",
          "size": [
           3216185000
          ],
          "sizemode": "area",
          "sizeref": 4851822696.1875,
          "symbol": "circle"
         },
         "mode": "markers",
         "name": "Sweden",
         "orientation": "v",
         "showlegend": true,
         "type": "scatter",
         "x": [
          157
         ],
         "xaxis": "x",
         "y": [
          3216185000
         ],
         "yaxis": "y"
        },
        {
         "hovertemplate": "<b>%{hovertext}</b><br><br>Country=Guatemala<br>index=%{x}<br>Vaccination=%{marker.size}<extra></extra>",
         "hovertext": [
          "Guatemala"
         ],
         "legendgroup": "Guatemala",
         "marker": {
          "color": "#FF97FF",
          "size": [
           3221764974
          ],
          "sizemode": "area",
          "sizeref": 4851822696.1875,
          "symbol": "circle"
         },
         "mode": "markers",
         "name": "Guatemala",
         "orientation": "v",
         "showlegend": true,
         "type": "scatter",
         "x": [
          158
         ],
         "xaxis": "x",
         "y": [
          3221764974
         ],
         "yaxis": "y"
        },
        {
         "hovertemplate": "<b>%{hovertext}</b><br><br>Country=Azerbaijan<br>index=%{x}<br>Vaccination=%{marker.size}<extra></extra>",
         "hovertext": [
          "Azerbaijan"
         ],
         "legendgroup": "Azerbaijan",
         "marker": {
          "color": "#FECB52",
          "size": [
           3516610796
          ],
          "sizemode": "area",
          "sizeref": 4851822696.1875,
          "symbol": "circle"
         },
         "mode": "markers",
         "name": "Azerbaijan",
         "orientation": "v",
         "showlegend": true,
         "type": "scatter",
         "x": [
          159
         ],
         "xaxis": "x",
         "y": [
          3516610796
         ],
         "yaxis": "y"
        },
        {
         "hovertemplate": "<b>%{hovertext}</b><br><br>Country=Kazakhstan<br>index=%{x}<br>Vaccination=%{marker.size}<extra></extra>",
         "hovertext": [
          "Kazakhstan"
         ],
         "legendgroup": "Kazakhstan",
         "marker": {
          "color": "#636efa",
          "size": [
           3623784535
          ],
          "sizemode": "area",
          "sizeref": 4851822696.1875,
          "symbol": "circle"
         },
         "mode": "markers",
         "name": "Kazakhstan",
         "orientation": "v",
         "showlegend": true,
         "type": "scatter",
         "x": [
          160
         ],
         "xaxis": "x",
         "y": [
          3623784535
         ],
         "yaxis": "y"
        },
        {
         "hovertemplate": "<b>%{hovertext}</b><br><br>Country=Lithuania<br>index=%{x}<br>Vaccination=%{marker.size}<extra></extra>",
         "hovertext": [
          "Lithuania"
         ],
         "legendgroup": "Lithuania",
         "marker": {
          "color": "#EF553B",
          "size": [
           3834604451
          ],
          "sizemode": "area",
          "sizeref": 4851822696.1875,
          "symbol": "circle"
         },
         "mode": "markers",
         "name": "Lithuania",
         "orientation": "v",
         "showlegend": true,
         "type": "scatter",
         "x": [
          161
         ],
         "xaxis": "x",
         "y": [
          3834604451
         ],
         "yaxis": "y"
        },
        {
         "hovertemplate": "<b>%{hovertext}</b><br><br>Country=Bulgaria<br>index=%{x}<br>Vaccination=%{marker.size}<extra></extra>",
         "hovertext": [
          "Bulgaria"
         ],
         "legendgroup": "Bulgaria",
         "marker": {
          "color": "#00cc96",
          "size": [
           3848601623
          ],
          "sizemode": "area",
          "sizeref": 4851822696.1875,
          "symbol": "circle"
         },
         "mode": "markers",
         "name": "Bulgaria",
         "orientation": "v",
         "showlegend": true,
         "type": "scatter",
         "x": [
          162
         ],
         "xaxis": "x",
         "y": [
          3848601623
         ],
         "yaxis": "y"
        },
        {
         "hovertemplate": "<b>%{hovertext}</b><br><br>Country=Netherlands<br>index=%{x}<br>Vaccination=%{marker.size}<extra></extra>",
         "hovertext": [
          "Netherlands"
         ],
         "legendgroup": "Netherlands",
         "marker": {
          "color": "#ab63fa",
          "size": [
           4078636734
          ],
          "sizemode": "area",
          "sizeref": 4851822696.1875,
          "symbol": "circle"
         },
         "mode": "markers",
         "name": "Netherlands",
         "orientation": "v",
         "showlegend": true,
         "type": "scatter",
         "x": [
          163
         ],
         "xaxis": "x",
         "y": [
          4078636734
         ],
         "yaxis": "y"
        },
        {
         "hovertemplate": "<b>%{hovertext}</b><br><br>Country=Ukraine<br>index=%{x}<br>Vaccination=%{marker.size}<extra></extra>",
         "hovertext": [
          "Ukraine"
         ],
         "legendgroup": "Ukraine",
         "marker": {
          "color": "#FFA15A",
          "size": [
           4307696445
          ],
          "sizemode": "area",
          "sizeref": 4851822696.1875,
          "symbol": "circle"
         },
         "mode": "markers",
         "name": "Ukraine",
         "orientation": "v",
         "showlegend": true,
         "type": "scatter",
         "x": [
          164
         ],
         "xaxis": "x",
         "y": [
          4307696445
         ],
         "yaxis": "y"
        },
        {
         "hovertemplate": "<b>%{hovertext}</b><br><br>Country=Uzbekistan<br>index=%{x}<br>Vaccination=%{marker.size}<extra></extra>",
         "hovertext": [
          "Uzbekistan"
         ],
         "legendgroup": "Uzbekistan",
         "marker": {
          "color": "#19d3f3",
          "size": [
           4434326468
          ],
          "sizemode": "area",
          "sizeref": 4851822696.1875,
          "symbol": "circle"
         },
         "mode": "markers",
         "name": "Uzbekistan",
         "orientation": "v",
         "showlegend": true,
         "type": "scatter",
         "x": [
          165
         ],
         "xaxis": "x",
         "y": [
          4434326468
         ],
         "yaxis": "y"
        },
        {
         "hovertemplate": "<b>%{hovertext}</b><br><br>Country=Uruguay<br>index=%{x}<br>Vaccination=%{marker.size}<extra></extra>",
         "hovertext": [
          "Uruguay"
         ],
         "legendgroup": "Uruguay",
         "marker": {
          "color": "#FF6692",
          "size": [
           4438567622
          ],
          "sizemode": "area",
          "sizeref": 4851822696.1875,
          "symbol": "circle"
         },
         "mode": "markers",
         "name": "Uruguay",
         "orientation": "v",
         "showlegend": true,
         "type": "scatter",
         "x": [
          166
         ],
         "xaxis": "x",
         "y": [
          4438567622
         ],
         "yaxis": "y"
        },
        {
         "hovertemplate": "<b>%{hovertext}</b><br><br>Country=Wales<br>index=%{x}<br>Vaccination=%{marker.size}<extra></extra>",
         "hovertext": [
          "Wales"
         ],
         "legendgroup": "Wales",
         "marker": {
          "color": "#B6E880",
          "size": [
           4800965467
          ],
          "sizemode": "area",
          "sizeref": 4851822696.1875,
          "symbol": "circle"
         },
         "mode": "markers",
         "name": "Wales",
         "orientation": "v",
         "showlegend": true,
         "type": "scatter",
         "x": [
          167
         ],
         "xaxis": "x",
         "y": [
          4800965467
         ],
         "yaxis": "y"
        },
        {
         "hovertemplate": "<b>%{hovertext}</b><br><br>Country=Bolivia<br>index=%{x}<br>Vaccination=%{marker.size}<extra></extra>",
         "hovertext": [
          "Bolivia"
         ],
         "legendgroup": "Bolivia",
         "marker": {
          "color": "#FF97FF",
          "size": [
           5077109541
          ],
          "sizemode": "area",
          "sizeref": 4851822696.1875,
          "symbol": "circle"
         },
         "mode": "markers",
         "name": "Bolivia",
         "orientation": "v",
         "showlegend": true,
         "type": "scatter",
         "x": [
          168
         ],
         "xaxis": "x",
         "y": [
          5077109541
         ],
         "yaxis": "y"
        },
        {
         "hovertemplate": "<b>%{hovertext}</b><br><br>Country=Scotland<br>index=%{x}<br>Vaccination=%{marker.size}<extra></extra>",
         "hovertext": [
          "Scotland"
         ],
         "legendgroup": "Scotland",
         "marker": {
          "color": "#FECB52",
          "size": [
           5106148577
          ],
          "sizemode": "area",
          "sizeref": 4851822696.1875,
          "symbol": "circle"
         },
         "mode": "markers",
         "name": "Scotland",
         "orientation": "v",
         "showlegend": true,
         "type": "scatter",
         "x": [
          169
         ],
         "xaxis": "x",
         "y": [
          5106148577
         ],
         "yaxis": "y"
        },
        {
         "hovertemplate": "<b>%{hovertext}</b><br><br>Country=Norway<br>index=%{x}<br>Vaccination=%{marker.size}<extra></extra>",
         "hovertext": [
          "Norway"
         ],
         "legendgroup": "Norway",
         "marker": {
          "color": "#636efa",
          "size": [
           5163271667
          ],
          "sizemode": "area",
          "sizeref": 4851822696.1875,
          "symbol": "circle"
         },
         "mode": "markers",
         "name": "Norway",
         "orientation": "v",
         "showlegend": true,
         "type": "scatter",
         "x": [
          170
         ],
         "xaxis": "x",
         "y": [
          5163271667
         ],
         "yaxis": "y"
        },
        {
         "hovertemplate": "<b>%{hovertext}</b><br><br>Country=Romania<br>index=%{x}<br>Vaccination=%{marker.size}<extra></extra>",
         "hovertext": [
          "Romania"
         ],
         "legendgroup": "Romania",
         "marker": {
          "color": "#EF553B",
          "size": [
           5505218353
          ],
          "sizemode": "area",
          "sizeref": 4851822696.1875,
          "symbol": "circle"
         },
         "mode": "markers",
         "name": "Romania",
         "orientation": "v",
         "showlegend": true,
         "type": "scatter",
         "x": [
          171
         ],
         "xaxis": "x",
         "y": [
          5505218353
         ],
         "yaxis": "y"
        },
        {
         "hovertemplate": "<b>%{hovertext}</b><br><br>Country=United Arab Emirates<br>index=%{x}<br>Vaccination=%{marker.size}<extra></extra>",
         "hovertext": [
          "United Arab Emirates"
         ],
         "legendgroup": "United Arab Emirates",
         "marker": {
          "color": "#00cc96",
          "size": [
           5667655630
          ],
          "sizemode": "area",
          "sizeref": 4851822696.1875,
          "symbol": "circle"
         },
         "mode": "markers",
         "name": "United Arab Emirates",
         "orientation": "v",
         "showlegend": true,
         "type": "scatter",
         "x": [
          172
         ],
         "xaxis": "x",
         "y": [
          5667655630
         ],
         "yaxis": "y"
        },
        {
         "hovertemplate": "<b>%{hovertext}</b><br><br>Country=Egypt<br>index=%{x}<br>Vaccination=%{marker.size}<extra></extra>",
         "hovertext": [
          "Egypt"
         ],
         "legendgroup": "Egypt",
         "marker": {
          "color": "#ab63fa",
          "size": [
           6205654190
          ],
          "sizemode": "area",
          "sizeref": 4851822696.1875,
          "symbol": "circle"
         },
         "mode": "markers",
         "name": "Egypt",
         "orientation": "v",
         "showlegend": true,
         "type": "scatter",
         "x": [
          173
         ],
         "xaxis": "x",
         "y": [
          6205654190
         ],
         "yaxis": "y"
        },
        {
         "hovertemplate": "<b>%{hovertext}</b><br><br>Country=Singapore<br>index=%{x}<br>Vaccination=%{marker.size}<extra></extra>",
         "hovertext": [
          "Singapore"
         ],
         "legendgroup": "Singapore",
         "marker": {
          "color": "#FFA15A",
          "size": [
           6273741807
          ],
          "sizemode": "area",
          "sizeref": 4851822696.1875,
          "symbol": "circle"
         },
         "mode": "markers",
         "name": "Singapore",
         "orientation": "v",
         "showlegend": true,
         "type": "scatter",
         "x": [
          174
         ],
         "xaxis": "x",
         "y": [
          6273741807
         ],
         "yaxis": "y"
        },
        {
         "hovertemplate": "<b>%{hovertext}</b><br><br>Country=New Zealand<br>index=%{x}<br>Vaccination=%{marker.size}<extra></extra>",
         "hovertext": [
          "New Zealand"
         ],
         "legendgroup": "New Zealand",
         "marker": {
          "color": "#19d3f3",
          "size": [
           6695384418
          ],
          "sizemode": "area",
          "sizeref": 4851822696.1875,
          "symbol": "circle"
         },
         "mode": "markers",
         "name": "New Zealand",
         "orientation": "v",
         "showlegend": true,
         "type": "scatter",
         "x": [
          175
         ],
         "xaxis": "x",
         "y": [
          6695384418
         ],
         "yaxis": "y"
        },
        {
         "hovertemplate": "<b>%{hovertext}</b><br><br>Country=Nepal<br>index=%{x}<br>Vaccination=%{marker.size}<extra></extra>",
         "hovertext": [
          "Nepal"
         ],
         "legendgroup": "Nepal",
         "marker": {
          "color": "#FF6692",
          "size": [
           7615217941
          ],
          "sizemode": "area",
          "sizeref": 4851822696.1875,
          "symbol": "circle"
         },
         "mode": "markers",
         "name": "Nepal",
         "orientation": "v",
         "showlegend": true,
         "type": "scatter",
         "x": [
          176
         ],
         "xaxis": "x",
         "y": [
          7615217941
         ],
         "yaxis": "y"
        },
        {
         "hovertemplate": "<b>%{hovertext}</b><br><br>Country=Sri Lanka<br>index=%{x}<br>Vaccination=%{marker.size}<extra></extra>",
         "hovertext": [
          "Sri Lanka"
         ],
         "legendgroup": "Sri Lanka",
         "marker": {
          "color": "#B6E880",
          "size": [
           7676583103
          ],
          "sizemode": "area",
          "sizeref": 4851822696.1875,
          "symbol": "circle"
         },
         "mode": "markers",
         "name": "Sri Lanka",
         "orientation": "v",
         "showlegend": true,
         "type": "scatter",
         "x": [
          177
         ],
         "xaxis": "x",
         "y": [
          7676583103
         ],
         "yaxis": "y"
        },
        {
         "hovertemplate": "<b>%{hovertext}</b><br><br>Country=Dominican Republic<br>index=%{x}<br>Vaccination=%{marker.size}<extra></extra>",
         "hovertext": [
          "Dominican Republic"
         ],
         "legendgroup": "Dominican Republic",
         "marker": {
          "color": "#FF97FF",
          "size": [
           8006946662
          ],
          "sizemode": "area",
          "sizeref": 4851822696.1875,
          "symbol": "circle"
         },
         "mode": "markers",
         "name": "Dominican Republic",
         "orientation": "v",
         "showlegend": true,
         "type": "scatter",
         "x": [
          178
         ],
         "xaxis": "x",
         "y": [
          8006946662
         ],
         "yaxis": "y"
        },
        {
         "hovertemplate": "<b>%{hovertext}</b><br><br>Country=Morocco<br>index=%{x}<br>Vaccination=%{marker.size}<extra></extra>",
         "hovertext": [
          "Morocco"
         ],
         "legendgroup": "Morocco",
         "marker": {
          "color": "#FECB52",
          "size": [
           8160864818
          ],
          "sizemode": "area",
          "sizeref": 4851822696.1875,
          "symbol": "circle"
         },
         "mode": "markers",
         "name": "Morocco",
         "orientation": "v",
         "showlegend": true,
         "type": "scatter",
         "x": [
          179
         ],
         "xaxis": "x",
         "y": [
          8160864818
         ],
         "yaxis": "y"
        },
        {
         "hovertemplate": "<b>%{hovertext}</b><br><br>Country=Cambodia<br>index=%{x}<br>Vaccination=%{marker.size}<extra></extra>",
         "hovertext": [
          "Cambodia"
         ],
         "legendgroup": "Cambodia",
         "marker": {
          "color": "#636efa",
          "size": [
           9690917845
          ],
          "sizemode": "area",
          "sizeref": 4851822696.1875,
          "symbol": "circle"
         },
         "mode": "markers",
         "name": "Cambodia",
         "orientation": "v",
         "showlegend": true,
         "type": "scatter",
         "x": [
          180
         ],
         "xaxis": "x",
         "y": [
          9690917845
         ],
         "yaxis": "y"
        },
        {
         "hovertemplate": "<b>%{hovertext}</b><br><br>Country=Ireland<br>index=%{x}<br>Vaccination=%{marker.size}<extra></extra>",
         "hovertext": [
          "Ireland"
         ],
         "legendgroup": "Ireland",
         "marker": {
          "color": "#EF553B",
          "size": [
           10676774838
          ],
          "sizemode": "area",
          "sizeref": 4851822696.1875,
          "symbol": "circle"
         },
         "mode": "markers",
         "name": "Ireland",
         "orientation": "v",
         "showlegend": true,
         "type": "scatter",
         "x": [
          181
         ],
         "xaxis": "x",
         "y": [
          10676774838
         ],
         "yaxis": "y"
        },
        {
         "hovertemplate": "<b>%{hovertext}</b><br><br>Country=Switzerland<br>index=%{x}<br>Vaccination=%{marker.size}<extra></extra>",
         "hovertext": [
          "Switzerland"
         ],
         "legendgroup": "Switzerland",
         "marker": {
          "color": "#00cc96",
          "size": [
           10758287352
          ],
          "sizemode": "area",
          "sizeref": 4851822696.1875,
          "symbol": "circle"
         },
         "mode": "markers",
         "name": "Switzerland",
         "orientation": "v",
         "showlegend": true,
         "type": "scatter",
         "x": [
          182
         ],
         "xaxis": "x",
         "y": [
          10758287352
         ],
         "yaxis": "y"
        },
        {
         "hovertemplate": "<b>%{hovertext}</b><br><br>Country=Saudi Arabia<br>index=%{x}<br>Vaccination=%{marker.size}<extra></extra>",
         "hovertext": [
          "Saudi Arabia"
         ],
         "legendgroup": "Saudi Arabia",
         "marker": {
          "color": "#ab63fa",
          "size": [
           11408142476
          ],
          "sizemode": "area",
          "sizeref": 4851822696.1875,
          "symbol": "circle"
         },
         "mode": "markers",
         "name": "Saudi Arabia",
         "orientation": "v",
         "showlegend": true,
         "type": "scatter",
         "x": [
          183
         ],
         "xaxis": "x",
         "y": [
          11408142476
         ],
         "yaxis": "y"
        },
        {
         "hovertemplate": "<b>%{hovertext}</b><br><br>Country=Ecuador<br>index=%{x}<br>Vaccination=%{marker.size}<extra></extra>",
         "hovertext": [
          "Ecuador"
         ],
         "legendgroup": "Ecuador",
         "marker": {
          "color": "#FFA15A",
          "size": [
           12151626804
          ],
          "sizemode": "area",
          "sizeref": 4851822696.1875,
          "symbol": "circle"
         },
         "mode": "markers",
         "name": "Ecuador",
         "orientation": "v",
         "showlegend": true,
         "type": "scatter",
         "x": [
          184
         ],
         "xaxis": "x",
         "y": [
          12151626804
         ],
         "yaxis": "y"
        },
        {
         "hovertemplate": "<b>%{hovertext}</b><br><br>Country=Israel<br>index=%{x}<br>Vaccination=%{marker.size}<extra></extra>",
         "hovertext": [
          "Israel"
         ],
         "legendgroup": "Israel",
         "marker": {
          "color": "#19d3f3",
          "size": [
           12735673809
          ],
          "sizemode": "area",
          "sizeref": 4851822696.1875,
          "symbol": "circle"
         },
         "mode": "markers",
         "name": "Israel",
         "orientation": "v",
         "showlegend": true,
         "type": "scatter",
         "x": [
          185
         ],
         "xaxis": "x",
         "y": [
          12735673809
         ],
         "yaxis": "y"
        },
        {
         "hovertemplate": "<b>%{hovertext}</b><br><br>Country=South Africa<br>index=%{x}<br>Vaccination=%{marker.size}<extra></extra>",
         "hovertext": [
          "South Africa"
         ],
         "legendgroup": "South Africa",
         "marker": {
          "color": "#FF6692",
          "size": [
           13558757696
          ],
          "sizemode": "area",
          "sizeref": 4851822696.1875,
          "symbol": "circle"
         },
         "mode": "markers",
         "name": "South Africa",
         "orientation": "v",
         "showlegend": true,
         "type": "scatter",
         "x": [
          186
         ],
         "xaxis": "x",
         "y": [
          13558757696
         ],
         "yaxis": "y"
        },
        {
         "hovertemplate": "<b>%{hovertext}</b><br><br>Country=Colombia<br>index=%{x}<br>Vaccination=%{marker.size}<extra></extra>",
         "hovertext": [
          "Colombia"
         ],
         "legendgroup": "Colombia",
         "marker": {
          "color": "#B6E880",
          "size": [
           13713506091
          ],
          "sizemode": "area",
          "sizeref": 4851822696.1875,
          "symbol": "circle"
         },
         "mode": "markers",
         "name": "Colombia",
         "orientation": "v",
         "showlegend": true,
         "type": "scatter",
         "x": [
          187
         ],
         "xaxis": "x",
         "y": [
          13713506091
         ],
         "yaxis": "y"
        },
        {
         "hovertemplate": "<b>%{hovertext}</b><br><br>Country=Hong Kong<br>index=%{x}<br>Vaccination=%{marker.size}<extra></extra>",
         "hovertext": [
          "Hong Kong"
         ],
         "legendgroup": "Hong Kong",
         "marker": {
          "color": "#FF97FF",
          "size": [
           13891874676
          ],
          "sizemode": "area",
          "sizeref": 4851822696.1875,
          "symbol": "circle"
         },
         "mode": "markers",
         "name": "Hong Kong",
         "orientation": "v",
         "showlegend": true,
         "type": "scatter",
         "x": [
          188
         ],
         "xaxis": "x",
         "y": [
          13891874676
         ],
         "yaxis": "y"
        },
        {
         "hovertemplate": "<b>%{hovertext}</b><br><br>Country=Philippines<br>index=%{x}<br>Vaccination=%{marker.size}<extra></extra>",
         "hovertext": [
          "Philippines"
         ],
         "legendgroup": "Philippines",
         "marker": {
          "color": "#FECB52",
          "size": [
           16433988108
          ],
          "sizemode": "area",
          "sizeref": 4851822696.1875,
          "symbol": "circle"
         },
         "mode": "markers",
         "name": "Philippines",
         "orientation": "v",
         "showlegend": true,
         "type": "scatter",
         "x": [
          189
         ],
         "xaxis": "x",
         "y": [
          16433988108
         ],
         "yaxis": "y"
        },
        {
         "hovertemplate": "<b>%{hovertext}</b><br><br>Country=Czechia<br>index=%{x}<br>Vaccination=%{marker.size}<extra></extra>",
         "hovertext": [
          "Czechia"
         ],
         "legendgroup": "Czechia",
         "marker": {
          "color": "#636efa",
          "size": [
           17301012206
          ],
          "sizemode": "area",
          "sizeref": 4851822696.1875,
          "symbol": "circle"
         },
         "mode": "markers",
         "name": "Czechia",
         "orientation": "v",
         "showlegend": true,
         "type": "scatter",
         "x": [
          190
         ],
         "xaxis": "x",
         "y": [
          17301012206
         ],
         "yaxis": "y"
        },
        {
         "hovertemplate": "<b>%{hovertext}</b><br><br>Country=Spain<br>index=%{x}<br>Vaccination=%{marker.size}<extra></extra>",
         "hovertext": [
          "Spain"
         ],
         "legendgroup": "Spain",
         "marker": {
          "color": "#EF553B",
          "size": [
           18758640286
          ],
          "sizemode": "area",
          "sizeref": 4851822696.1875,
          "symbol": "circle"
         },
         "mode": "markers",
         "name": "Spain",
         "orientation": "v",
         "showlegend": true,
         "type": "scatter",
         "x": [
          191
         ],
         "xaxis": "x",
         "y": [
          18758640286
         ],
         "yaxis": "y"
        },
        {
         "hovertemplate": "<b>%{hovertext}</b><br><br>Country=Australia<br>index=%{x}<br>Vaccination=%{marker.size}<extra></extra>",
         "hovertext": [
          "Australia"
         ],
         "legendgroup": "Australia",
         "marker": {
          "color": "#00cc96",
          "size": [
           19285396606
          ],
          "sizemode": "area",
          "sizeref": 4851822696.1875,
          "symbol": "circle"
         },
         "mode": "markers",
         "name": "Australia",
         "orientation": "v",
         "showlegend": true,
         "type": "scatter",
         "x": [
          192
         ],
         "xaxis": "x",
         "y": [
          19285396606
         ],
         "yaxis": "y"
        },
        {
         "hovertemplate": "<b>%{hovertext}</b><br><br>Country=Greece<br>index=%{x}<br>Vaccination=%{marker.size}<extra></extra>",
         "hovertext": [
          "Greece"
         ],
         "legendgroup": "Greece",
         "marker": {
          "color": "#ab63fa",
          "size": [
           20505008681
          ],
          "sizemode": "area",
          "sizeref": 4851822696.1875,
          "symbol": "circle"
         },
         "mode": "markers",
         "name": "Greece",
         "orientation": "v",
         "showlegend": true,
         "type": "scatter",
         "x": [
          193
         ],
         "xaxis": "x",
         "y": [
          20505008681
         ],
         "yaxis": "y"
        },
        {
         "hovertemplate": "<b>%{hovertext}</b><br><br>Country=Iran<br>index=%{x}<br>Vaccination=%{marker.size}<extra></extra>",
         "hovertext": [
          "Iran"
         ],
         "legendgroup": "Iran",
         "marker": {
          "color": "#FFA15A",
          "size": [
           21579318120
          ],
          "sizemode": "area",
          "sizeref": 4851822696.1875,
          "symbol": "circle"
         },
         "mode": "markers",
         "name": "Iran",
         "orientation": "v",
         "showlegend": true,
         "type": "scatter",
         "x": [
          194
         ],
         "xaxis": "x",
         "y": [
          21579318120
         ],
         "yaxis": "y"
        },
        {
         "hovertemplate": "<b>%{hovertext}</b><br><br>Country=Taiwan<br>index=%{x}<br>Vaccination=%{marker.size}<extra></extra>",
         "hovertext": [
          "Taiwan"
         ],
         "legendgroup": "Taiwan",
         "marker": {
          "color": "#19d3f3",
          "size": [
           23055926590
          ],
          "sizemode": "area",
          "sizeref": 4851822696.1875,
          "symbol": "circle"
         },
         "mode": "markers",
         "name": "Taiwan",
         "orientation": "v",
         "showlegend": true,
         "type": "scatter",
         "x": [
          195
         ],
         "xaxis": "x",
         "y": [
          23055926590
         ],
         "yaxis": "y"
        },
        {
         "hovertemplate": "<b>%{hovertext}</b><br><br>Country=Cuba<br>index=%{x}<br>Vaccination=%{marker.size}<extra></extra>",
         "hovertext": [
          "Cuba"
         ],
         "legendgroup": "Cuba",
         "marker": {
          "color": "#FF6692",
          "size": [
           24552940889
          ],
          "sizemode": "area",
          "sizeref": 4851822696.1875,
          "symbol": "circle"
         },
         "mode": "markers",
         "name": "Cuba",
         "orientation": "v",
         "showlegend": true,
         "type": "scatter",
         "x": [
          196
         ],
         "xaxis": "x",
         "y": [
          24552940889
         ],
         "yaxis": "y"
        },
        {
         "hovertemplate": "<b>%{hovertext}</b><br><br>Country=Belgium<br>index=%{x}<br>Vaccination=%{marker.size}<extra></extra>",
         "hovertext": [
          "Belgium"
         ],
         "legendgroup": "Belgium",
         "marker": {
          "color": "#B6E880",
          "size": [
           24615475787
          ],
          "sizemode": "area",
          "sizeref": 4851822696.1875,
          "symbol": "circle"
         },
         "mode": "markers",
         "name": "Belgium",
         "orientation": "v",
         "showlegend": true,
         "type": "scatter",
         "x": [
          197
         ],
         "xaxis": "x",
         "y": [
          24615475787
         ],
         "yaxis": "y"
        },
        {
         "hovertemplate": "<b>%{hovertext}</b><br><br>Country=Chile<br>index=%{x}<br>Vaccination=%{marker.size}<extra></extra>",
         "hovertext": [
          "Chile"
         ],
         "legendgroup": "Chile",
         "marker": {
          "color": "#FF97FF",
          "size": [
           31011218874
          ],
          "sizemode": "area",
          "sizeref": 4851822696.1875,
          "symbol": "circle"
         },
         "mode": "markers",
         "name": "Chile",
         "orientation": "v",
         "showlegend": true,
         "type": "scatter",
         "x": [
          198
         ],
         "xaxis": "x",
         "y": [
          31011218874
         ],
         "yaxis": "y"
        },
        {
         "hovertemplate": "<b>%{hovertext}</b><br><br>Country=Mexico<br>index=%{x}<br>Vaccination=%{marker.size}<extra></extra>",
         "hovertext": [
          "Mexico"
         ],
         "legendgroup": "Mexico",
         "marker": {
          "color": "#FECB52",
          "size": [
           33330559315
          ],
          "sizemode": "area",
          "sizeref": 4851822696.1875,
          "symbol": "circle"
         },
         "mode": "markers",
         "name": "Mexico",
         "orientation": "v",
         "showlegend": true,
         "type": "scatter",
         "x": [
          199
         ],
         "xaxis": "x",
         "y": [
          33330559315
         ],
         "yaxis": "y"
        },
        {
         "hovertemplate": "<b>%{hovertext}</b><br><br>Country=Vietnam<br>index=%{x}<br>Vaccination=%{marker.size}<extra></extra>",
         "hovertext": [
          "Vietnam"
         ],
         "legendgroup": "Vietnam",
         "marker": {
          "color": "#636efa",
          "size": [
           42185002637
          ],
          "sizemode": "area",
          "sizeref": 4851822696.1875,
          "symbol": "circle"
         },
         "mode": "markers",
         "name": "Vietnam",
         "orientation": "v",
         "showlegend": true,
         "type": "scatter",
         "x": [
          200
         ],
         "xaxis": "x",
         "y": [
          42185002637
         ],
         "yaxis": "y"
        },
        {
         "hovertemplate": "<b>%{hovertext}</b><br><br>Country=Poland<br>index=%{x}<br>Vaccination=%{marker.size}<extra></extra>",
         "hovertext": [
          "Poland"
         ],
         "legendgroup": "Poland",
         "marker": {
          "color": "#EF553B",
          "size": [
           43393309032
          ],
          "sizemode": "area",
          "sizeref": 4851822696.1875,
          "symbol": "circle"
         },
         "mode": "markers",
         "name": "Poland",
         "orientation": "v",
         "showlegend": true,
         "type": "scatter",
         "x": [
          201
         ],
         "xaxis": "x",
         "y": [
          43393309032
         ],
         "yaxis": "y"
        },
        {
         "hovertemplate": "<b>%{hovertext}</b><br><br>Country=Thailand<br>index=%{x}<br>Vaccination=%{marker.size}<extra></extra>",
         "hovertext": [
          "Thailand"
         ],
         "legendgroup": "Thailand",
         "marker": {
          "color": "#00cc96",
          "size": [
           45547040066
          ],
          "sizemode": "area",
          "sizeref": 4851822696.1875,
          "symbol": "circle"
         },
         "mode": "markers",
         "name": "Thailand",
         "orientation": "v",
         "showlegend": true,
         "type": "scatter",
         "x": [
          202
         ],
         "xaxis": "x",
         "y": [
          45547040066
         ],
         "yaxis": "y"
        },
        {
         "hovertemplate": "<b>%{hovertext}</b><br><br>Country=Russia<br>index=%{x}<br>Vaccination=%{marker.size}<extra></extra>",
         "hovertext": [
          "Russia"
         ],
         "legendgroup": "Russia",
         "marker": {
          "color": "#ab63fa",
          "size": [
           51458202371
          ],
          "sizemode": "area",
          "sizeref": 4851822696.1875,
          "symbol": "circle"
         },
         "mode": "markers",
         "name": "Russia",
         "orientation": "v",
         "showlegend": true,
         "type": "scatter",
         "x": [
          203
         ],
         "xaxis": "x",
         "y": [
          51458202371
         ],
         "yaxis": "y"
        },
        {
         "hovertemplate": "<b>%{hovertext}</b><br><br>Country=South Korea<br>index=%{x}<br>Vaccination=%{marker.size}<extra></extra>",
         "hovertext": [
          "South Korea"
         ],
         "legendgroup": "South Korea",
         "marker": {
          "color": "#FFA15A",
          "size": [
           54496622819
          ],
          "sizemode": "area",
          "sizeref": 4851822696.1875,
          "symbol": "circle"
         },
         "mode": "markers",
         "name": "South Korea",
         "orientation": "v",
         "showlegend": true,
         "type": "scatter",
         "x": [
          204
         ],
         "xaxis": "x",
         "y": [
          54496622819
         ],
         "yaxis": "y"
        },
        {
         "hovertemplate": "<b>%{hovertext}</b><br><br>Country=United Kingdom<br>index=%{x}<br>Vaccination=%{marker.size}<extra></extra>",
         "hovertext": [
          "United Kingdom"
         ],
         "legendgroup": "United Kingdom",
         "marker": {
          "color": "#19d3f3",
          "size": [
           60602545936
          ],
          "sizemode": "area",
          "sizeref": 4851822696.1875,
          "symbol": "circle"
         },
         "mode": "markers",
         "name": "United Kingdom",
         "orientation": "v",
         "showlegend": true,
         "type": "scatter",
         "x": [
          205
         ],
         "xaxis": "x",
         "y": [
          60602545936
         ],
         "yaxis": "y"
        },
        {
         "hovertemplate": "<b>%{hovertext}</b><br><br>Country=Turkey<br>index=%{x}<br>Vaccination=%{marker.size}<extra></extra>",
         "hovertext": [
          "Turkey"
         ],
         "legendgroup": "Turkey",
         "marker": {
          "color": "#FF6692",
          "size": [
           63145737970
          ],
          "sizemode": "area",
          "sizeref": 4851822696.1875,
          "symbol": "circle"
         },
         "mode": "markers",
         "name": "Turkey",
         "orientation": "v",
         "showlegend": true,
         "type": "scatter",
         "x": [
          206
         ],
         "xaxis": "x",
         "y": [
          63145737970
         ],
         "yaxis": "y"
        },
        {
         "hovertemplate": "<b>%{hovertext}</b><br><br>Country=Peru<br>index=%{x}<br>Vaccination=%{marker.size}<extra></extra>",
         "hovertext": [
          "Peru"
         ],
         "legendgroup": "Peru",
         "marker": {
          "color": "#B6E880",
          "size": [
           63971382767
          ],
          "sizemode": "area",
          "sizeref": 4851822696.1875,
          "symbol": "circle"
         },
         "mode": "markers",
         "name": "Peru",
         "orientation": "v",
         "showlegend": true,
         "type": "scatter",
         "x": [
          207
         ],
         "xaxis": "x",
         "y": [
          63971382767
         ],
         "yaxis": "y"
        },
        {
         "hovertemplate": "<b>%{hovertext}</b><br><br>Country=Malaysia<br>index=%{x}<br>Vaccination=%{marker.size}<extra></extra>",
         "hovertext": [
          "Malaysia"
         ],
         "legendgroup": "Malaysia",
         "marker": {
          "color": "#FF97FF",
          "size": [
           70035810115
          ],
          "sizemode": "area",
          "sizeref": 4851822696.1875,
          "symbol": "circle"
         },
         "mode": "markers",
         "name": "Malaysia",
         "orientation": "v",
         "showlegend": true,
         "type": "scatter",
         "x": [
          208
         ],
         "xaxis": "x",
         "y": [
          70035810115
         ],
         "yaxis": "y"
        },
        {
         "hovertemplate": "<b>%{hovertext}</b><br><br>Country=Pakistan<br>index=%{x}<br>Vaccination=%{marker.size}<extra></extra>",
         "hovertext": [
          "Pakistan"
         ],
         "legendgroup": "Pakistan",
         "marker": {
          "color": "#FECB52",
          "size": [
           74508479407
          ],
          "sizemode": "area",
          "sizeref": 4851822696.1875,
          "symbol": "circle"
         },
         "mode": "markers",
         "name": "Pakistan",
         "orientation": "v",
         "showlegend": true,
         "type": "scatter",
         "x": [
          209
         ],
         "xaxis": "x",
         "y": [
          74508479407
         ],
         "yaxis": "y"
        },
        {
         "hovertemplate": "<b>%{hovertext}</b><br><br>Country=Indonesia<br>index=%{x}<br>Vaccination=%{marker.size}<extra></extra>",
         "hovertext": [
          "Indonesia"
         ],
         "legendgroup": "Indonesia",
         "marker": {
          "color": "#636efa",
          "size": [
           77948522932
          ],
          "sizemode": "area",
          "sizeref": 4851822696.1875,
          "symbol": "circle"
         },
         "mode": "markers",
         "name": "Indonesia",
         "orientation": "v",
         "showlegend": true,
         "type": "scatter",
         "x": [
          210
         ],
         "xaxis": "x",
         "y": [
          77948522932
         ],
         "yaxis": "y"
        },
        {
         "hovertemplate": "<b>%{hovertext}</b><br><br>Country=England<br>index=%{x}<br>Vaccination=%{marker.size}<extra></extra>",
         "hovertext": [
          "England"
         ],
         "legendgroup": "England",
         "marker": {
          "color": "#EF553B",
          "size": [
           82412239538
          ],
          "sizemode": "area",
          "sizeref": 4851822696.1875,
          "symbol": "circle"
         },
         "mode": "markers",
         "name": "England",
         "orientation": "v",
         "showlegend": true,
         "type": "scatter",
         "x": [
          211
         ],
         "xaxis": "x",
         "y": [
          82412239538
         ],
         "yaxis": "y"
        },
        {
         "hovertemplate": "<b>%{hovertext}</b><br><br>Country=Canada<br>index=%{x}<br>Vaccination=%{marker.size}<extra></extra>",
         "hovertext": [
          "Canada"
         ],
         "legendgroup": "Canada",
         "marker": {
          "color": "#00cc96",
          "size": [
           91270084670
          ],
          "sizemode": "area",
          "sizeref": 4851822696.1875,
          "symbol": "circle"
         },
         "mode": "markers",
         "name": "Canada",
         "orientation": "v",
         "showlegend": true,
         "type": "scatter",
         "x": [
          212
         ],
         "xaxis": "x",
         "y": [
          91270084670
         ],
         "yaxis": "y"
        },
        {
         "hovertemplate": "<b>%{hovertext}</b><br><br>Country=Argentina<br>index=%{x}<br>Vaccination=%{marker.size}<extra></extra>",
         "hovertext": [
          "Argentina"
         ],
         "legendgroup": "Argentina",
         "marker": {
          "color": "#ab63fa",
          "size": [
           93762123135
          ],
          "sizemode": "area",
          "sizeref": 4851822696.1875,
          "symbol": "circle"
         },
         "mode": "markers",
         "name": "Argentina",
         "orientation": "v",
         "showlegend": true,
         "type": "scatter",
         "x": [
          213
         ],
         "xaxis": "x",
         "y": [
          93762123135
         ],
         "yaxis": "y"
        },
        {
         "hovertemplate": "<b>%{hovertext}</b><br><br>Country=France<br>index=%{x}<br>Vaccination=%{marker.size}<extra></extra>",
         "hovertext": [
          "France"
         ],
         "legendgroup": "France",
         "marker": {
          "color": "#FFA15A",
          "size": [
           102952720068
          ],
          "sizemode": "area",
          "sizeref": 4851822696.1875,
          "symbol": "circle"
         },
         "mode": "markers",
         "name": "France",
         "orientation": "v",
         "showlegend": true,
         "type": "scatter",
         "x": [
          214
         ],
         "xaxis": "x",
         "y": [
          102952720068
         ],
         "yaxis": "y"
        },
        {
         "hovertemplate": "<b>%{hovertext}</b><br><br>Country=Germany<br>index=%{x}<br>Vaccination=%{marker.size}<extra></extra>",
         "hovertext": [
          "Germany"
         ],
         "legendgroup": "Germany",
         "marker": {
          "color": "#19d3f3",
          "size": [
           109617918285
          ],
          "sizemode": "area",
          "sizeref": 4851822696.1875,
          "symbol": "circle"
         },
         "mode": "markers",
         "name": "Germany",
         "orientation": "v",
         "showlegend": true,
         "type": "scatter",
         "x": [
          215
         ],
         "xaxis": "x",
         "y": [
          109617918285
         ],
         "yaxis": "y"
        },
        {
         "hovertemplate": "<b>%{hovertext}</b><br><br>Country=Italy<br>index=%{x}<br>Vaccination=%{marker.size}<extra></extra>",
         "hovertext": [
          "Italy"
         ],
         "legendgroup": "Italy",
         "marker": {
          "color": "#FF6692",
          "size": [
           112298543444
          ],
          "sizemode": "area",
          "sizeref": 4851822696.1875,
          "symbol": "circle"
         },
         "mode": "markers",
         "name": "Italy",
         "orientation": "v",
         "showlegend": true,
         "type": "scatter",
         "x": [
          216
         ],
         "xaxis": "x",
         "y": [
          112298543444
         ],
         "yaxis": "y"
        },
        {
         "hovertemplate": "<b>%{hovertext}</b><br><br>Country=Bangladesh<br>index=%{x}<br>Vaccination=%{marker.size}<extra></extra>",
         "hovertext": [
          "Bangladesh"
         ],
         "legendgroup": "Bangladesh",
         "marker": {
          "color": "#B6E880",
          "size": [
           117017716904
          ],
          "sizemode": "area",
          "sizeref": 4851822696.1875,
          "symbol": "circle"
         },
         "mode": "markers",
         "name": "Bangladesh",
         "orientation": "v",
         "showlegend": true,
         "type": "scatter",
         "x": [
          217
         ],
         "xaxis": "x",
         "y": [
          117017716904
         ],
         "yaxis": "y"
        },
        {
         "hovertemplate": "<b>%{hovertext}</b><br><br>Country=Japan<br>index=%{x}<br>Vaccination=%{marker.size}<extra></extra>",
         "hovertext": [
          "Japan"
         ],
         "legendgroup": "Japan",
         "marker": {
          "color": "#FF97FF",
          "size": [
           183641193499
          ],
          "sizemode": "area",
          "sizeref": 4851822696.1875,
          "symbol": "circle"
         },
         "mode": "markers",
         "name": "Japan",
         "orientation": "v",
         "showlegend": true,
         "type": "scatter",
         "x": [
          218
         ],
         "xaxis": "x",
         "y": [
          183641193499
         ],
         "yaxis": "y"
        },
        {
         "hovertemplate": "<b>%{hovertext}</b><br><br>Country=Brazil<br>index=%{x}<br>Vaccination=%{marker.size}<extra></extra>",
         "hovertext": [
          "Brazil"
         ],
         "legendgroup": "Brazil",
         "marker": {
          "color": "#FECB52",
          "size": [
           201902296883
          ],
          "sizemode": "area",
          "sizeref": 4851822696.1875,
          "symbol": "circle"
         },
         "mode": "markers",
         "name": "Brazil",
         "orientation": "v",
         "showlegend": true,
         "type": "scatter",
         "x": [
          219
         ],
         "xaxis": "x",
         "y": [
          201902296883
         ],
         "yaxis": "y"
        },
        {
         "hovertemplate": "<b>%{hovertext}</b><br><br>Country=United States<br>index=%{x}<br>Vaccination=%{marker.size}<extra></extra>",
         "hovertext": [
          "United States"
         ],
         "legendgroup": "United States",
         "marker": {
          "color": "#636efa",
          "size": [
           414280853474
          ],
          "sizemode": "area",
          "sizeref": 4851822696.1875,
          "symbol": "circle"
         },
         "mode": "markers",
         "name": "United States",
         "orientation": "v",
         "showlegend": true,
         "type": "scatter",
         "x": [
          220
         ],
         "xaxis": "x",
         "y": [
          414280853474
         ],
         "yaxis": "y"
        },
        {
         "hovertemplate": "<b>%{hovertext}</b><br><br>Country=China<br>index=%{x}<br>Vaccination=%{marker.size}<extra></extra>",
         "hovertext": [
          "China"
         ],
         "legendgroup": "China",
         "marker": {
          "color": "#EF553B",
          "size": [
           1712764057700
          ],
          "sizemode": "area",
          "sizeref": 4851822696.1875,
          "symbol": "circle"
         },
         "mode": "markers",
         "name": "China",
         "orientation": "v",
         "showlegend": true,
         "type": "scatter",
         "x": [
          221
         ],
         "xaxis": "x",
         "y": [
          1712764057700
         ],
         "yaxis": "y"
        },
        {
         "hovertemplate": "<b>%{hovertext}</b><br><br>Country=India<br>index=%{x}<br>Vaccination=%{marker.size}<extra></extra>",
         "hovertext": [
          "India"
         ],
         "legendgroup": "India",
         "marker": {
          "color": "#00cc96",
          "size": [
           1940729078475
          ],
          "sizemode": "area",
          "sizeref": 4851822696.1875,
          "symbol": "circle"
         },
         "mode": "markers",
         "name": "India",
         "orientation": "v",
         "showlegend": true,
         "type": "scatter",
         "x": [
          222
         ],
         "xaxis": "x",
         "y": [
          1940729078475
         ],
         "yaxis": "y"
        }
       ],
       "layout": {
        "legend": {
         "itemsizing": "constant",
         "title": {
          "text": "Country"
         },
         "tracegroupgap": 0
        },
        "template": {
         "data": {
          "bar": [
           {
            "error_x": {
             "color": "#2a3f5f"
            },
            "error_y": {
             "color": "#2a3f5f"
            },
            "marker": {
             "line": {
              "color": "#E5ECF6",
              "width": 0.5
             },
             "pattern": {
              "fillmode": "overlay",
              "size": 10,
              "solidity": 0.2
             }
            },
            "type": "bar"
           }
          ],
          "barpolar": [
           {
            "marker": {
             "line": {
              "color": "#E5ECF6",
              "width": 0.5
             },
             "pattern": {
              "fillmode": "overlay",
              "size": 10,
              "solidity": 0.2
             }
            },
            "type": "barpolar"
           }
          ],
          "carpet": [
           {
            "aaxis": {
             "endlinecolor": "#2a3f5f",
             "gridcolor": "white",
             "linecolor": "white",
             "minorgridcolor": "white",
             "startlinecolor": "#2a3f5f"
            },
            "baxis": {
             "endlinecolor": "#2a3f5f",
             "gridcolor": "white",
             "linecolor": "white",
             "minorgridcolor": "white",
             "startlinecolor": "#2a3f5f"
            },
            "type": "carpet"
           }
          ],
          "choropleth": [
           {
            "colorbar": {
             "outlinewidth": 0,
             "ticks": ""
            },
            "type": "choropleth"
           }
          ],
          "contour": [
           {
            "colorbar": {
             "outlinewidth": 0,
             "ticks": ""
            },
            "colorscale": [
             [
              0,
              "#0d0887"
             ],
             [
              0.1111111111111111,
              "#46039f"
             ],
             [
              0.2222222222222222,
              "#7201a8"
             ],
             [
              0.3333333333333333,
              "#9c179e"
             ],
             [
              0.4444444444444444,
              "#bd3786"
             ],
             [
              0.5555555555555556,
              "#d8576b"
             ],
             [
              0.6666666666666666,
              "#ed7953"
             ],
             [
              0.7777777777777778,
              "#fb9f3a"
             ],
             [
              0.8888888888888888,
              "#fdca26"
             ],
             [
              1,
              "#f0f921"
             ]
            ],
            "type": "contour"
           }
          ],
          "contourcarpet": [
           {
            "colorbar": {
             "outlinewidth": 0,
             "ticks": ""
            },
            "type": "contourcarpet"
           }
          ],
          "heatmap": [
           {
            "colorbar": {
             "outlinewidth": 0,
             "ticks": ""
            },
            "colorscale": [
             [
              0,
              "#0d0887"
             ],
             [
              0.1111111111111111,
              "#46039f"
             ],
             [
              0.2222222222222222,
              "#7201a8"
             ],
             [
              0.3333333333333333,
              "#9c179e"
             ],
             [
              0.4444444444444444,
              "#bd3786"
             ],
             [
              0.5555555555555556,
              "#d8576b"
             ],
             [
              0.6666666666666666,
              "#ed7953"
             ],
             [
              0.7777777777777778,
              "#fb9f3a"
             ],
             [
              0.8888888888888888,
              "#fdca26"
             ],
             [
              1,
              "#f0f921"
             ]
            ],
            "type": "heatmap"
           }
          ],
          "heatmapgl": [
           {
            "colorbar": {
             "outlinewidth": 0,
             "ticks": ""
            },
            "colorscale": [
             [
              0,
              "#0d0887"
             ],
             [
              0.1111111111111111,
              "#46039f"
             ],
             [
              0.2222222222222222,
              "#7201a8"
             ],
             [
              0.3333333333333333,
              "#9c179e"
             ],
             [
              0.4444444444444444,
              "#bd3786"
             ],
             [
              0.5555555555555556,
              "#d8576b"
             ],
             [
              0.6666666666666666,
              "#ed7953"
             ],
             [
              0.7777777777777778,
              "#fb9f3a"
             ],
             [
              0.8888888888888888,
              "#fdca26"
             ],
             [
              1,
              "#f0f921"
             ]
            ],
            "type": "heatmapgl"
           }
          ],
          "histogram": [
           {
            "marker": {
             "pattern": {
              "fillmode": "overlay",
              "size": 10,
              "solidity": 0.2
             }
            },
            "type": "histogram"
           }
          ],
          "histogram2d": [
           {
            "colorbar": {
             "outlinewidth": 0,
             "ticks": ""
            },
            "colorscale": [
             [
              0,
              "#0d0887"
             ],
             [
              0.1111111111111111,
              "#46039f"
             ],
             [
              0.2222222222222222,
              "#7201a8"
             ],
             [
              0.3333333333333333,
              "#9c179e"
             ],
             [
              0.4444444444444444,
              "#bd3786"
             ],
             [
              0.5555555555555556,
              "#d8576b"
             ],
             [
              0.6666666666666666,
              "#ed7953"
             ],
             [
              0.7777777777777778,
              "#fb9f3a"
             ],
             [
              0.8888888888888888,
              "#fdca26"
             ],
             [
              1,
              "#f0f921"
             ]
            ],
            "type": "histogram2d"
           }
          ],
          "histogram2dcontour": [
           {
            "colorbar": {
             "outlinewidth": 0,
             "ticks": ""
            },
            "colorscale": [
             [
              0,
              "#0d0887"
             ],
             [
              0.1111111111111111,
              "#46039f"
             ],
             [
              0.2222222222222222,
              "#7201a8"
             ],
             [
              0.3333333333333333,
              "#9c179e"
             ],
             [
              0.4444444444444444,
              "#bd3786"
             ],
             [
              0.5555555555555556,
              "#d8576b"
             ],
             [
              0.6666666666666666,
              "#ed7953"
             ],
             [
              0.7777777777777778,
              "#fb9f3a"
             ],
             [
              0.8888888888888888,
              "#fdca26"
             ],
             [
              1,
              "#f0f921"
             ]
            ],
            "type": "histogram2dcontour"
           }
          ],
          "mesh3d": [
           {
            "colorbar": {
             "outlinewidth": 0,
             "ticks": ""
            },
            "type": "mesh3d"
           }
          ],
          "parcoords": [
           {
            "line": {
             "colorbar": {
              "outlinewidth": 0,
              "ticks": ""
             }
            },
            "type": "parcoords"
           }
          ],
          "pie": [
           {
            "automargin": true,
            "type": "pie"
           }
          ],
          "scatter": [
           {
            "fillpattern": {
             "fillmode": "overlay",
             "size": 10,
             "solidity": 0.2
            },
            "type": "scatter"
           }
          ],
          "scatter3d": [
           {
            "line": {
             "colorbar": {
              "outlinewidth": 0,
              "ticks": ""
             }
            },
            "marker": {
             "colorbar": {
              "outlinewidth": 0,
              "ticks": ""
             }
            },
            "type": "scatter3d"
           }
          ],
          "scattercarpet": [
           {
            "marker": {
             "colorbar": {
              "outlinewidth": 0,
              "ticks": ""
             }
            },
            "type": "scattercarpet"
           }
          ],
          "scattergeo": [
           {
            "marker": {
             "colorbar": {
              "outlinewidth": 0,
              "ticks": ""
             }
            },
            "type": "scattergeo"
           }
          ],
          "scattergl": [
           {
            "marker": {
             "colorbar": {
              "outlinewidth": 0,
              "ticks": ""
             }
            },
            "type": "scattergl"
           }
          ],
          "scattermapbox": [
           {
            "marker": {
             "colorbar": {
              "outlinewidth": 0,
              "ticks": ""
             }
            },
            "type": "scattermapbox"
           }
          ],
          "scatterpolar": [
           {
            "marker": {
             "colorbar": {
              "outlinewidth": 0,
              "ticks": ""
             }
            },
            "type": "scatterpolar"
           }
          ],
          "scatterpolargl": [
           {
            "marker": {
             "colorbar": {
              "outlinewidth": 0,
              "ticks": ""
             }
            },
            "type": "scatterpolargl"
           }
          ],
          "scatterternary": [
           {
            "marker": {
             "colorbar": {
              "outlinewidth": 0,
              "ticks": ""
             }
            },
            "type": "scatterternary"
           }
          ],
          "surface": [
           {
            "colorbar": {
             "outlinewidth": 0,
             "ticks": ""
            },
            "colorscale": [
             [
              0,
              "#0d0887"
             ],
             [
              0.1111111111111111,
              "#46039f"
             ],
             [
              0.2222222222222222,
              "#7201a8"
             ],
             [
              0.3333333333333333,
              "#9c179e"
             ],
             [
              0.4444444444444444,
              "#bd3786"
             ],
             [
              0.5555555555555556,
              "#d8576b"
             ],
             [
              0.6666666666666666,
              "#ed7953"
             ],
             [
              0.7777777777777778,
              "#fb9f3a"
             ],
             [
              0.8888888888888888,
              "#fdca26"
             ],
             [
              1,
              "#f0f921"
             ]
            ],
            "type": "surface"
           }
          ],
          "table": [
           {
            "cells": {
             "fill": {
              "color": "#EBF0F8"
             },
             "line": {
              "color": "white"
             }
            },
            "header": {
             "fill": {
              "color": "#C8D4E3"
             },
             "line": {
              "color": "white"
             }
            },
            "type": "table"
           }
          ]
         },
         "layout": {
          "annotationdefaults": {
           "arrowcolor": "#2a3f5f",
           "arrowhead": 0,
           "arrowwidth": 1
          },
          "autotypenumbers": "strict",
          "coloraxis": {
           "colorbar": {
            "outlinewidth": 0,
            "ticks": ""
           }
          },
          "colorscale": {
           "diverging": [
            [
             0,
             "#8e0152"
            ],
            [
             0.1,
             "#c51b7d"
            ],
            [
             0.2,
             "#de77ae"
            ],
            [
             0.3,
             "#f1b6da"
            ],
            [
             0.4,
             "#fde0ef"
            ],
            [
             0.5,
             "#f7f7f7"
            ],
            [
             0.6,
             "#e6f5d0"
            ],
            [
             0.7,
             "#b8e186"
            ],
            [
             0.8,
             "#7fbc41"
            ],
            [
             0.9,
             "#4d9221"
            ],
            [
             1,
             "#276419"
            ]
           ],
           "sequential": [
            [
             0,
             "#0d0887"
            ],
            [
             0.1111111111111111,
             "#46039f"
            ],
            [
             0.2222222222222222,
             "#7201a8"
            ],
            [
             0.3333333333333333,
             "#9c179e"
            ],
            [
             0.4444444444444444,
             "#bd3786"
            ],
            [
             0.5555555555555556,
             "#d8576b"
            ],
            [
             0.6666666666666666,
             "#ed7953"
            ],
            [
             0.7777777777777778,
             "#fb9f3a"
            ],
            [
             0.8888888888888888,
             "#fdca26"
            ],
            [
             1,
             "#f0f921"
            ]
           ],
           "sequentialminus": [
            [
             0,
             "#0d0887"
            ],
            [
             0.1111111111111111,
             "#46039f"
            ],
            [
             0.2222222222222222,
             "#7201a8"
            ],
            [
             0.3333333333333333,
             "#9c179e"
            ],
            [
             0.4444444444444444,
             "#bd3786"
            ],
            [
             0.5555555555555556,
             "#d8576b"
            ],
            [
             0.6666666666666666,
             "#ed7953"
            ],
            [
             0.7777777777777778,
             "#fb9f3a"
            ],
            [
             0.8888888888888888,
             "#fdca26"
            ],
            [
             1,
             "#f0f921"
            ]
           ]
          },
          "colorway": [
           "#636efa",
           "#EF553B",
           "#00cc96",
           "#ab63fa",
           "#FFA15A",
           "#19d3f3",
           "#FF6692",
           "#B6E880",
           "#FF97FF",
           "#FECB52"
          ],
          "font": {
           "color": "#2a3f5f"
          },
          "geo": {
           "bgcolor": "white",
           "lakecolor": "white",
           "landcolor": "#E5ECF6",
           "showlakes": true,
           "showland": true,
           "subunitcolor": "white"
          },
          "hoverlabel": {
           "align": "left"
          },
          "hovermode": "closest",
          "mapbox": {
           "style": "light"
          },
          "paper_bgcolor": "white",
          "plot_bgcolor": "#E5ECF6",
          "polar": {
           "angularaxis": {
            "gridcolor": "white",
            "linecolor": "white",
            "ticks": ""
           },
           "bgcolor": "#E5ECF6",
           "radialaxis": {
            "gridcolor": "white",
            "linecolor": "white",
            "ticks": ""
           }
          },
          "scene": {
           "xaxis": {
            "backgroundcolor": "#E5ECF6",
            "gridcolor": "white",
            "gridwidth": 2,
            "linecolor": "white",
            "showbackground": true,
            "ticks": "",
            "zerolinecolor": "white"
           },
           "yaxis": {
            "backgroundcolor": "#E5ECF6",
            "gridcolor": "white",
            "gridwidth": 2,
            "linecolor": "white",
            "showbackground": true,
            "ticks": "",
            "zerolinecolor": "white"
           },
           "zaxis": {
            "backgroundcolor": "#E5ECF6",
            "gridcolor": "white",
            "gridwidth": 2,
            "linecolor": "white",
            "showbackground": true,
            "ticks": "",
            "zerolinecolor": "white"
           }
          },
          "shapedefaults": {
           "line": {
            "color": "#2a3f5f"
           }
          },
          "ternary": {
           "aaxis": {
            "gridcolor": "white",
            "linecolor": "white",
            "ticks": ""
           },
           "baxis": {
            "gridcolor": "white",
            "linecolor": "white",
            "ticks": ""
           },
           "bgcolor": "#E5ECF6",
           "caxis": {
            "gridcolor": "white",
            "linecolor": "white",
            "ticks": ""
           }
          },
          "title": {
           "x": 0.05
          },
          "xaxis": {
           "automargin": true,
           "gridcolor": "white",
           "linecolor": "white",
           "ticks": "",
           "title": {
            "standoff": 15
           },
           "zerolinecolor": "white",
           "zerolinewidth": 2
          },
          "yaxis": {
           "automargin": true,
           "gridcolor": "white",
           "linecolor": "white",
           "ticks": "",
           "title": {
            "standoff": 15
           },
           "zerolinecolor": "white",
           "zerolinewidth": 2
          }
         }
        },
        "title": {
         "text": "Total Vaccine administered by each country"
        },
        "xaxis": {
         "anchor": "y",
         "domain": [
          0,
          1
         ],
         "showticklabels": false,
         "title": {
          "text": "Country"
         }
        },
        "yaxis": {
         "anchor": "x",
         "domain": [
          0,
          1
         ],
         "range": [
          10000000000,
          null
         ],
         "title": {
          "text": "Vaccination"
         }
        }
       }
      }
     },
     "metadata": {},
     "output_type": "display_data"
    }
   ],
   "source": [
    "row = queryDB(queries[3])\n",
    "\n",
    "df = pd.DataFrame(row, columns=['Country', 'URL', 'Vaccination'])\n",
    "\n",
    "# Create bubble chart\n",
    "fig = px.scatter(\n",
    "    df,\n",
    "    y='Vaccination',\n",
    "    size='Vaccination',\n",
    "    color='Country',\n",
    "    hover_name='Country',\n",
    "    title='Total Vaccine administered by each country'\n",
    ")\n",
    "\n",
    "# Remove x-axis tick labels\n",
    "fig.update_xaxes(showticklabels=False)\n",
    "# Set title for the x-axis\n",
    "fig.update_xaxes(title_text='Country')\n",
    "fig.update_yaxes(range=[1e10, None]) \n",
    "\n",
    "# Show the plot\n",
    "fig.show()"
   ]
  },
  {
   "cell_type": "code",
   "execution_count": 8,
   "metadata": {},
   "outputs": [
    {
     "data": {
      "application/vnd.plotly.v1+json": {
       "config": {
        "plotlyServerURL": "https://plot.ly"
       },
       "data": [
        {
         "hovertemplate": "Country=United States<br>Date=%{x}<br>Count=%{y}<extra></extra>",
         "legendgroup": "United States",
         "line": {
          "color": "#636efa",
          "dash": "solid"
         },
         "marker": {
          "symbol": "circle"
         },
         "mode": "lines",
         "name": "United States",
         "orientation": "v",
         "showlegend": true,
         "type": "scatter",
         "x": [
          "2022-01",
          "2022-02",
          "2022-03",
          "2022-04",
          "2022-05",
          "2022-06",
          "2022-07",
          "2022-08",
          "2022-09",
          "2022-10",
          "2022-11",
          "2022-12"
         ],
         "xaxis": "x",
         "y": [
          6600697602,
          6077229508,
          6795486776,
          6621916071,
          6884154907,
          6693229825,
          6942374319,
          6972177316,
          6774563616,
          7044514583,
          6854696077,
          7107965988
         ],
         "yaxis": "y"
        },
        {
         "hovertemplate": "Country=Wales<br>Date=%{x}<br>Count=%{y}<extra></extra>",
         "legendgroup": "Wales",
         "line": {
          "color": "#EF553B",
          "dash": "solid"
         },
         "marker": {
          "symbol": "circle"
         },
         "mode": "lines",
         "name": "Wales",
         "orientation": "v",
         "showlegend": true,
         "type": "scatter",
         "x": [
          "2022-01",
          "2022-02",
          "2022-03",
          "2022-04",
          "2022-05",
          "2022-06",
          "2022-07",
          "2022-08",
          "2022-09",
          "2022-10",
          "2022-11",
          "2022-12"
         ],
         "xaxis": "x",
         "y": [
          72520299,
          66583095,
          74219507,
          72215488,
          72524729,
          72722039,
          75530280,
          75960111,
          73720387,
          76343178,
          71566403,
          42009052
         ],
         "yaxis": "y"
        },
        {
         "hovertemplate": "Country=Canada<br>Date=%{x}<br>Count=%{y}<extra></extra>",
         "legendgroup": "Canada",
         "line": {
          "color": "#00cc96",
          "dash": "solid"
         },
         "marker": {
          "symbol": "circle"
         },
         "mode": "lines",
         "name": "Canada",
         "orientation": "v",
         "showlegend": true,
         "type": "scatter",
         "x": [
          "2022-01",
          "2022-02",
          "2022-03",
          "2022-04",
          "2022-05",
          "2022-06",
          "2022-07",
          "2022-08",
          "2022-09",
          "2022-10",
          "2022-11",
          "2022-12"
         ],
         "xaxis": "x",
         "y": [
          921332759,
          857165749,
          962730585,
          843766566,
          972005756,
          817146990,
          818313846,
          977097794,
          946890386,
          979956004,
          918311330,
          761178717
         ],
         "yaxis": "y"
        },
        {
         "hovertemplate": "Country=Denmark<br>Date=%{x}<br>Count=%{y}<extra></extra>",
         "legendgroup": "Denmark",
         "line": {
          "color": "#ab63fa",
          "dash": "solid"
         },
         "marker": {
          "symbol": "circle"
         },
         "mode": "lines",
         "name": "Denmark",
         "orientation": "v",
         "showlegend": true,
         "type": "scatter",
         "x": [
          "2022-01",
          "2022-02",
          "2022-03",
          "2022-04",
          "2022-05",
          "2022-06",
          "2022-07",
          "2022-08",
          "2022-09",
          "2022-10",
          "2022-11",
          "2022-12"
         ],
         "xaxis": "x",
         "y": [
          18550648,
          18751187,
          18785873,
          23500111,
          18810542,
          18820420,
          23535589,
          18832559,
          23544253,
          18838458,
          18840992,
          23553706
         ],
         "yaxis": "y"
        }
       ],
       "layout": {
        "legend": {
         "title": {
          "text": "Country"
         },
         "tracegroupgap": 0
        },
        "template": {
         "data": {
          "bar": [
           {
            "error_x": {
             "color": "#2a3f5f"
            },
            "error_y": {
             "color": "#2a3f5f"
            },
            "marker": {
             "line": {
              "color": "#E5ECF6",
              "width": 0.5
             },
             "pattern": {
              "fillmode": "overlay",
              "size": 10,
              "solidity": 0.2
             }
            },
            "type": "bar"
           }
          ],
          "barpolar": [
           {
            "marker": {
             "line": {
              "color": "#E5ECF6",
              "width": 0.5
             },
             "pattern": {
              "fillmode": "overlay",
              "size": 10,
              "solidity": 0.2
             }
            },
            "type": "barpolar"
           }
          ],
          "carpet": [
           {
            "aaxis": {
             "endlinecolor": "#2a3f5f",
             "gridcolor": "white",
             "linecolor": "white",
             "minorgridcolor": "white",
             "startlinecolor": "#2a3f5f"
            },
            "baxis": {
             "endlinecolor": "#2a3f5f",
             "gridcolor": "white",
             "linecolor": "white",
             "minorgridcolor": "white",
             "startlinecolor": "#2a3f5f"
            },
            "type": "carpet"
           }
          ],
          "choropleth": [
           {
            "colorbar": {
             "outlinewidth": 0,
             "ticks": ""
            },
            "type": "choropleth"
           }
          ],
          "contour": [
           {
            "colorbar": {
             "outlinewidth": 0,
             "ticks": ""
            },
            "colorscale": [
             [
              0,
              "#0d0887"
             ],
             [
              0.1111111111111111,
              "#46039f"
             ],
             [
              0.2222222222222222,
              "#7201a8"
             ],
             [
              0.3333333333333333,
              "#9c179e"
             ],
             [
              0.4444444444444444,
              "#bd3786"
             ],
             [
              0.5555555555555556,
              "#d8576b"
             ],
             [
              0.6666666666666666,
              "#ed7953"
             ],
             [
              0.7777777777777778,
              "#fb9f3a"
             ],
             [
              0.8888888888888888,
              "#fdca26"
             ],
             [
              1,
              "#f0f921"
             ]
            ],
            "type": "contour"
           }
          ],
          "contourcarpet": [
           {
            "colorbar": {
             "outlinewidth": 0,
             "ticks": ""
            },
            "type": "contourcarpet"
           }
          ],
          "heatmap": [
           {
            "colorbar": {
             "outlinewidth": 0,
             "ticks": ""
            },
            "colorscale": [
             [
              0,
              "#0d0887"
             ],
             [
              0.1111111111111111,
              "#46039f"
             ],
             [
              0.2222222222222222,
              "#7201a8"
             ],
             [
              0.3333333333333333,
              "#9c179e"
             ],
             [
              0.4444444444444444,
              "#bd3786"
             ],
             [
              0.5555555555555556,
              "#d8576b"
             ],
             [
              0.6666666666666666,
              "#ed7953"
             ],
             [
              0.7777777777777778,
              "#fb9f3a"
             ],
             [
              0.8888888888888888,
              "#fdca26"
             ],
             [
              1,
              "#f0f921"
             ]
            ],
            "type": "heatmap"
           }
          ],
          "heatmapgl": [
           {
            "colorbar": {
             "outlinewidth": 0,
             "ticks": ""
            },
            "colorscale": [
             [
              0,
              "#0d0887"
             ],
             [
              0.1111111111111111,
              "#46039f"
             ],
             [
              0.2222222222222222,
              "#7201a8"
             ],
             [
              0.3333333333333333,
              "#9c179e"
             ],
             [
              0.4444444444444444,
              "#bd3786"
             ],
             [
              0.5555555555555556,
              "#d8576b"
             ],
             [
              0.6666666666666666,
              "#ed7953"
             ],
             [
              0.7777777777777778,
              "#fb9f3a"
             ],
             [
              0.8888888888888888,
              "#fdca26"
             ],
             [
              1,
              "#f0f921"
             ]
            ],
            "type": "heatmapgl"
           }
          ],
          "histogram": [
           {
            "marker": {
             "pattern": {
              "fillmode": "overlay",
              "size": 10,
              "solidity": 0.2
             }
            },
            "type": "histogram"
           }
          ],
          "histogram2d": [
           {
            "colorbar": {
             "outlinewidth": 0,
             "ticks": ""
            },
            "colorscale": [
             [
              0,
              "#0d0887"
             ],
             [
              0.1111111111111111,
              "#46039f"
             ],
             [
              0.2222222222222222,
              "#7201a8"
             ],
             [
              0.3333333333333333,
              "#9c179e"
             ],
             [
              0.4444444444444444,
              "#bd3786"
             ],
             [
              0.5555555555555556,
              "#d8576b"
             ],
             [
              0.6666666666666666,
              "#ed7953"
             ],
             [
              0.7777777777777778,
              "#fb9f3a"
             ],
             [
              0.8888888888888888,
              "#fdca26"
             ],
             [
              1,
              "#f0f921"
             ]
            ],
            "type": "histogram2d"
           }
          ],
          "histogram2dcontour": [
           {
            "colorbar": {
             "outlinewidth": 0,
             "ticks": ""
            },
            "colorscale": [
             [
              0,
              "#0d0887"
             ],
             [
              0.1111111111111111,
              "#46039f"
             ],
             [
              0.2222222222222222,
              "#7201a8"
             ],
             [
              0.3333333333333333,
              "#9c179e"
             ],
             [
              0.4444444444444444,
              "#bd3786"
             ],
             [
              0.5555555555555556,
              "#d8576b"
             ],
             [
              0.6666666666666666,
              "#ed7953"
             ],
             [
              0.7777777777777778,
              "#fb9f3a"
             ],
             [
              0.8888888888888888,
              "#fdca26"
             ],
             [
              1,
              "#f0f921"
             ]
            ],
            "type": "histogram2dcontour"
           }
          ],
          "mesh3d": [
           {
            "colorbar": {
             "outlinewidth": 0,
             "ticks": ""
            },
            "type": "mesh3d"
           }
          ],
          "parcoords": [
           {
            "line": {
             "colorbar": {
              "outlinewidth": 0,
              "ticks": ""
             }
            },
            "type": "parcoords"
           }
          ],
          "pie": [
           {
            "automargin": true,
            "type": "pie"
           }
          ],
          "scatter": [
           {
            "fillpattern": {
             "fillmode": "overlay",
             "size": 10,
             "solidity": 0.2
            },
            "type": "scatter"
           }
          ],
          "scatter3d": [
           {
            "line": {
             "colorbar": {
              "outlinewidth": 0,
              "ticks": ""
             }
            },
            "marker": {
             "colorbar": {
              "outlinewidth": 0,
              "ticks": ""
             }
            },
            "type": "scatter3d"
           }
          ],
          "scattercarpet": [
           {
            "marker": {
             "colorbar": {
              "outlinewidth": 0,
              "ticks": ""
             }
            },
            "type": "scattercarpet"
           }
          ],
          "scattergeo": [
           {
            "marker": {
             "colorbar": {
              "outlinewidth": 0,
              "ticks": ""
             }
            },
            "type": "scattergeo"
           }
          ],
          "scattergl": [
           {
            "marker": {
             "colorbar": {
              "outlinewidth": 0,
              "ticks": ""
             }
            },
            "type": "scattergl"
           }
          ],
          "scattermapbox": [
           {
            "marker": {
             "colorbar": {
              "outlinewidth": 0,
              "ticks": ""
             }
            },
            "type": "scattermapbox"
           }
          ],
          "scatterpolar": [
           {
            "marker": {
             "colorbar": {
              "outlinewidth": 0,
              "ticks": ""
             }
            },
            "type": "scatterpolar"
           }
          ],
          "scatterpolargl": [
           {
            "marker": {
             "colorbar": {
              "outlinewidth": 0,
              "ticks": ""
             }
            },
            "type": "scatterpolargl"
           }
          ],
          "scatterternary": [
           {
            "marker": {
             "colorbar": {
              "outlinewidth": 0,
              "ticks": ""
             }
            },
            "type": "scatterternary"
           }
          ],
          "surface": [
           {
            "colorbar": {
             "outlinewidth": 0,
             "ticks": ""
            },
            "colorscale": [
             [
              0,
              "#0d0887"
             ],
             [
              0.1111111111111111,
              "#46039f"
             ],
             [
              0.2222222222222222,
              "#7201a8"
             ],
             [
              0.3333333333333333,
              "#9c179e"
             ],
             [
              0.4444444444444444,
              "#bd3786"
             ],
             [
              0.5555555555555556,
              "#d8576b"
             ],
             [
              0.6666666666666666,
              "#ed7953"
             ],
             [
              0.7777777777777778,
              "#fb9f3a"
             ],
             [
              0.8888888888888888,
              "#fdca26"
             ],
             [
              1,
              "#f0f921"
             ]
            ],
            "type": "surface"
           }
          ],
          "table": [
           {
            "cells": {
             "fill": {
              "color": "#EBF0F8"
             },
             "line": {
              "color": "white"
             }
            },
            "header": {
             "fill": {
              "color": "#C8D4E3"
             },
             "line": {
              "color": "white"
             }
            },
            "type": "table"
           }
          ]
         },
         "layout": {
          "annotationdefaults": {
           "arrowcolor": "#2a3f5f",
           "arrowhead": 0,
           "arrowwidth": 1
          },
          "autotypenumbers": "strict",
          "coloraxis": {
           "colorbar": {
            "outlinewidth": 0,
            "ticks": ""
           }
          },
          "colorscale": {
           "diverging": [
            [
             0,
             "#8e0152"
            ],
            [
             0.1,
             "#c51b7d"
            ],
            [
             0.2,
             "#de77ae"
            ],
            [
             0.3,
             "#f1b6da"
            ],
            [
             0.4,
             "#fde0ef"
            ],
            [
             0.5,
             "#f7f7f7"
            ],
            [
             0.6,
             "#e6f5d0"
            ],
            [
             0.7,
             "#b8e186"
            ],
            [
             0.8,
             "#7fbc41"
            ],
            [
             0.9,
             "#4d9221"
            ],
            [
             1,
             "#276419"
            ]
           ],
           "sequential": [
            [
             0,
             "#0d0887"
            ],
            [
             0.1111111111111111,
             "#46039f"
            ],
            [
             0.2222222222222222,
             "#7201a8"
            ],
            [
             0.3333333333333333,
             "#9c179e"
            ],
            [
             0.4444444444444444,
             "#bd3786"
            ],
            [
             0.5555555555555556,
             "#d8576b"
            ],
            [
             0.6666666666666666,
             "#ed7953"
            ],
            [
             0.7777777777777778,
             "#fb9f3a"
            ],
            [
             0.8888888888888888,
             "#fdca26"
            ],
            [
             1,
             "#f0f921"
            ]
           ],
           "sequentialminus": [
            [
             0,
             "#0d0887"
            ],
            [
             0.1111111111111111,
             "#46039f"
            ],
            [
             0.2222222222222222,
             "#7201a8"
            ],
            [
             0.3333333333333333,
             "#9c179e"
            ],
            [
             0.4444444444444444,
             "#bd3786"
            ],
            [
             0.5555555555555556,
             "#d8576b"
            ],
            [
             0.6666666666666666,
             "#ed7953"
            ],
            [
             0.7777777777777778,
             "#fb9f3a"
            ],
            [
             0.8888888888888888,
             "#fdca26"
            ],
            [
             1,
             "#f0f921"
            ]
           ]
          },
          "colorway": [
           "#636efa",
           "#EF553B",
           "#00cc96",
           "#ab63fa",
           "#FFA15A",
           "#19d3f3",
           "#FF6692",
           "#B6E880",
           "#FF97FF",
           "#FECB52"
          ],
          "font": {
           "color": "#2a3f5f"
          },
          "geo": {
           "bgcolor": "white",
           "lakecolor": "white",
           "landcolor": "#E5ECF6",
           "showlakes": true,
           "showland": true,
           "subunitcolor": "white"
          },
          "hoverlabel": {
           "align": "left"
          },
          "hovermode": "closest",
          "mapbox": {
           "style": "light"
          },
          "paper_bgcolor": "white",
          "plot_bgcolor": "#E5ECF6",
          "polar": {
           "angularaxis": {
            "gridcolor": "white",
            "linecolor": "white",
            "ticks": ""
           },
           "bgcolor": "#E5ECF6",
           "radialaxis": {
            "gridcolor": "white",
            "linecolor": "white",
            "ticks": ""
           }
          },
          "scene": {
           "xaxis": {
            "backgroundcolor": "#E5ECF6",
            "gridcolor": "white",
            "gridwidth": 2,
            "linecolor": "white",
            "showbackground": true,
            "ticks": "",
            "zerolinecolor": "white"
           },
           "yaxis": {
            "backgroundcolor": "#E5ECF6",
            "gridcolor": "white",
            "gridwidth": 2,
            "linecolor": "white",
            "showbackground": true,
            "ticks": "",
            "zerolinecolor": "white"
           },
           "zaxis": {
            "backgroundcolor": "#E5ECF6",
            "gridcolor": "white",
            "gridwidth": 2,
            "linecolor": "white",
            "showbackground": true,
            "ticks": "",
            "zerolinecolor": "white"
           }
          },
          "shapedefaults": {
           "line": {
            "color": "#2a3f5f"
           }
          },
          "ternary": {
           "aaxis": {
            "gridcolor": "white",
            "linecolor": "white",
            "ticks": ""
           },
           "baxis": {
            "gridcolor": "white",
            "linecolor": "white",
            "ticks": ""
           },
           "bgcolor": "#E5ECF6",
           "caxis": {
            "gridcolor": "white",
            "linecolor": "white",
            "ticks": ""
           }
          },
          "title": {
           "x": 0.05
          },
          "xaxis": {
           "automargin": true,
           "gridcolor": "white",
           "linecolor": "white",
           "ticks": "",
           "title": {
            "standoff": 15
           },
           "zerolinecolor": "white",
           "zerolinewidth": 2
          },
          "yaxis": {
           "automargin": true,
           "gridcolor": "white",
           "linecolor": "white",
           "ticks": "",
           "title": {
            "standoff": 15
           },
           "zerolinecolor": "white",
           "zerolinewidth": 2
          }
         }
        },
        "title": {
         "text": "People fully vaccinated"
        },
        "xaxis": {
         "anchor": "y",
         "domain": [
          0,
          1
         ],
         "title": {
          "text": "Months"
         }
        },
        "yaxis": {
         "anchor": "x",
         "domain": [
          0,
          1
         ],
         "title": {
          "text": "Count in millions"
         },
         "type": "log"
        }
       }
      }
     },
     "metadata": {},
     "output_type": "display_data"
    }
   ],
   "source": [
    "row = queryDB(queries[4])\n",
    "\n",
    "# Convert the list of tuples to a DataFrame\n",
    "df = pd.DataFrame(row, columns=['Date', 'United States', 'Wales', 'Canada', 'Denmark'])\n",
    "\n",
    "# Melt the DataFrame to have the 'Date' column as x-axis, and 'value' as y-axis, and 'variable' as line groups\n",
    "df_melted = pd.melt(df, id_vars=['Date'], var_name='Country', value_name='Value')\n",
    "\n",
    "# Create line chart\n",
    "fig = px.line(\n",
    "    df_melted,\n",
    "    x='Date',\n",
    "    y='Value',\n",
    "    color='Country',\n",
    "    title='People fully vaccinated',\n",
    "    labels={'Value': 'Count'}\n",
    ")\n",
    "\n",
    "fig.update_yaxes(type='log') \n",
    "fig.update_xaxes(title_text='Months')\n",
    "fig.update_yaxes(title_text='Count in millions')\n",
    "# Show the plot\n",
    "fig.show()"
   ]
  }
 ],
 "metadata": {
  "kernelspec": {
   "display_name": "myenv",
   "language": "python",
   "name": "python3"
  },
  "language_info": {
   "codemirror_mode": {
    "name": "ipython",
    "version": 3
   },
   "file_extension": ".py",
   "mimetype": "text/x-python",
   "name": "python",
   "nbconvert_exporter": "python",
   "pygments_lexer": "ipython3",
   "version": "3.11.7"
  }
 },
 "nbformat": 4,
 "nbformat_minor": 2
}
